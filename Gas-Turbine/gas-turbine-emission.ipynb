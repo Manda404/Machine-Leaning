{
    "cells": [
     {
      "cell_type": "code",
      "execution_count": 3,
      "id": "d9ef31ea",
      "metadata": {},
      "outputs": [],
      "source": [
       "import time\n",
       "import logging\n",
       "import numpy as np\n",
       "import pandas as pd\n",
       "import seaborn as sns\n",
       "from time import time\n",
       "from pathlib import Path\n",
       "from pprint import pprint\n",
       "from pandas import read_csv\n",
       "from datetime import datetime\n",
       "import matplotlib.pyplot as plt\n",
       "\n",
       "# File system manangement\n",
       "import os\n",
       "# Suppress warnings \n",
       "import warnings\n",
       "warnings.filterwarnings('ignore')\n",
       "\n",
       "# Sklearn processing\n",
       "from sklearn.pipeline import Pipeline\n",
       "from sklearn.impute import SimpleImputer\n",
       "from sklearn.compose import ColumnTransformer\n",
       "from sklearn.model_selection import RandomizedSearchCV, GridSearchCV\n",
       "from sklearn.model_selection import train_test_split,cross_val_score\n",
       "from sklearn.preprocessing import MinMaxScaler,StandardScaler, OneHotEncoder\n",
       "from sklearn.model_selection import  StratifiedShuffleSplit,ShuffleSplit,RepeatedStratifiedKFold,StratifiedKFold\n",
       "\n",
       "# Sklearn regression algorithms regression models.\n",
       "from time import time\n",
       "from sklearn.svm import SVR\n",
       "from sklearn.tree import DecisionTreeRegressor\n",
       "from sklearn.neighbors import KNeighborsRegressor\n",
       "from sklearn.linear_model import LogisticRegression\n",
       "from sklearn.linear_model import LinearRegression,SGDRegressor,Ridge,LinearRegression,Lasso\n",
       "from sklearn.ensemble import ExtraTreesRegressor, RandomForestRegressor, GradientBoostingRegressor\n",
       "\n",
       "# Sklearn regression algorithms\n",
       "# Sklearn regression model evaluation functions\n",
       "from sklearn.metrics import mean_squared_error, r2_score, mean_absolute_error\n",
       "from sklearn.metrics import explained_variance_score,mean_absolute_error,r2_score"
      ]
     },
     {
      "cell_type": "markdown",
      "id": "65397af6",
      "metadata": {},
      "source": [
       "# About Dataset:\n",
       "A gas turbine is largely used to generate electricity around the world. In recent years, the awareness of greenhouse gases is raised and the emissions of the gas- turbines are controlled at certain limits according to the environmental regulations.\n",
       "\n",
       "Aim of Homework : Building a machine learning model that can precisely estimate the volume of carbon monoxide (CO) emitted by a gas turbine is the goal of this project."
      ]
     },
     {
      "cell_type": "markdown",
      "id": "992429d9",
      "metadata": {},
      "source": [
       "# Load Gas-Turbine CO Emission Data:"
      ]
     },
     {
      "cell_type": "code",
      "execution_count": 4,
      "id": "5e4cc3ee",
      "metadata": {},
      "outputs": [
       {
        "name": "stdout",
        "output_type": "stream",
        "text": [
         "Shape of the original dataset: \n",
         "development.shape : (24488, 15)\n",
         "evaluation.shape  : (12245, 15)\n",
         "show original dataset: \n",
         "-------------------------------development-------------------------------------------\n",
         "development.shape :\n",
         "           ID  YEAR                 LOC       SN       AT      AP      AH  \\\n",
         "24483  24483  2020               Italy  0903XTR  10.0100  1012.7  86.073   \n",
         "24484  24484  2018               Italy  0903XTR   2.4820  1029.7  87.328   \n",
         "24485  24485  2022  Republic of Cyprus  0903XTR  27.4130  1012.4  59.496   \n",
         "24486  24486  2019             Hungary  0903XTR   7.7894  1024.0  71.915   \n",
         "24487  24487  2021      Czech Republic  0903XTR  29.7920  1012.4  65.672   \n",
         "\n",
         "         AFDP    GTEP     TIT     TAT     TEY     CDP     NOX      CO  \n",
         "24483  2.9555  24.000  1084.0  549.94  133.32  11.849  75.936  1.6001  \n",
         "24484  4.7165  33.295  1100.0  529.85  166.64  14.197  49.785  2.2105  \n",
         "24485  3.1360  20.205  1059.6  549.85  110.77  10.635  54.447  2.0096  \n",
         "24486  2.3622  20.006  1051.0  546.86  115.39  10.717       -  5.0668  \n",
         "24487  4.2359  26.346  1093.7  550.07  133.67  12.278  65.957  1.8983  \n",
         "-------------------------------evaluation--------------------------------------------\n",
         "evaluation.shape :\n",
         "       ID  YEAR                 LOC       SN      AT      AP       AH    AFDP  \\\n",
         "0  24488  2022  Republic of Cyprus  0903XTR  24.276  1013.3   67.643  3.9119   \n",
         "1  24489  2022             Estonia  0903XTR  10.100  1015.9  100.150  3.5681   \n",
         "2  24490  2020             Estonia  0903XTR  26.283  1015.1   58.595  4.9541   \n",
         "3  24491  2018             Denmark  0903XTR   7.811  1015.9   73.624  2.5919   \n",
         "4  24492  2021              Latvia  0903XTR  25.138  1010.3   82.853  3.6168   \n",
         "\n",
         "     GTEP     TIT     TAT     TEY     CDP     NOX  CO  \n",
         "0  26.056  1093.8  549.73  134.44  12.163       -  -1  \n",
         "1  19.167  1049.8  545.97  110.74  10.415       -  -1  \n",
         "2  25.910  1092.9  549.89  133.21  12.271       -  -1  \n",
         "3  21.351  1036.2  543.81  107.77  10.355       -  -1  \n",
         "4  20.117  1057.8  550.01  109.80  10.500  51.366  -1  \n",
         "data.shape of all data  : (36733, 15)\n"
        ]
       }
      ],
      "source": [
       "path1,path2 = \"development.csv\", \"evaluation.csv\"\n",
       "# load all data from file that we will use for your homework\n",
       "dev_tsv = pd.read_csv(path1,sep=',')\n",
       "ev_tsv  = pd.read_csv(path2,sep=',')\n",
       "#Add target columns in ev_tsv\n",
       "ev_tsv[\"CO\"] = -1\n",
       "\n",
       "print(\"Shape of the original dataset: \")\n",
       "print('development.shape :' ,dev_tsv.shape)\n",
       "print('evaluation.shape  :' ,ev_tsv.shape)\n",
       "\n",
       "print(\"show original dataset: \")\n",
       "print(\"-------------------------------development-------------------------------------------\")\n",
       "print('development.shape :\\n',dev_tsv.tail())\n",
       "print(\"-------------------------------evaluation--------------------------------------------\")\n",
       "print('evaluation.shape :\\n', ev_tsv.head())\n",
       "\n",
       "# load all data from file that we will use for your homework\n",
       "data_ev = ev_tsv.copy()\n",
       "data_dev = dev_tsv.copy()\n",
       "\n",
       "data = pd.concat([data_dev,data_ev],sort=True)\n",
       "# resetting index\n",
       "data.reset_index(inplace = True,drop=True)\n",
       "# sort by index labels\n",
       "data.sort_index(axis = 0,inplace = True) \n",
       "#\n",
       "print('data.shape of all data  :' ,data.shape)"
      ]
     },
     {
      "cell_type": "markdown",
      "id": "283795a8",
      "metadata": {},
      "source": [
       "# Exploratory Data Analysis"
      ]
     },
     {
      "cell_type": "code",
      "execution_count": 6,
      "id": "ebf00077",
      "metadata": {},
      "outputs": [
       {
        "name": "stdout",
        "output_type": "stream",
        "text": [
         "The number of '-' in the dataset: 12268\n",
         "list of features in the dataset: ['ID', 'YEAR', 'LOC', 'SN', 'AT', 'AP', 'AH', 'AFDP', 'GTEP', 'TIT', 'TAT', 'TEY', 'CDP', 'NOX', 'CO']\n"
        ]
       }
      ],
      "source": [
       "data_train = dev_tsv.copy()\n",
       "print(\"The number of '-' in the dataset:\",data_train[data_train[\"NOX\"]=='-'].shape[0])\n",
       "#Replace '-' by '0' in the dataset.\n",
       "data_train[\"NOX\"] = data_train[\"NOX\"].str.replace('-','0')\n",
       "#Transform '0' in float.\n",
       "data_train[\"NOX\"] = data_train[\"NOX\"].astype(float)\n",
       "print(\"list of features in the dataset:\", list(data_train.columns))"
      ]
     },
     {
      "cell_type": "markdown",
      "id": "39cede9e",
      "metadata": {},
      "source": [
       "# Check Any Missing values and Handling Missing values"
      ]
     },
     {
      "cell_type": "code",
      "execution_count": 42,
      "id": "238048fb",
      "metadata": {},
      "outputs": [
       {
        "data": {
         "text/html": [
          "<div>\n",
          "<style scoped>\n",
          "    .dataframe tbody tr th:only-of-type {\n",
          "        vertical-align: middle;\n",
          "    }\n",
          "\n",
          "    .dataframe tbody tr th {\n",
          "        vertical-align: top;\n",
          "    }\n",
          "\n",
          "    .dataframe thead th {\n",
          "        text-align: right;\n",
          "    }\n",
          "</style>\n",
          "<table border=\"1\" class=\"dataframe\">\n",
          "  <thead>\n",
          "    <tr style=\"text-align: right;\">\n",
          "      <th></th>\n",
          "      <th>Total</th>\n",
          "      <th>Percent(%)</th>\n",
          "    </tr>\n",
          "  </thead>\n",
          "  <tbody>\n",
          "    <tr>\n",
          "      <th>ID</th>\n",
          "      <td>0</td>\n",
          "      <td>0.0</td>\n",
          "    </tr>\n",
          "    <tr>\n",
          "      <th>YEAR</th>\n",
          "      <td>0</td>\n",
          "      <td>0.0</td>\n",
          "    </tr>\n",
          "    <tr>\n",
          "      <th>LOC</th>\n",
          "      <td>0</td>\n",
          "      <td>0.0</td>\n",
          "    </tr>\n",
          "    <tr>\n",
          "      <th>SN</th>\n",
          "      <td>0</td>\n",
          "      <td>0.0</td>\n",
          "    </tr>\n",
          "    <tr>\n",
          "      <th>AT</th>\n",
          "      <td>0</td>\n",
          "      <td>0.0</td>\n",
          "    </tr>\n",
          "    <tr>\n",
          "      <th>AP</th>\n",
          "      <td>0</td>\n",
          "      <td>0.0</td>\n",
          "    </tr>\n",
          "    <tr>\n",
          "      <th>AH</th>\n",
          "      <td>0</td>\n",
          "      <td>0.0</td>\n",
          "    </tr>\n",
          "    <tr>\n",
          "      <th>AFDP</th>\n",
          "      <td>0</td>\n",
          "      <td>0.0</td>\n",
          "    </tr>\n",
          "    <tr>\n",
          "      <th>GTEP</th>\n",
          "      <td>0</td>\n",
          "      <td>0.0</td>\n",
          "    </tr>\n",
          "    <tr>\n",
          "      <th>TIT</th>\n",
          "      <td>0</td>\n",
          "      <td>0.0</td>\n",
          "    </tr>\n",
          "    <tr>\n",
          "      <th>TAT</th>\n",
          "      <td>0</td>\n",
          "      <td>0.0</td>\n",
          "    </tr>\n",
          "    <tr>\n",
          "      <th>TEY</th>\n",
          "      <td>0</td>\n",
          "      <td>0.0</td>\n",
          "    </tr>\n",
          "    <tr>\n",
          "      <th>CDP</th>\n",
          "      <td>0</td>\n",
          "      <td>0.0</td>\n",
          "    </tr>\n",
          "    <tr>\n",
          "      <th>NOX</th>\n",
          "      <td>0</td>\n",
          "      <td>0.0</td>\n",
          "    </tr>\n",
          "    <tr>\n",
          "      <th>CO</th>\n",
          "      <td>0</td>\n",
          "      <td>0.0</td>\n",
          "    </tr>\n",
          "  </tbody>\n",
          "</table>\n",
          "</div>"
         ],
         "text/plain": [
          "      Total  Percent(%)\n",
          "ID        0         0.0\n",
          "YEAR      0         0.0\n",
          "LOC       0         0.0\n",
          "SN        0         0.0\n",
          "AT        0         0.0\n",
          "AP        0         0.0\n",
          "AH        0         0.0\n",
          "AFDP      0         0.0\n",
          "GTEP      0         0.0\n",
          "TIT       0         0.0\n",
          "TAT       0         0.0\n",
          "TEY       0         0.0\n",
          "CDP       0         0.0\n",
          "NOX       0         0.0\n",
          "CO        0         0.0"
         ]
        },
        "metadata": {},
        "output_type": "display_data"
       }
      ],
      "source": [
       "total = data_train.isnull().sum().sort_values(ascending=False)\n",
       "percent =total/len(data)*100\n",
       "news=pd.concat([total,percent], axis=1, keys=['Total','Percent(%)'])\n",
       "display(news)"
      ]
     },
     {
      "cell_type": "markdown",
      "id": "37fc9cbd",
      "metadata": {},
      "source": [
       "# Separate numeric and categorical variables"
      ]
     },
     {
      "cell_type": "code",
      "execution_count": 43,
      "id": "61588d4e",
      "metadata": {},
      "outputs": [
       {
        "name": "stdout",
        "output_type": "stream",
        "text": [
         "Part 1. Numeric\n",
         "Numeric columns:  ['YEAR', 'AT', 'AP', 'AH', 'AFDP', 'GTEP', 'TIT', 'TAT', 'TEY', 'CDP', 'NOX', 'CO']\n",
         "Shape of the numeric variables : (24488, 12)\n",
         "\n",
         "Part 2. Categorical\n",
         "Categorical columns:  ['LOC', 'SN']\n",
         "Shape of the categorical variables  : (24488, 2)\n"
        ]
       }
      ],
      "source": [
       "data_train.drop(['ID'], axis=1,inplace=True)\n",
       "#Separate numeric and categorical variables\n",
       "numeric_data = data_train.select_dtypes(include=[np.number])\n",
       "categorical_data = data_train.select_dtypes(exclude=[np.number])\n",
       "\n",
       "print(\"Part 1. Numeric\")\n",
       "print('Numeric columns: ',list(numeric_data.columns))\n",
       "print('Shape of the numeric variables :' ,numeric_data.shape)\n",
       "print(\"\")\n",
       "print(\"Part 2. Categorical\")\n",
       "print('Categorical columns: ',list(categorical_data.columns))\n",
       "print('Shape of the categorical variables  :' ,categorical_data.shape)"
      ]
     },
     {
      "cell_type": "markdown",
      "id": "5ab09744",
      "metadata": {},
      "source": [
       "# Detection and treatment of outliers in numerical data"
      ]
     },
     {
      "cell_type": "code",
      "execution_count": 44,
      "id": "bd0979da",
      "metadata": {},
      "outputs": [],
      "source": [
       "#Method 1: Detecting and Treating Outliers\n",
       "#Removing outliers from data using Python and Pandas\n",
       "def get_iqr_values_Specifying_quartile(df_in, col_name,first_quartile,third_quartile):\n",
       "    median = df_in[col_name].median()\n",
       "    q1 = df_in[col_name].quantile(first_quartile) # xth percentile / 1st quartile\n",
       "    q3 = df_in[col_name].quantile(third_quartile) # yth percentile / 3rd quartile\n",
       "    iqr = q3-q1 #Interquartile range\n",
       "    minimum  = q1-1.5*iqr # The minimum value or the |- marker in the box plot\n",
       "    maximum = q3+1.5*iqr # The maximum value or the -| marker in the box plot\n",
       "    return median, q1, q3, iqr, minimum, maximum\n",
       "\n",
       "def get_iqr_text_Specifying_quartile(df_in, col_name,first_quartile,third_quartile):\n",
       "    median, q1, q3, iqr, minimum, maximum = get_iqr_values_Specifying_quartile(df_in, col_name,first_quartile,third_quartile)\n",
       "    text = f\"median={median:.2f}, q1={q1:.2f}, q3={q3:.2f}, iqr={iqr:.2f}, minimum={minimum:.2f}, maximum={maximum:.2f}\"\n",
       "    return text\n",
       "\n",
       "def remove_outliers_Specifying_quartile(df_in, col_name,first_quartile,third_quartile):\n",
       "    _, _, _, _, minimum, maximum = get_iqr_values_Specifying_quartile(df_in, col_name,first_quartile,third_quartile)\n",
       "    df_out = df_in.loc[(df_in[col_name] > minimum) & (df_in[col_name] < maximum)]\n",
       "    return df_out\n",
       "\n",
       "def count_outliers_Specifying_quartile(df_in, col_name,first_quartile,third_quartile):\n",
       "    _, _, _, _, minimum, maximum = get_iqr_values_Specifying_quartile(df_in, col_name,first_quartile,third_quartile)\n",
       "    df_outliers = df_in.loc[(df_in[col_name] <= minimum) | (df_in[col_name] >= maximum)]\n",
       "    return df_outliers.shape[0]\n",
       "\n",
       "def box_and_whisker_Specifying_quartile(df_in, col_name,first_quartile,third_quartile):\n",
       "    title = get_iqr_text_Specifying_quartile(df_in, col_name,first_quartile,third_quartile)\n",
       "    #plt.figure(figsize=(5, 3))\n",
       "    plt.figure(figsize=(16,8))\n",
       "    sns.boxplot(df_in[col_name])\n",
       "    plt.title(title)\n",
       "    plt.show()\n",
       "    \n",
       "def Compare_the_plots_after_trimming(df_old,df_new,col_name,first_quartile,third_quartile):\n",
       "    plt.figure(figsize=(16,8))\n",
       "    plt.subplot(2,2,1)\n",
       "    sns.distplot(df_old[col_name])\n",
       "    plt.subplot(2,2,2)\n",
       "    sns.boxplot(df_old[col_name])\n",
       "    plt.subplot(2,2,3)\n",
       "    sns.distplot(df_new[col_name])\n",
       "    plt.subplot(2,2,4)\n",
       "    sns.boxplot(df_new[col_name])\n",
       "    plt.show()\n",
       "\n",
       "#Replacing Outliers with Median Values\n",
       "def Replacing_Outliers_Median_Specifying_quartile(df_in, col_name,first_quartile,third_quartile):\n",
       "    median, _, _, _, minimum, maximum = get_iqr_values_Specifying_quartile(df_in, col_name,first_quartile,third_quartile)\n",
       "    mask = (df_in[col_name] < minimum) | (df_in[col_name] > maximum)\n",
       "    list_of_outliers = list(df_in[mask][col_name].values)\n",
       "    df_in[col_name] = df_in[col_name].replace(list_of_outliers,median)\n",
       "    return df_in\n",
       "\n",
       "#Replacing Outliers with Mean Values\n",
       "def Replacing_Outliers_Mean_Specifying_quartile(df_in, col_name,first_quartile,third_quartile):\n",
       "    _, _, _, _, minimum, maximum = get_iqr_values_Specifying_quartile(df_in, col_name,first_quartile,third_quartile)\n",
       "    mask = (df_in[col_name] < minimum) | (df_in[col_name] > maximum)\n",
       "    list_of_outliers = list(df_in[mask][col_name].values)\n",
       "    mean = df_in[col_name].mean()\n",
       "    df_in[col_name] = df_in[col_name].replace(list_of_outliers,mean)\n",
       "    return df_in\n",
       "\n",
       "#Replacing Outliers with nan Values\n",
       "def Replace_Outliers_with_nan_Specifying_quartile(df_in, col_name,first_quartile,third_quartile):\n",
       "    median, q1, q3, iqr, minimum, maximum = get_iqr_values_Specifying_quartile(df_in, col_name,first_quartile,third_quartile)\n",
       "    df_in.loc[df_in[col_name] < minimum,col_name] = np.nan\n",
       "    df_in.loc[df_in[col_name] > maximum,col_name] = np.nan\n",
       "    return df_in\n",
       "\n",
       "def Finding_Outliers_using_plots(df_in,col_name):\n",
       "    plt.figure(figsize=(16,8))\n",
       "    plt.subplot(2,2,1)\n",
       "    sns.distplot(df_in[col_name])\n",
       "    plt.subplot(2,2,2)\n",
       "    sns.boxplot(df_in[col_name])\n",
       "    plt.show()\n",
       "    \n",
       "import plotly.express as px\n",
       "def Box_Plot_with_plotly_express(df_in,col_in):\n",
       "    fig = px.box(df_in[col_in])\n",
       "    fig.show()\n",
       "\n",
       "#Method 2: Detection_and_Remove_Outliers:\n",
       "#This function remove of outliers records which present an outlier.\n",
       "def Removing_Outlier_Using_IQR(X_in):\n",
       "    features = X_in.columns\n",
       "    to_clean = X_in.copy()\n",
       "    indices = [x for x in to_clean.index]    \n",
       "    out_indexlist = []\n",
       "        \n",
       "    for col in features:\n",
       "       \n",
       "        #We are using percentile \n",
       "        Q1 = np.percentile(to_clean[col], 25.)\n",
       "        Q3 = np.percentile(to_clean[col], 75.)\n",
       "        \n",
       "        cut_off = (Q3 - Q1) * 1.5\n",
       "        upper, lower = Q3 + cut_off, Q1 - cut_off\n",
       "                \n",
       "        outliers_index = to_clean[col][(to_clean[col] < lower) | (to_clean[col] > upper)].index.tolist()\n",
       "        outliers = to_clean[col][(to_clean[col] < lower) | (to_clean[col] > upper)].values        \n",
       "        out_indexlist.extend(outliers_index)\n",
       "        \n",
       "    #using set to remove duplicates\n",
       "    out_indexlist = list(set(out_indexlist))\n",
       "    clean_data = np.setdiff1d(indices,out_indexlist)\n",
       "    return X_in.loc[clean_data]"
      ]
     },
     {
      "cell_type": "code",
      "execution_count": 45,
      "id": "7cd76c9f",
      "metadata": {
       "scrolled": true
      },
      "outputs": [
       {
        "data": {
         "text/html": [
          "<div>\n",
          "<style scoped>\n",
          "    .dataframe tbody tr th:only-of-type {\n",
          "        vertical-align: middle;\n",
          "    }\n",
          "\n",
          "    .dataframe tbody tr th {\n",
          "        vertical-align: top;\n",
          "    }\n",
          "\n",
          "    .dataframe thead th {\n",
          "        text-align: right;\n",
          "    }\n",
          "</style>\n",
          "<table border=\"1\" class=\"dataframe\">\n",
          "  <thead>\n",
          "    <tr style=\"text-align: right;\">\n",
          "      <th></th>\n",
          "      <th>Name_of_columns</th>\n",
          "      <th>number_outliers</th>\n",
          "      <th>number_not_outliers</th>\n",
          "      <th>Percentale_of_outliers(%)</th>\n",
          "    </tr>\n",
          "  </thead>\n",
          "  <tbody>\n",
          "    <tr>\n",
          "      <th>6</th>\n",
          "      <td>TAT</td>\n",
          "      <td>3337</td>\n",
          "      <td>21151</td>\n",
          "      <td>13.627</td>\n",
          "    </tr>\n",
          "    <tr>\n",
          "      <th>9</th>\n",
          "      <td>CO</td>\n",
          "      <td>1681</td>\n",
          "      <td>22807</td>\n",
          "      <td>6.865</td>\n",
          "    </tr>\n",
          "    <tr>\n",
          "      <th>1</th>\n",
          "      <td>AP</td>\n",
          "      <td>468</td>\n",
          "      <td>24020</td>\n",
          "      <td>1.911</td>\n",
          "    </tr>\n",
          "    <tr>\n",
          "      <th>3</th>\n",
          "      <td>AFDP</td>\n",
          "      <td>368</td>\n",
          "      <td>24120</td>\n",
          "      <td>1.503</td>\n",
          "    </tr>\n",
          "    <tr>\n",
          "      <th>5</th>\n",
          "      <td>TIT</td>\n",
          "      <td>207</td>\n",
          "      <td>24281</td>\n",
          "      <td>0.845</td>\n",
          "    </tr>\n",
          "    <tr>\n",
          "      <th>2</th>\n",
          "      <td>AH</td>\n",
          "      <td>92</td>\n",
          "      <td>24396</td>\n",
          "      <td>0.376</td>\n",
          "    </tr>\n",
          "    <tr>\n",
          "      <th>7</th>\n",
          "      <td>TEY</td>\n",
          "      <td>25</td>\n",
          "      <td>24463</td>\n",
          "      <td>0.102</td>\n",
          "    </tr>\n",
          "    <tr>\n",
          "      <th>4</th>\n",
          "      <td>GTEP</td>\n",
          "      <td>8</td>\n",
          "      <td>24480</td>\n",
          "      <td>0.033</td>\n",
          "    </tr>\n",
          "    <tr>\n",
          "      <th>8</th>\n",
          "      <td>CDP</td>\n",
          "      <td>8</td>\n",
          "      <td>24480</td>\n",
          "      <td>0.033</td>\n",
          "    </tr>\n",
          "    <tr>\n",
          "      <th>0</th>\n",
          "      <td>AT</td>\n",
          "      <td>1</td>\n",
          "      <td>24487</td>\n",
          "      <td>0.004</td>\n",
          "    </tr>\n",
          "  </tbody>\n",
          "</table>\n",
          "</div>"
         ],
         "text/plain": [
          "  Name_of_columns  number_outliers  number_not_outliers  \\\n",
          "6             TAT             3337                21151   \n",
          "9              CO             1681                22807   \n",
          "1              AP              468                24020   \n",
          "3            AFDP              368                24120   \n",
          "5             TIT              207                24281   \n",
          "2              AH               92                24396   \n",
          "7             TEY               25                24463   \n",
          "4            GTEP                8                24480   \n",
          "8             CDP                8                24480   \n",
          "0              AT                1                24487   \n",
          "\n",
          "   Percentale_of_outliers(%)  \n",
          "6                     13.627  \n",
          "9                      6.865  \n",
          "1                      1.911  \n",
          "3                      1.503  \n",
          "5                      0.845  \n",
          "2                      0.376  \n",
          "7                      0.102  \n",
          "4                      0.033  \n",
          "8                      0.033  \n",
          "0                      0.004  "
         ]
        },
        "execution_count": 45,
        "metadata": {},
        "output_type": "execute_result"
       }
      ],
      "source": [
       "dim = numeric_data.shape[0]\n",
       "number_outliers = []\n",
       "number_no_outliers = []\n",
       "percentale_of_outliers = []\n",
       "columns_with_outliers = []\n",
       "\n",
       "for feature_name in numeric_data.columns.tolist():\n",
       "    numbers = count_outliers_Specifying_quartile(numeric_data, feature_name,0.25,0.75)\n",
       "    if numbers > 0:\n",
       "        columns_with_outliers.append(feature_name)\n",
       "        number_outliers.append(numbers)\n",
       "        percentale_of_outliers.append(np.round((numbers/dim)*100,3))\n",
       "        number_no_outliers.append(dim - numbers)\n",
       "# initialize data of lists.\n",
       "informations = {\n",
       "        'Name_of_columns':columns_with_outliers,\n",
       "        'number_outliers':number_outliers,\n",
       "        'number_not_outliers': number_no_outliers,\n",
       "        'Percentale_of_outliers(%)':percentale_of_outliers\n",
       "       }\n",
       "# Create DataFrame\n",
       "df_informations = pd.DataFrame(informations)\n",
       "  \n",
       "# Print the output.\n",
       "df_informations.sort_values(by=['Percentale_of_outliers(%)'], inplace=True,ascending=False)\n",
       "df_informations"
      ]
     },
     {
      "cell_type": "code",
      "execution_count": 46,
      "id": "d16c4a89",
      "metadata": {},
      "outputs": [],
      "source": [
       "#We will try the two mwthod and take which gives the best score.\n",
       "#Treat_by_nan : we will replace all outliers by nan and we will apply KNN for Imputation to Handling Missing values.\n",
       "Treat_by_nan = numeric_data.copy()"
      ]
     },
     {
      "cell_type": "code",
      "execution_count": 47,
      "id": "e73403c0",
      "metadata": {},
      "outputs": [],
      "source": [
       "q1, q3 = 0.25,0.75\n",
       "for feature_name in numeric_data.columns.tolist():\n",
       "    #Replacing Outliers with nan Values\n",
       "    Treat_by_nan = Replace_Outliers_with_nan_Specifying_quartile(Treat_by_nan, feature_name,q1, q3)"
      ]
     },
     {
      "cell_type": "code",
      "execution_count": 48,
      "id": "d05a495e",
      "metadata": {},
      "outputs": [
       {
        "name": "stdout",
        "output_type": "stream",
        "text": [
         "Minimum R2 score: 0.810214353126592 at K = 0\n",
         "Maximun R2 score: 0.8397657798604339 at K = 5\n",
         "KNN model implementation\n",
         "Missing values in Dataset:  0\n"
        ]
       },
       {
        "data": {
         "image/png": "[encoded data removed]",
         "text/plain": [
          "<Figure size 720x432 with 1 Axes>"
         ]
        },
        "metadata": {
         "needs_background": "light"
        },
        "output_type": "display_data"
       }
      ],
      "source": [
       "#(a) K-Nearest Neighbors(KNN) for Imputation\n",
       "from sklearn.impute import KNNImputer\n",
       "num_cols = Treat_by_nan.columns.tolist()\n",
       "R2score = []\n",
       "Remove = 'CO'\n",
       "threshold = 0.2\n",
       "for i in range(1,10):\n",
       "    # Initializing KNNImputer\n",
       "    knn = KNNImputer(n_neighbors = i)\n",
       "    X = Treat_by_nan.copy()\n",
       "    X = pd.DataFrame(knn.fit_transform(X), columns = num_cols)\n",
       "    y =  X['CO']\n",
       "    X.drop(Remove, axis = 1,inplace=True)\n",
       "    X_train, X_test, y_train, y_test = train_test_split(X,y,test_size=threshold,shuffle=True, random_state=42)\n",
       "    model = ExtraTreesRegressor()\n",
       "    model.fit(X_train,y_train)\n",
       "    y_pred = model.predict(X_test)\n",
       "    R2score.append(r2_score(y_test, y_pred))\n",
       "\n",
       "plt.figure(figsize=(10,6))\n",
       "plt.plot(range(1,10),R2score,color='blue', linestyle='dashed', \n",
       "         marker='o',markerfacecolor='red', markersize=10)\n",
       "plt.title('R2 vs. K Value')\n",
       "plt.xlabel('K')\n",
       "plt.ylabel('R2')\n",
       "print(\"Minimum R2 score:\",min(R2score),\"at K =\",R2score.index(min(R2score)))\n",
       "print(\"Maximun R2 score:\",max(R2score),\"at K =\",R2score.index(max(R2score)))\n",
       "\n",
       "print(\"KNN model implementation\")\n",
       "# Initializing KNNImputer\n",
       "best_k=R2score.index(max(R2score))+1\n",
       "knn = KNNImputer(n_neighbors = best_k)\n",
       "X = knn.fit_transform(Treat_by_nan)\n",
       "Treat_by_nan = pd.DataFrame(X, columns = num_cols)\n",
       "#Check For Missing Values\n",
       "print(\"Missing values in Dataset: \", Treat_by_nan.isnull().sum().sum())"
      ]
     },
     {
      "cell_type": "code",
      "execution_count": 49,
      "id": "bbd04bb3",
      "metadata": {},
      "outputs": [
       {
        "name": "stdout",
        "output_type": "stream",
        "text": [
         "(24488, 12)\n",
         "(19141, 12)\n",
         "5347\n"
        ]
       }
      ],
      "source": [
       "#Treat_by_index: here we will samply removing index with outliers. \n",
       "Treat_by_index = numeric_data.copy()\n",
       "Treat_by_index = Removing_Outlier_Using_IQR(Treat_by_index)\n",
       "print(numeric_data.shape)\n",
       "print(Treat_by_index.shape)\n",
       "print(numeric_data.shape[0]-Treat_by_index.shape[0])"
      ]
     },
     {
      "cell_type": "markdown",
      "id": "1b4aa1e4",
      "metadata": {},
      "source": [
       "# Evaluate th best method:"
      ]
     },
     {
      "cell_type": "code",
      "execution_count": 51,
      "id": "471dba56",
      "metadata": {},
      "outputs": [
       {
        "name": "stdout",
        "output_type": "stream",
        "text": [
         "We are evaluating method 1 :\n",
         "x_train (19590, 11)\n",
         "y_train (19590,)\n",
         "x_valid (4898, 11)\n",
         "y_valid (4898,)\n",
         "\n",
         "\n",
         ">>>> without holdout submission: ExtraTreesRegressor()\n",
         "\tTraining time: 4.380s\n",
         "\tPrediction time: 0.109s\n",
         "\tExplained variance: 0.840234452605077\n",
         "\tMean absolute error: 0.34716142312485376\n",
         "\tMean square error:  0.25891419424079326\n",
         "\tRoot mean square error:  0.5088361172723427\n",
         "\tR2 score: 0.8402265442028376\n",
         "\n",
         "\n",
         ">>>> without holdout submission: RandomForestRegressor()\n",
         "\tTraining time: 10.898s\n",
         "\tPrediction time: 0.098s\n",
         "\tExplained variance: 0.8322716271623722\n",
         "\tMean absolute error: 0.3569333693764802\n",
         "\tMean square error:  0.27180902681807423\n",
         "\tRoot mean square error:  0.5213530730877821\n",
         "\tR2 score: 0.8322692672028676\n",
         "Ending of Evaluation\n",
         "\n",
         "We are evaluating method 2 :\n",
         "x_train (15312, 11)\n",
         "y_train (15312,)\n",
         "x_valid (3829, 11)\n",
         "y_valid (3829,)\n",
         "\n",
         "\n",
         ">>>> without holdout submission: ExtraTreesRegressor()\n",
         "\tTraining time: 3.360s\n",
         "\tPrediction time: 0.088s\n",
         "\tExplained variance: 0.8151576736987547\n",
         "\tMean absolute error: 0.34013488409845916\n",
         "\tMean square error:  0.2530279567772851\n",
         "\tRoot mean square error:  0.5030188433620406\n",
         "\tR2 score: 0.8151344428345647\n",
         "\n",
         "\n",
         ">>>> without holdout submission: RandomForestRegressor()\n",
         "\tTraining time: 8.557s\n",
         "\tPrediction time: 0.078s\n",
         "\tExplained variance: 0.7989186893424362\n",
         "\tMean absolute error: 0.3542367388793419\n",
         "\tMean square error:  0.2752519511898276\n",
         "\tRoot mean square error:  0.5246445951211426\n",
         "\tR2 score: 0.798897299864895\n",
         "Ending of Evaluation\n",
         "\n"
        ]
       }
      ],
      "source": [
       "methods = [Treat_by_nan,Treat_by_index]\n",
       "Remove=['CO']\n",
       "for data,m in zip(methods,[\"method 1\",\"method 2\"]):\n",
       "    print(f\"We are evaluating {m} :\")\n",
       "    X = data.copy()\n",
       "    X,y,threshold = X.drop(Remove, axis = 1),data['CO'], 0.2\n",
       "    X_train, X_test, y_train, y_test = train_test_split(X,y,test_size=threshold,shuffle=True, random_state=42)\n",
       "    print ('x_train',X_train.shape)\n",
       "    print ('y_train',y_train.shape)\n",
       "    print ('x_valid',X_test.shape)\n",
       "    print ('y_valid',y_test.shape)\n",
       "    regressors = [ExtraTreesRegressor(),RandomForestRegressor()]\n",
       "    for model in regressors:\n",
       "        start = time()\n",
       "        model.fit(X_train, y_train)\n",
       "        train_time = time() - start\n",
       "        start = time()\n",
       "        y_pred = model.predict(X_test)\n",
       "        predict_time = time()-start    \n",
       "        print(\"\\n\\n>>>> without holdout submission:\",model)\n",
       "        print(\"\\tTraining time: %0.3fs\" % train_time)\n",
       "        print(\"\\tPrediction time: %0.3fs\" % predict_time)\n",
       "        print(\"\\tExplained variance:\", explained_variance_score(y_test, y_pred))\n",
       "        print(\"\\tMean absolute error:\", mean_absolute_error(y_test, y_pred))\n",
       "        print(\"\\tMean square error: \", mean_squared_error(y_test, y_pred))\n",
       "        print(\"\\tRoot mean square error: \", np.sqrt(mean_squared_error(y_test, y_pred)))\n",
       "        print(\"\\tR2 score:\", r2_score(y_test, y_pred))\n",
       "    print(\"Ending of Evaluation\")\n",
       "    print()"
      ]
     },
     {
      "cell_type": "raw",
      "id": "5ab17934",
      "metadata": {},
      "source": [
       "Base on the result we can say that th best method to handle outliers is method 1.\n",
       "For the next step we will use only the Treat_by_index"
      ]
     },
     {
      "cell_type": "markdown",
      "id": "7c63c39c",
      "metadata": {},
      "source": [
       "# Find Correlation between features and target "
      ]
     },
     {
      "cell_type": "code",
      "execution_count": 55,
      "id": "8c63231c",
      "metadata": {},
      "outputs": [
       {
        "data": {
         "image/png": "[encoded data removed]",
         "text/plain": [
          "<Figure size 864x576 with 2 Axes>"
         ]
        },
        "metadata": {
         "needs_background": "light"
        },
        "output_type": "display_data"
       }
      ],
      "source": [
       "#Show Correlation between numericals features and target\n",
       "#Lets print the correlation matrix to see interdependence between the features Pair plot\n",
       "sns.heatmap(Treat_by_nan.corr(),annot=True,cmap='RdYlGn',linewidths=0.2,annot_kws={'size':9})\n",
       "fig=plt.gcf()\n",
       "fig.set_size_inches(12,8)\n",
       "plt.xticks(fontsize=9)\n",
       "plt.yticks(fontsize=9)\n",
       "plt.show()"
      ]
     },
     {
      "cell_type": "markdown",
      "id": "44de9b25",
      "metadata": {},
      "source": [
       "# Dealing with Multicollinearity"
      ]
     },
     {
      "cell_type": "code",
      "execution_count": 98,
      "id": "93665036",
      "metadata": {},
      "outputs": [
       {
        "name": "stdout",
        "output_type": "stream",
        "text": [
         "\n",
         "['GTEP', 'TIT', 'TAT', 'TEY', 'CDP', 'CO']\n"
        ]
       },
       {
        "data": {
         "image/png": "[encoded data removed]",
         "text/plain": [
          "<Figure size 864x576 with 2 Axes>"
         ]
        },
        "metadata": {
         "needs_background": "light"
        },
        "output_type": "display_data"
       }
      ],
      "source": [
       "cor_matrix = Treat_by_nan.corr().abs()\n",
       "#print(cor_matrix)\n",
       "\n",
       "upper_tri = cor_matrix.where(np.triu(np.ones(cor_matrix.shape),k=1).astype(np.bool))\n",
       "#print(upper_tri)\n",
       "\n",
       "to_drop = [column for column in upper_tri.columns if any(upper_tri[column] > 0.60)]\n",
       "print(); print(to_drop)\n",
       "\n",
       "df1 = Treat_by_nan.drop(['GTEP', 'TIT', 'TAT', 'TEY', 'CDP'], axis=1)\n",
       "#Show Correlation between numericals features and target\n",
       "#Lets print the correlation matrix to see interdependence between the features Pair plot\n",
       "sns.heatmap(df1.corr(),annot=True,cmap='RdYlGn',linewidths=0.2,annot_kws={'size':9})\n",
       "fig=plt.gcf()\n",
       "fig.set_size_inches(12,8)\n",
       "plt.xticks(fontsize=9)\n",
       "plt.yticks(fontsize=9)\n",
       "plt.show()"
      ]
     },
     {
      "cell_type": "code",
      "execution_count": 99,
      "id": "3f06c721",
      "metadata": {},
      "outputs": [
       {
        "name": "stdout",
        "output_type": "stream",
        "text": [
         "x_train (17141, 6)\n",
         "y_train (17141,)\n",
         "x_valid (7347, 6)\n",
         "y_valid (7347,)\n",
         "\n",
         "\n",
         ">>>> without holdout submission: ExtraTreesRegressor()\n",
         "\tTraining time: 3.041s\n",
         "\tPrediction time: 0.178s\n",
         "\tExplained variance: 0.7429534824072275\n",
         "\tMean absolute error: 0.4406052411232294\n",
         "\tMean square error:  0.41564117975604825\n",
         "\tRoot mean square error:  0.6447023962698202\n",
         "\tR2 score: 0.7429534377779416\n",
         "\n",
         "\n",
         "\n",
         ">>>> without holdout submission: RandomForestRegressor()\n",
         "\tTraining time: 5.836s\n",
         "\tPrediction time: 0.136s\n",
         "\tExplained variance: 0.7226840131447609\n",
         "\tMean absolute error: 0.45748856121396486\n",
         "\tMean square error:  0.4484168588397955\n",
         "\tRoot mean square error:  0.669639349829291\n",
         "\tR2 score: 0.7226838493846177\n",
         "\n"
        ]
       }
      ],
      "source": [
       "# Remove Correlated columns \n",
       "X = Treat_by_nan.copy()\n",
       "X = X.drop(to_drop, axis = 1)\n",
       "y = Treat_by_nan['CO']\n",
       "threshold = 0.3\n",
       "X_train, X_test, y_train, y_test = train_test_split(X,y,test_size=threshold,shuffle=True, random_state=42)\n",
       "print ('x_train',X_train.shape)\n",
       "print ('y_train',y_train.shape)\n",
       "print ('x_valid',X_test.shape)\n",
       "print ('y_valid',y_test.shape)\n",
       "for model in regressors:\n",
       "    start = time()\n",
       "    model.fit(X_train, y_train)\n",
       "    train_time = time() - start\n",
       "    start = time()\n",
       "    y_pred = model.predict(X_test)\n",
       "    predict_time = time()-start    \n",
       "    print(\"\\n\\n>>>> without holdout submission:\",model)\n",
       "    print(\"\\tTraining time: %0.3fs\" % train_time)\n",
       "    print(\"\\tPrediction time: %0.3fs\" % predict_time)\n",
       "    print(\"\\tExplained variance:\", explained_variance_score(y_test, y_pred))\n",
       "    print(\"\\tMean absolute error:\", mean_absolute_error(y_test, y_pred))\n",
       "    print(\"\\tMean square error: \", mean_squared_error(y_test, y_pred))\n",
       "    print(\"\\tRoot mean square error: \", np.sqrt(mean_squared_error(y_test, y_pred)))\n",
       "    print(\"\\tR2 score:\", r2_score(y_test, y_pred))\n",
       "    print()"
      ]
     },
     {
      "cell_type": "markdown",
      "id": "67de6eac",
      "metadata": {},
      "source": [
       "# Principal Component Analysis"
      ]
     },
     {
      "cell_type": "code",
      "execution_count": 108,
      "id": "4537a245",
      "metadata": {},
      "outputs": [
       {
        "name": "stdout",
        "output_type": "stream",
        "text": [
         "1. Method\n",
         "1 Components capture 86.0% of variability of the data\n"
        ]
       },
       {
        "data": {
         "image/png": "[encoded data removed]",
         "text/plain": [
          "<Figure size 432x288 with 1 Axes>"
         ]
        },
        "metadata": {
         "needs_background": "light"
        },
        "output_type": "display_data"
       },
       {
        "name": "stdout",
        "output_type": "stream",
        "text": [
         "2. Method\n"
        ]
       },
       {
        "data": {
         "image/png": "[encoded data removed]",
         "text/plain": [
          "<Figure size 720x360 with 1 Axes>"
         ]
        },
        "metadata": {
         "needs_background": "light"
        },
        "output_type": "display_data"
       }
      ],
      "source": [
       "from sklearn.decomposition import PCA\n",
       "select_feat = ['GTEP', 'TIT', 'TAT', 'TEY', 'CDP']\n",
       "Treat_Mult = Treat_by_nan[select_feat].copy()\n",
       "std = StandardScaler()\n",
       "transformed = std.fit_transform(Treat_Mult)\n",
       "pca = PCA().fit(transformed)\n",
       "np_cum = np.cumsum(pca.explained_variance_ratio_)\n",
       "print(\"1. Method\")\n",
       "df_cum = pd.DataFrame({'Component':[i for i in range(1,np_cum.shape[0]+1)],'cum_explained_variance_ratio':np_cum})\n",
       "filter_df = df_cum[df_cum.cum_explained_variance_ratio>=0.8]\n",
       "component = int(filter_df.Component.iloc[0])\n",
       "cum_var = float(filter_df.cum_explained_variance_ratio.iloc[0])\n",
       "print(f'{component} Components capture {round(cum_var,4)*100}% of variability of the data')\n",
       "# Determine explained variance using explained_variance_ration_ attribute.\n",
       "exp_var_pca = pca.explained_variance_ratio_\n",
       "# Cumulative sum of eigenvalues; This will be used to create step plot\n",
       "# for visualizing the variance explained by each principal component.\n",
       "cum_sum_eigenvalues = np.cumsum(exp_var_pca)\n",
       "# Create the visualization plot\n",
       "plt.bar(range(0,len(exp_var_pca)), exp_var_pca, alpha=0.5, align='center', label='Individual explained variance')\n",
       "plt.step(range(0,len(cum_sum_eigenvalues)), cum_sum_eigenvalues, where='mid',label='Cumulative explained variance')\n",
       "plt.ylabel('Explained variance ratio')\n",
       "plt.xlabel('Principal component index')\n",
       "plt.legend(loc='best')\n",
       "plt.tight_layout()\n",
       "plt.show()\n",
       "\n",
       "print(\"2. Method\")\n",
       "import scikitplot as skplt\n",
       "skplt.decomposition.plot_pca_component_variance(pca,figsize=(10, 5))\n",
       "plt.show()"
      ]
     },
     {
      "cell_type": "code",
      "execution_count": 105,
      "id": "6fbd32b7",
      "metadata": {},
      "outputs": [
       {
        "name": "stdout",
        "output_type": "stream",
        "text": [
         "original shape:    (24488, 5)\n",
         "transformed shape: (24488, 1)\n"
        ]
       }
      ],
      "source": [
       "new_dim=1\n",
       "std = StandardScaler()\n",
       "transformed = std.fit_transform(Treat_Mult)\n",
       "pca = PCA(n_components=new_dim)\n",
       "X_pca = pca.fit_transform(transformed)\n",
       "df_pca = pd.DataFrame(data=X_pca, columns=[\"X_%s\" % x for x in range(new_dim)])\n",
       "print(\"original shape:   \", Treat_Mult.shape)\n",
       "print(\"transformed shape:\", df_pca.shape)\n",
       "#display(df_pca.head(3))"
      ]
     },
     {
      "cell_type": "code",
      "execution_count": 109,
      "id": "b013022f",
      "metadata": {},
      "outputs": [
       {
        "data": {
         "image/png": "[encoded data removed]",
         "text/plain": [
          "<Figure size 864x576 with 2 Axes>"
         ]
        },
        "metadata": {
         "needs_background": "light"
        },
        "output_type": "display_data"
       },
       {
        "name": "stdout",
        "output_type": "stream",
        "text": [
         "\n",
         "\n",
         ">>>> without holdout submission: ExtraTreesRegressor()\n",
         "\tTraining time: 2.789s\n",
         "\tPrediction time: 0.146s\n",
         "\tExplained variance: 0.8260121594671485\n",
         "\tMean absolute error: 0.3588570587634998\n",
         "\tMean square error:  0.2813363386184541\n",
         "\tRoot mean square error:  0.5304114804738431\n",
         "\tR2 score: 0.8260120936225348\n",
         "\n",
         "\n",
         "\n",
         ">>>> without holdout submission: RandomForestRegressor()\n",
         "\tTraining time: 6.157s\n",
         "\tPrediction time: 0.129s\n",
         "\tExplained variance: 0.8222540154322739\n",
         "\tMean absolute error: 0.36508560121762623\n",
         "\tMean square error:  0.2874140376837939\n",
         "\tRoot mean square error:  0.5361100984721272\n",
         "\tR2 score: 0.8222534389774807\n",
         "\n"
        ]
       }
      ],
      "source": [
       "add_features = Treat_by_nan.copy()\n",
       "add_features.drop(to_drop, axis=1,inplace=True)\n",
       "add_features['add_1']=df_pca.values\n",
       "\n",
       "#Show Correlation between numericals features and target\n",
       "#Lets print the correlation matrix to see interdependence between the features Pair plot\n",
       "sns.heatmap(add_features.corr(),annot=True,cmap='RdYlGn',linewidths=0.2,annot_kws={'size':9})\n",
       "fig=plt.gcf()\n",
       "fig.set_size_inches(12,8)\n",
       "plt.xticks(fontsize=9)\n",
       "plt.yticks(fontsize=9)\n",
       "plt.show()\n",
       "\n",
       "threshold = 0.3\n",
       "X_train, X_test, y_train, y_test = train_test_split(add_features,y,test_size=threshold,shuffle=True, random_state=42)\n",
       "for model in regressors:\n",
       "    start = time()\n",
       "    model.fit(X_train, y_train)\n",
       "    train_time = time() - start\n",
       "    start = time()\n",
       "    y_pred = model.predict(X_test)\n",
       "    predict_time = time()-start    \n",
       "    print(\"\\n\\n>>>> without holdout submission:\",model)\n",
       "    print(\"\\tTraining time: %0.3fs\" % train_time)\n",
       "    print(\"\\tPrediction time: %0.3fs\" % predict_time)\n",
       "    print(\"\\tExplained variance:\", explained_variance_score(y_test, y_pred))\n",
       "    print(\"\\tMean absolute error:\", mean_absolute_error(y_test, y_pred))\n",
       "    print(\"\\tMean square error: \", mean_squared_error(y_test, y_pred))\n",
       "    print(\"\\tRoot mean square error: \", np.sqrt(mean_squared_error(y_test, y_pred)))\n",
       "    print(\"\\tR2 score:\", r2_score(y_test, y_pred))\n",
       "    print()"
      ]
     },
     {
      "cell_type": "markdown",
      "id": "af9579a1",
      "metadata": {},
      "source": [
       "# StandardScaler Transform"
      ]
     },
     {
      "cell_type": "code",
      "execution_count": 129,
      "id": "9cefb8f8",
      "metadata": {},
      "outputs": [
       {
        "name": "stdout",
        "output_type": "stream",
        "text": [
         "Standardize numerical features with StandardScaler\n",
         "\n",
         "\n",
         ">>>> Start evaluation model with: ExtraTreesRegressor(random_state=0)\n",
         "\tTraining time: 22.115s\n",
         "\tPrediction time: 1.134s\n",
         "\tExplained variance: 0.8262316493174415\n",
         "\tMean absolute error: 0.3590022134410689\n",
         "\tMean square error:  0.28098209427861176\n",
         "\tRoot mean square error:  0.5300774417748899\n",
         "\tR2 score: 0.8262311703025609\n",
         "Ending of Evaluation\n",
         "\n"
        ]
       }
      ],
      "source": [
       "threshold = 0.3\n",
       "X_train, X_test, y_train, y_test = train_test_split(add_features,y,test_size=threshold,shuffle=True, random_state=42)\n",
       "# Standardize numerical features\n",
       "print(\"Standardize numerical features with StandardScaler\")\n",
       "stdSc = StandardScaler()\n",
       "X_train_Sc = X_train.copy()\n",
       "X_test_Sc = X_test.copy()\n",
       "X_train_Sc = stdSc.fit_transform(X_train_Sc)\n",
       "X_test_Sc  = stdSc.transform(X_test_Sc)\n",
       "model = ExtraTreesRegressor(random_state=0)\n",
       "start = time()\n",
       "model.fit(X_train_Sc, y_train)\n",
       "train_time = time() - start\n",
       "start = time()\n",
       "y_pred = model.predict(X_test_Sc)\n",
       "predict_time = time()-start    \n",
       "print(\"\\n\\n>>>> Start evaluation model with:\",model)\n",
       "print(\"\\tTraining time: %0.3fs\" % train_time)\n",
       "print(\"\\tPrediction time: %0.3fs\" % predict_time)\n",
       "print(\"\\tExplained variance:\", explained_variance_score(y_test, y_pred))\n",
       "print(\"\\tMean absolute error:\", mean_absolute_error(y_test, y_pred))\n",
       "print(\"\\tMean square error: \", mean_squared_error(y_test, y_pred))\n",
       "print(\"\\tRoot mean square error: \", np.sqrt(mean_squared_error(y_test, y_pred)))\n",
       "print(\"\\tR2 score:\", r2_score(y_test, y_pred))\n",
       "print(\"Ending of Evaluation\")\n",
       "print()"
      ]
     },
     {
      "cell_type": "markdown",
      "id": "417a1b8c",
      "metadata": {},
      "source": [
       "# plot graph of feature importances for better visualization"
      ]
     },
     {
      "cell_type": "code",
      "execution_count": 126,
      "id": "4febf404",
      "metadata": {},
      "outputs": [
       {
        "data": {
         "image/png": "[encoded data removed]",
         "text/plain": [
          "<Figure size 864x576 with 1 Axes>"
         ]
        },
        "metadata": {
         "needs_background": "light"
        },
        "output_type": "display_data"
       }
      ],
      "source": [
       "#plot graph of feature importances for better visualization\n",
       "plt.figure(figsize = (12,8))\n",
       "feat_importances = pd.Series(model.feature_importances_, index=X_train.columns)\n",
       "feat_importances.nlargest(6).plot(kind='barh')\n",
       "plt.show()"
      ]
     },
     {
      "cell_type": "code",
      "execution_count": null,
      "id": "58af49a3",
      "metadata": {},
      "outputs": [],
      "source": []
     },
     {
      "cell_type": "markdown",
      "id": "c9cb8424",
      "metadata": {},
      "source": [
       "# Hyperparameter tuning with Random search"
      ]
     },
     {
      "cell_type": "code",
      "execution_count": 135,
      "id": "72be37de",
      "metadata": {
       "scrolled": false
      },
      "outputs": [
       {
        "name": "stdout",
        "output_type": "stream",
        "text": [
         "Parameters currently in use:\n",
         "\n",
         "{'bootstrap': False,\n",
         " 'ccp_alpha': 0.0,\n",
         " 'criterion': 'squared_error',\n",
         " 'max_depth': None,\n",
         " 'max_features': 1.0,\n",
         " 'max_leaf_nodes': None,\n",
         " 'max_samples': None,\n",
         " 'min_impurity_decrease': 0.0,\n",
         " 'min_samples_leaf': 1,\n",
         " 'min_samples_split': 2,\n",
         " 'min_weight_fraction_leaf': 0.0,\n",
         " 'n_estimators': 100,\n",
         " 'n_jobs': None,\n",
         " 'oob_score': False,\n",
         " 'random_state': 0,\n",
         " 'verbose': 0,\n",
         " 'warm_start': False}\n",
         "Random Hyperparameter Grid\n",
         "{'bootstrap': [True, False],\n",
         " 'criterion': ['friedman_mse', 'squared_error', 'mse'],\n",
         " 'max_depth': [10, 105, 200, None],\n",
         " 'max_features': ['auto', 'sqrt', 'log2'],\n",
         " 'min_samples_leaf': [1, 2, 4],\n",
         " 'min_samples_split': [2, 5, 10],\n",
         " 'n_estimators': [50, 275, 500]}\n",
         "Train model with grid:\n",
         "Fitting 3 folds for each of 100 candidates, totalling 300 fits\n",
         "Best hyperparameters:\n",
         "{'n_estimators': 500, 'min_samples_split': 5, 'min_samples_leaf': 1, 'max_features': 'auto', 'max_depth': 200, 'criterion': 'squared_error', 'bootstrap': False}\n"
        ]
       }
      ],
      "source": [
       "# Use the random grid to search for best hyperparameters\n",
       "model = ExtraTreesRegressor(random_state=0)\n",
       "print('Parameters currently in use:\\n')\n",
       "pprint(model.get_params())\n",
       "#------------### Hyperparameter Tuning ###---------------#\n",
       "n_estimators = [int(x) for x in np.linspace(start = 50, stop = 500, num = 3)]\n",
       "max_depth.append(None)\n",
       "# Number of features to consider at every split\n",
       "max_features = ['auto', 'sqrt','log2']\n",
       "# Maximum number of levels in tree\n",
       "max_depth = [int(x) for x in np.linspace(10, 200, num = 3)]\n",
       "max_depth.append(None)\n",
       "# Minimum number of samples required to split a node\n",
       "min_samples_split = [2, 5, 10]\n",
       "# Minimum number of samples required at each leaf node\n",
       "min_samples_leaf = [1, 2, 4]\n",
       "bootstrap = [True, False]\n",
       "criterion=['friedman_mse','squared_error','mse']\n",
       "\n",
       "# Create the random grid\n",
       "random_grid = {'n_estimators': n_estimators,\n",
       "               'max_features': max_features,\n",
       "               'max_depth': max_depth,\n",
       "               'min_samples_split': min_samples_split,\n",
       "               'min_samples_leaf': min_samples_leaf,\n",
       "               'bootstrap': bootstrap,\n",
       "               'criterion': criterion\n",
       "              }\n",
       "print(\"Random Hyperparameter Grid\")\n",
       "pprint(random_grid)\n",
       "\n",
       "# Random search of parameters, using 3 fold cross validation, \n",
       "rf_random = RandomizedSearchCV(estimator = model, \n",
       "                               param_distributions = random_grid,\n",
       "                               scoring='neg_mean_squared_error', \n",
       "                               n_iter = 100, \n",
       "                               cv = 3, \n",
       "                               verbose=2,\n",
       "                               random_state=42,\n",
       "                               n_jobs = -1)\n",
       "\n",
       "print(\"Train model with grid:\")\n",
       "rf_random.fit(X_train_Sc, y_train)\n",
       "\n",
       "print(\"Best hyperparameters:\")\n",
       "print(rf_random.best_params_)"
      ]
     },
     {
      "cell_type": "code",
      "execution_count": 138,
      "id": "89528c44",
      "metadata": {},
      "outputs": [
       {
        "name": "stdout",
        "output_type": "stream",
        "text": [
         "--- Part 1: Train model without setting hyperparameters:\n",
         "MSE(base_model) : 0.281 \n",
         "R2 score(base_model) : {:.3f}  0.8262311703025609\n",
         "--- Part 2: Train model with hyperparameters:\n",
         "MSE(best_model) : 0.278 \n",
         "R2 score(best_model) : {:.3f}  0.8279850424228897\n"
        ]
       }
      ],
      "source": [
       "print(\"--- Part 1: Train model without setting hyperparameters:\")\n",
       "rnf = ExtraTreesRegressor(random_state=0)\n",
       "rnf.fit(X_train_Sc, y_train)\n",
       "y_preds = rnf.predict(X_test_Sc)\n",
       "print(\"MSE(base_model) : {:.3f} \".format(mean_squared_error(y_test, y_preds)))\n",
       "print(\"R2 score(base_model) : {:.3f} \", r2_score(y_test, y_preds))\n",
       "print(\"--- Part 2: Train model with hyperparameters:\")\n",
       "best_random = rf_random.best_estimator_\n",
       "best_random.fit(X_train_Sc, y_train)\n",
       "y_pred = best_random.predict(X_test_Sc)\n",
       "print(\"MSE(best_model) : {:.3f} \".format(mean_squared_error(y_test, y_pred)))\n",
       "print(\"R2 score(best_model) : {:.3f} \", r2_score(y_test, y_pred))"
      ]
     },
     {
      "cell_type": "code",
      "execution_count": null,
      "id": "6385b23b",
      "metadata": {},
      "outputs": [],
      "source": []
     },
     {
      "cell_type": "code",
      "execution_count": null,
      "id": "62a022b0",
      "metadata": {},
      "outputs": [],
      "source": []
     },
     {
      "cell_type": "code",
      "execution_count": null,
      "id": "c84c5314",
      "metadata": {},
      "outputs": [],
      "source": []
     },
     {
      "cell_type": "code",
      "execution_count": null,
      "id": "8ec9f186",
      "metadata": {},
      "outputs": [],
      "source": []
     },
     {
      "cell_type": "code",
      "execution_count": null,
      "id": "24c0d5ba",
      "metadata": {},
      "outputs": [],
      "source": []
     }
    ],
    "metadata": {
     "kernelspec": {
      "display_name": "Python 3 (ipykernel)",
      "language": "python",
      "name": "python3"
     },
     "language_info": {
      "codemirror_mode": {
       "name": "ipython",
       "version": 3
      },
      "file_extension": ".py",
      "mimetype": "text/x-python",
      "name": "python",
      "nbconvert_exporter": "python",
      "pygments_lexer": "ipython3",
      "version": "3.9.7"
     }
    },
    "nbformat": 4,
    "nbformat_minor": 5
   }