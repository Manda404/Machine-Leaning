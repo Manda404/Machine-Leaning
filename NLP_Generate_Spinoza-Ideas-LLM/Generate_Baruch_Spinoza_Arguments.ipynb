{
  "cells": [
    {
      "cell_type": "markdown",
      "metadata": {},
      "source": [
        "<center>\n",
        "\n",
        "# <span style=\"color:#FF5733;\">NLP en tensorflow: Ressusciter l’esprit de Baruch Spinoza</span>\n",
        "## <span style=\"color:#FFC300;\">ECE - École d'Ingénieurs Campus Lyon</span>\n",
        "### <span style=\"color:#FF5733;\">Projet Deep Learning, A.A. 2023/2024</span>\n",
        "\n",
        "</center>\n",
        "\n",
        "<p align=\"center\">\n",
        "  <img src=\"8810f1371a5f24e4a36eb1d6eee4226a-0.jpg\" width=600>\n",
        "</p>\n",
        "\n",
        "### 📝 Auteur: **Manda Surel** &nbsp;&nbsp;&nbsp; ✉️ Email: [s239150.eps@gmail.com](mailto:s239150.eps@gmail.com) &nbsp;&nbsp;&nbsp; 💻 Github: [Manda404](https://github.com/Manda404)\n"
      ]
    },
    {
      "cell_type": "markdown",
      "metadata": {},
      "source": [
        "## Sommaire\n",
        "\n",
        "1. **Importation des Bibliothèques** 📚\n",
        "    - Importation de toutes les bibliothèques nécessaires pour la réalisation du projet, telles que :\n",
        "        - `numpy`\n",
        "        - `pandas`\n",
        "        - `tensorflow`\n",
        "        - `keras` etc.\n",
        "\n",
        "2. **Chargement du Fichier \"Baruch Spinoza.txt\"** 📜\n",
        "    - Chargement du texte de l'œuvre de Baruch Spinoza \"Ethique\" depuis le fichier \"Baruch Spinoza.txt\".\n",
        "\n",
        "3. **Nettoyage des Données Textuelles** 🧹\n",
        "    - Utilisation d'un Tokenizer pour nettoyer et prétraiter les données textuelles.\n",
        "    - Suppression des caractères spéciaux, des stopwords et d'autres éléments non pertinents.\n",
        "\n",
        "4. **Transformation en Données Numériques** 🔢\n",
        "    - Conversion des données textuelles en séquences numériques à l'aide de la méthode `texts_to_sequences`.\n",
        "    - Création de séquences de longueur fixe pour l'entraînement du modèle.\n",
        "\n",
        "5. **Création, Entraînement et Évaluation du Modèle LSTM** 🧠\n",
        "    - Mise en place du modèle LSTM pour l'analyse du texte.\n",
        "    - Division des données en ensembles d'entraînement et de test.\n",
        "    - Entraînement du modèle LSTM sur les données d'entraînement.\n",
        "    - Évaluation des performances du modèle à l'aide de différentes métriques, telles que la précision, le rappel et la F-mesure.\n",
        "\n",
        "6. **Test du Modèle** 🎲\n",
        "    - Utilisation de nouvelles données pour tester la capacité prédictive du modèle LSTM.\n",
        "    - Analyse des résultats et interprétation des prédictions.\n"
      ]
    },
    {
      "cell_type": "markdown",
      "metadata": {},
      "source": [
        "## <div style=\"text-align: left; background-color:aliceblue ; font-family: Jokerman; color: black; padding: 15px; line-height:1;border-radius:1px; margin-bottom: 0em; text-align: center; font-size: 25px;border-style: solid;border-color: dark green;\"> Importation des bibliothèques requises </div> "
      ]
    },
    {
      "cell_type": "code",
      "execution_count": 30,
      "metadata": {},
      "outputs": [],
      "source": [
        "# 1. **Analyse de données et visualisation** :\n",
        "import os\n",
        "import time\n",
        "import pandas as pd\n",
        "import numpy as np\n",
        "import matplotlib.pyplot as plt\n",
        "\n",
        "# 3. **Deep Learning avec TensorFlow** :\n",
        "import tensorflow as tf\n",
        "import tensorflow.keras.utils as ku \n",
        "from tensorflow.keras import regularizers\n",
        "from tensorflow.keras.models import Sequential\n",
        "from tensorflow.keras.callbacks import ModelCheckpoint\n",
        "from tensorflow.keras.layers import Embedding, Bidirectional, LSTM, Dense,Dropout\n",
        "from tensorflow.keras.preprocessing.text import Tokenizer\n",
        "from keras.preprocessing.text import Tokenizer\n",
        "from tensorflow.keras.preprocessing.sequence import pad_sequences\n",
        "from tensorflow.keras.metrics import SparseCategoricalAccuracy\n",
        "from sklearn.metrics import accuracy_score, classification_report\n",
        "\n",
        "#4. **Modèles de NLP (Natural Language Processing)** :\n",
        "from tensorflow.keras.optimizers import Adam\n",
        "from tensorflow.keras.losses import SparseCategoricalCrossentropy\n",
        "from tensorflow.keras.layers import Bidirectional\n",
        "\n",
        "# 5. **Traitement de texte supplémentaire** :\n",
        "from string import punctuation\n",
        "from keras.preprocessing.sequence import pad_sequences\n",
        "import keras.utils as ku\n",
        "\n",
        "\n",
        "# 6. Bibliothèques pour le traitement de texte et les utilitaires\n",
        "import string\n",
        "import pickle  # Importation du module pickle pour la sérialisation et la désérialisation d'objets Python\n",
        "from string import punctuation  # Importation de la ponctuation depuis la bibliothèque string\n",
        "from nltk.stem.porter import *  # Importation du stemmer de Porter depuis NLTK\n",
        "import re  # pour les expressions régulières\n",
        "import nltk  # pour la manipulation de texte\n",
        "from nltk.corpus import stopwords  # Importation des mots vides depuis NLTK\n",
        "from nltk.stem import WordNetLemmatizer  # Importation du lemmatizer WordNet depuis NLTK\n"
      ]
    },
    {
      "cell_type": "markdown",
      "metadata": {},
      "source": [
        "## <div style=\"text-align: left; background-color:aliceblue ; font-family: Jokerman; color: black; padding: 15px; line-height:1;border-radius:1px; margin-bottom: 0em; text-align: center; font-size: 25px;border-style: solid;border-color: dark green;\"> Chargement des données </div> "
      ]
    },
    {
      "cell_type": "code",
      "execution_count": 13,
      "metadata": {
        "colab": {
          "base_uri": "https://localhost:8080/",
          "height": 89
        },
        "id": "HnmP_mSlCHSl",
        "outputId": "8e0aed08-2f3d-41c7-a108-d2f7a914a627"
      },
      "outputs": [
        {
          "data": {
            "text/html": [
              "<div>\n",
              "<style scoped>\n",
              "    .dataframe tbody tr th:only-of-type {\n",
              "        vertical-align: middle;\n",
              "    }\n",
              "\n",
              "    .dataframe tbody tr th {\n",
              "        vertical-align: top;\n",
              "    }\n",
              "\n",
              "    .dataframe thead th {\n",
              "        text-align: right;\n",
              "    }\n",
              "</style>\n",
              "<table border=\"1\" class=\"dataframe\">\n",
              "  <thead>\n",
              "    <tr style=\"text-align: right;\">\n",
              "      <th></th>\n",
              "      <th>Texte</th>\n",
              "    </tr>\n",
              "  </thead>\n",
              "  <tbody>\n",
              "    <tr>\n",
              "      <th>0</th>\n",
              "      <td>Dans l’Ethique, Spinoza, fasciné par la rigueu...</td>\n",
              "    </tr>\n",
              "    <tr>\n",
              "      <th>1</th>\n",
              "      <td>On sait que cette méthode procède par définiti...</td>\n",
              "    </tr>\n",
              "    <tr>\n",
              "      <th>2</th>\n",
              "      <td>Les définitions ont pour objectif d’indiquer p...</td>\n",
              "    </tr>\n",
              "    <tr>\n",
              "      <th>3</th>\n",
              "      <td>Les axiomes posent des vérités considérées com...</td>\n",
              "    </tr>\n",
              "    <tr>\n",
              "      <th>4</th>\n",
              "      <td>Prenons quelques exemples de définitions et d’...</td>\n",
              "    </tr>\n",
              "  </tbody>\n",
              "</table>\n",
              "</div>"
            ],
            "text/plain": [
              "                                               Texte\n",
              "0  Dans l’Ethique, Spinoza, fasciné par la rigueu...\n",
              "1  On sait que cette méthode procède par définiti...\n",
              "2  Les définitions ont pour objectif d’indiquer p...\n",
              "3  Les axiomes posent des vérités considérées com...\n",
              "4  Prenons quelques exemples de définitions et d’..."
            ]
          },
          "metadata": {},
          "output_type": "display_data"
        },
        {
          "name": "stdout",
          "output_type": "stream",
          "text": [
            "Notre dataset contient 175 lignes, et  1 colonnes.\n"
          ]
        }
      ],
      "source": [
        "def lire_fichier_et_creer_dataframe(path):\n",
        "    # Ouvrir le fichier en mode lecture\n",
        "    with open(path, 'r') as file:\n",
        "        # Initialiser une liste pour stocker les lignes avec des mots\n",
        "        lines_with_words = []\n",
        "        \n",
        "        # Parcourir chaque ligne du fichier\n",
        "        for line in file:\n",
        "            # Vérifier si la ligne contient des mots (différents de la chaîne vide)\n",
        "            if any(word.strip() for word in line.split()):\n",
        "                # Ajouter la ligne à la liste si elle contient des mots\n",
        "                lines_with_words.append(line.strip())\n",
        "\n",
        "    # Créer un DataFrame pandas à partir de la liste de lignes avec des mots\n",
        "    df = pd.DataFrame({'Texte': lines_with_words})\n",
        "\n",
        "    # Retourner le DataFrame\n",
        "    return df\n",
        "\n",
        "# Chemin vers votre fichier\n",
        "path = '/Users/surelmanda/Downloads/AirGUARD/NLP_Generate_poems-Manda/data/Baruch_Spinoza.txt'\n",
        "\n",
        "# Appeler la fonction avec votre chemin de fichier\n",
        "data = lire_fichier_et_creer_dataframe(path)\n",
        "\n",
        "# Afficher le DataFrame\n",
        "display(data.head())\n",
        "\n",
        "print(f\"Notre dataset contient {data.shape[0]} lignes, et  {data.shape[1]} colonnes.\")"
      ]
    },
    {
      "cell_type": "code",
      "execution_count": 14,
      "metadata": {},
      "outputs": [
        {
          "name": "stdout",
          "output_type": "stream",
          "text": [
            "Dictionnaire de mots indexés par le tokenizer: {'de': 1, 'la': 2, 'et': 3, 'que': 4, 'à': 5, 'le': 6, 'est': 7, 'les': 8, 'en': 9, 'qui': 10, 'ce': 11, 'ou': 12, 'par': 13, 'des': 14, 'une': 15, 'dieu': 16, 'nous': 17, 'même': 18, 'spinoza': 19, 'nature': 20, 'il': 21, 'se': 22, 'un': 23, 'pas': 24, 'a': 25, 'ne': 26, 'pour': 27, 'du': 28, 'plus': 29, 'qu’il': 30, 'c’est': 31, 'dans': 32, 'cause': 33, 'au': 34, 'chose': 35, 'l’esprit': 36, 'tout': 37, 'on': 38, 'mais': 39, 'corps': 40, 'sont': 41, 'n’est': 42, 'l’homme': 43, 'choses': 44, 'peut': 45, 'substance': 46, 'fait': 47, 'affects': 48, 'donc': 49, 'd’une': 50, 'si': 51, 'idée': 52, 'cette': 53, 'soi': 54, 'volonté': 55, 'dit': 56, 'lui': 57, 'rien': 58, 'elle': 59, 'livre': 60, 'l’idée': 61, 'raison': 62, 'bien': 63, 'sens': 64, 'comme': 65, 'autrement': 66, 'ces': 67, 'être': 68, 'son': 69, 'perfection': 70, 'sa': 71, 'connaissance': 72, 'dont': 73, 'deux': 74, 'effet': 75, 'notre': 76, 'affect': 77, 'quelque': 78, 'puissance': 79, 'avec': 80, 'désir': 81, 'n’y': 82, 'celle': 83, 'd’autre': 84, 'contraire': 85, 'attributs': 86, 'hommes': 87, 'seule': 88, 'nécessairement': 89, 'manière': 90, 'sans': 91, 'non': 92, 'idées': 93, 'ont': 94, 'ils': 95, 'exemple': 96, 'proposition': 97, 'l’on': 98, 'ainsi': 99, 'mal': 100, 'joie': 101, 'où': 102, 'dire': 103, 'elles': 104, '«': 105, '»': 106, 'leur': 107, 'or': 108, 'tant': 109, 'selon': 110, 'l’amour': 111, 'encore': 112, 'sur': 113, 'autre': 114, 'l’intellect': 115, 'causes': 116, 'y': 117, 'libre': 118, 'parce': 119, 'sous': 120, 'telle': 121, 'extérieure': 122, 'définitions': 123, 'vérité': 124, 'termes': 125, 'car': 126, 'infinie': 127, 'chacun': 128, 'partie': 129, 'ni': 130, 'puisque': 131, 'propre': 132, 'vue': 133, 'cela': 134, 'qu’ils': 135, 'laquelle': 136, 'celui': 137, 'agit': 138, 'actions': 139, 'vraie': 140, 'esprit': 141, 'passions': 142, 'vertu': 143, 'qu’une': 144, 'tristesse': 145, 'humaine': 146, 'liberté': 147, 'l’ethique': 148, 'célèbre': 149, 'l’essence': 150, 'aucune': 151, 'rapport': 152, 'etc': 153, 'personne': 154, 'seul': 155, 'pourquoi': 156, 'faut': 157, 'nécessaire': 158, 'vouloir': 159, 'l’ordre': 160, 'pensée': 161, 'moins': 162, 'genre': 163, 'adéquate': 164, 'nos': 165, 'haine': 166, 'agir': 167, 'cesse': 168, 'procède': 169, 'propositions': 170, 'autres': 171, 'va': 172, 'conçoit': 173, 'concept': 174, 'n’a': 175, 'former': 176, 'déterminée': 177, 'éternelle': 178, 'iv': 179, 'ci': 180, 'là': 181, 'cet': 182, 'qu’on': 183, 'alors': 184, 'humain': 185, 'nécessité': 186, 'd’autres': 187, 'événements': 188, 'définition': 189, 'parfaite': 190, 'certains': 191, 'contre': 192, 'bonheur': 193, 'notions': 194, 'mouvement': 195, 'ceux': 196, 'point': 197, 'l’âme': 198, 'je': 199, 'd’autant': 200, 'passion': 201, 'but': 202, 'utile': 203, 'suffit': 204, 'déterminer': 205, 'd’un': 206, 'trouve': 207, 'suit': 208, 'qu’un': 209, 'réalité': 210, 'entre': 211, 'partir': 212, 'essence': 213, 'attribut': 214, 'grand': 215, 'étants': 216, 'comprend': 217, 'facultés': 218, 'conception': 219, 'autant': 220, 'parvient': 221, 'première': 222, 'étant': 223, 'divine': 224, 'précise': 225, 'porte': 226, 'savoir': 227, 'ses': 228, 'manières': 229, 'considère': 230, 'soit': 231, 'déterminisme': 232, 'premier': 233, 'fin': 234, 'conscience': 235, 'désirer': 236, 'croient': 237, 'appétit': 238, 'pensent': 239, 'l’œuvre': 240, 'descartes': 241, 'infini': 242, 'permet': 243, 'tantôt': 244, 'temps': 245, 'concepts': 246, 'adéquates': 247, 'troisième': 248, 'commence': 249, 'comprendre': 250, 'part': 251, 'certitude': 252, 'tel': 253, 'spinoziste': 254, 'enfin': 255, 'désirs': 256, 'lois': 257, 'penser': 258, 'faire': 259, 'pâtir': 260, 'grande': 261, 'l’affect': 262, 'servitude': 263, 'consacre': 264, 'naît': 265, 'pouvons': 266, 'peur': 267, 'mort': 268, 'sage': 269, 'modèle': 270, 'méthode': 271, 'philosophie': 272, 'sait': 273, 'axiomes': 274, 'précisément': 275, 'servir': 276, 'possible': 277, 'aux': 278, 'prenons': 279, 'parmi': 280, 'i': 281, 'j’entends': 282, 'concevoir': 283, 'd’où': 284, 'ici': 285, 'déduit': 286, 'toute': 287, 'certes': 288, 'reste': 289, 'premiers': 290, 'développe': 291, 'ayant': 292, 'sujet': 293, 'disparaisse': 294, 'appelle': 295, 'eux': 296, 'l’ensemble': 297, 'compris': 298, 'dès': 299, 'serait': 300, 'intellect': 301, 'l’autre': 302, 'représentent': 303, 'contingent': 304, 'mêmes': 305, 'été': 306, 'stoïcisme': 307, 'pu': 308, 'distingue': 309, 'points': 310, 'finalisme': 311, 'conscient': 312, 'libres': 313, 'jamais': 314, 'était': 315, 'imagination': 316, 'affections': 317, 'affirmation': 318, 'l’objet': 319, 'donner': 320, 'solution': 321, 'montré': 322, 'envisagée': 323, 'différents': 324, 'extérieures': 325, 'formons': 326, 'telles': 327, 'second': 328, 'désigne': 329, 'd’atteindre': 330, 'propriétés': 331, 'aussi': 332, 'également': 333, 'suite': 334, 'notion': 335, 'faculté': 336, 'volition': 337, 'négation': 338, 'quoi': 339, 'principe': 340, 'd’elle': 341, 'vu': 342, 'pourtant': 343, 'mieux': 344, 'toutes': 345, 'empire': 346, 'plutôt': 347, 'toujours': 348, 'pâtit': 349, 'critique': 350, 'détermine': 351, 'croit': 352, 'inerte': 353, 'fondamental': 354, 'désirons': 355, 'j’entendrai': 356, 'qu’accompagne': 357, 'crainte': 358, 'propose': 359, 'quelqu’un': 360, 'l’auteur': 361, 'contrarier': 362, 'qu’à': 363, 'conserver': 364, 'sommes': 365, 'fort': 366, 'tous': 367, 'libérer': 368, 'amour': 369, 'd’être': 370, 'l’ignorant': 371, 'rigueur': 372, 'donne': 373, 'géométrique': 374, 'puis': 375, 's’élève': 376, 'unes': 377, 'jusqu’à': 378, 'afin': 379, 'nulle': 380, 'vérités': 381, 'simples': 382, 'vrais': 383, 'évidente': 384, 'causa': 385, 'sui': 386, 'enveloppe': 387, 'donné': 388, 's’il': 389, 'voit': 390, 'affirme': 391, 'infinité': 392, 'd’attributs': 393, 'exprime': 394, 'existe': 395, 'utilise': 396, 'nouveau': 397, 'novatrice': 398, 'qu’attribut': 399, 'définit': 400, 'entend': 401, 'deus': 402, 'sive': 403, 'natura': 404, 'philosophes': 405, 'échapper': 406, 'défini': 407, 'traditionnel': 408, 'homme': 409, 'riche': 410, 'déterminations': 411, 'individu': 412, 'revanche': 413, 'dessous': 414, 'accidents': 415, 'sub': 416, 'depuis': 417, 'radicalement': 418, 'perspective': 419, 'chez': 420, 'stoïciens': 421, 'substances': 422, 'cas': 423, 'accorder': 424, 'l’un': 425, 'réellement': 426, 'traditionnelle': 427, 'chien': 428, 'décide': 429, 'découle': 430, 'résolument': 431, 'déterministe': 432, 'événement': 433, 'hasard': 434, 'antérieure': 435, 'tour': 436, 'déterminé': 437, 'singulières': 438, 'situe': 439, 'naturante': 440, 'provient': 441, 'naturée': 442, 'puisqu’ils': 443, 'suprême': 444, 'qu’elles': 445, 'monde': 446, 'pensées': 447, 'théorie': 448, 'l’importance': 449, 'préjugés': 450, 'créé': 451, 'préjugé': 452, 'leurs': 453, 'volitions': 454, 'derniers': 455, 'grands': 456, 'vie': 457, 'doctrine': 458, 'aspire': 459, 'fictions': 460, 'péché': 461, 'certaines': 462, 'nuisent': 463, 'ordre': 464, 'dernier': 465, 'objets': 466, 'dits': 467, 'd’après': 468, 'parfait': 469, 'pense': 470, 'affection': 471, 'fondamentalement': 472, 'pensante': 473, 'étendue': 474, 'l’etendue': 475, 'problème': 476, 'l’union': 477, 'd’abord': 478, 'distinctes': 479, 'amène': 480, 'universels': 481, 'confuse': 482, 'fausseté': 483, 'communes': 484, 'science': 485, 'évidence': 486, 'certaine': 487, 'vaut': 488, 'avons': 489, 'pierre': 490, 'remarquer': 491, 'disparaissent': 492, 'assentiment': 493, 'qu’elle': 494, 'différence': 495, 'l’affirmation': 496, 'positif': 497, 'simple': 498, 'tandis': 499, 'laisse': 500, 'égale': 501, 'agissons': 502, 'consiste': 503, 'iii': 504, 'désignent': 505, 'humains': 506, 'erreur': 507, 'naturel': 508, 'd’agir': 509, 'appétits': 510, 'question': 511, 'inadéquates': 512, 'ii': 513, 'd’idées': 514, 'avoir': 515, 'faux': 516, 'croire': 517, 'l’impulsion': 518, 'd’ailleurs': 519, 'montre': 520, 'l’exemple': 521, 'arbitre': 522, 'contenir': 523, 'parler': 524, 'synthétiser': 525, 'conscients': 526, 'chaque': 527, 's’efforce': 528, 'pourrait': 529, 'supprimer': 530, 'effort': 531, 'lorsqu’on': 532, 'fois': 533, 'l’appétit': 534, 'voulons': 535, 'jugeons': 536, 'bonne': 537, 'passer': 538, 'trois': 539, 'nombre': 540, 'naissent': 541, 'psychologiques': 542, 'imaginons': 543, 'aime': 544, 'maîtriser': 545, 'l’étude': 546, 'maison': 547, 'imparfaite': 548, 'modèles': 549, 'pouvoir': 550, 'savons': 551, 'moyen': 552, 'contrarié': 553, 'l’égard': 554, 'quels': 555, 'contraires': 556, 'demande': 557, 's’aime': 558, 'recherche': 559, 'fondement': 560, 'droit': 561, 'uns': 562, 'société': 563, 'présente': 564, 'mené': 565, 'éviter': 566, 'limitée': 567, 'subir': 568, 'réelle': 569, 'l’être': 570, 'aimé': 571, 'd’amour': 572, 'clairement': 573, 'distinctement': 574, 'intellectuel': 575, 'envers': 576, 'plaisirs': 577, 'lubriques': 578, 'jouissons': 579, 'béatitude': 580, 'outre': 581, 'fasciné': 582, 'clarté': 583, 'mathématique': 584, 'visée': 585, 'd’appliquer': 586, 'rigoureusement': 587, 'déduites': 588, 'atteindre': 589, 'démontrer': 590, 'objectif': 591, 'd’indiquer': 592, 'ait': 593, 'ambiguïté': 594, 'équivoque': 595, 'posent': 596, 'considérées': 597, 'évidentes': 598, 'vont': 599, 'base': 600, 'démonstrations': 601, 'contentent': 602, 'mot': 603, 'jugements': 604, 'prédicatifs': 605, 'disent': 606, 'prétendent': 607, 'statut': 608, 'quelques': 609, 'exemples': 610, 'd’axiomes': 611, 'proposés': 612, 'l’existence': 613, 'qu’existante': 614, 'besoin': 615, 'faille': 616, 'fondamentales': 617, 'définissent': 618, 'etant': 619, 'impossible': 620, 's’ensuive': 621, 'contente': 622, 'définir': 623, 'reconnue': 624, 'mécanisme': 625, 'argumentatif': 626, 'more': 627, 'geometrico': 628, 'appartient': 629, 'd’exister': 630, 'consistant': 631, 'issus': 632, 'l’ancienne': 633, 'scolastique': 634, 'l’utilisation': 635, 'surtout': 636, 'résultats': 637, 'auxquels': 638, 'parvenir': 639, 'éminemment': 640, 'modernes': 641, 'détour': 642, 'parle': 643, 'nom': 644, 'transcendant': 645, 'extérieur': 646, 'supérieur': 647, 'ème': 648, 'siècle': 649, 'dissimulée': 650, 'censure': 651, 'athéisme': 652, 'cœur': 653, 'expliquons': 654, 'rapidement': 655, 'peuvent': 656, 'modifiées': 657, 'devenir': 658, 'pauvre': 659, 'restera': 660, 'essentielles': 661, 'n’ont': 662, 'd’existence': 663, 'consistante': 664, 'porteur': 665, 'enlever': 666, 'tient': 667, 'tenere': 668, 'tenir': 669, 'aristote': 670, 'divers': 671, 'beau': 672, 'naïf': 673, 'renverse': 674, 'subsistant': 675, 'accident': 676, 'véritablement': 677, 'naturellement': 678, 'frappé': 679, 'dégradation': 680, 'changement': 681, 'ontologique': 682, 'n’était': 683, 'cosmos': 684, 'restait': 685, 'lors': 686, 'humaniser': 687, 'métaphoriquement': 688, 'garder': 689, 'd’ordinaire': 690, 'entendent': 691, 'vulgairement': 692, 'réels': 693, 'divergent': 694, 'l’entendement': 695, 'zodiacal': 696, 'constellation': 697, 'diffère': 698, 'l’animal': 699, 'place': 700, 'loin': 701, 'produire': 702, 'dérivant': 703, 'l’effet': 704, 'précédente': 705, 'remontant': 706, 'chaîne': 707, 'déploiement': 708, 'historique': 709, 'produit': 710, 'exister': 711, 'opérer': 712, 'néanmoins': 713, 'contingentes': 714, 'produiraient': 715, 'ultérieurs': 716, 'mesure': 717, 'distinguer': 718, 'créés': 719, 'dynamisme': 720, 'restent': 721, 'voici': 722, 'tels': 723, 'expriment': 724, 'découlent': 725, 'parfaits': 726, 'produisent': 727, 'produites': 728, 'suivi': 729, 'remarque': 730, 'éléments': 731, 'rapprochent': 732, 'aurait': 733, 'voir': 734, 'écrits': 735, 'marc': 736, 'aurèle': 737, 'seuls': 738, 'originalité': 739, 'consistance': 740, 'appendice': 741, 'insiste': 742, 'lutter': 743, 'superstitions': 744, 'véhiculées': 745, 'religion': 746, 'lieu': 747, 'création': 748, 'repose': 749, 'déterminent': 750, 'dispose': 751, 'disposent': 752, 'appéter': 753, 'ignorent': 754, 'rêve': 755, 'dieux': 756, 'honorent': 757, 'honore': 758, 'tirera': 759, 'bénéfices': 760, 'relève': 761, 'superstition': 762, 'excommunié': 763, 'coreligionnaires': 764, 'juifs': 765, 'd’amsterdam': 766, 'parue': 767, 'vivant': 768, 'judéo': 769, 'christianisme': 770, 'impie': 771, 'supprime': 772, 'manque': 773, 'faites': 774, 'forgé': 775, 'suivantes': 776, 'confusion': 777, 'chaud': 778, 'froid': 779, 'beauté': 780, 'laideur': 781, 'louange': 782, 'blâme': 783, 'mérite': 784, 'n’existe': 785, 'renvoie': 786, 'bonnes': 787, 'mauvaises': 788, 'déroulent': 789, 'découlant': 790, 'arrangent': 791, 'appellent': 792, 'facile': 793, 'd’imaginer': 794, 'indépendamment': 795, 'reçoivent': 796, 'nerfs': 797, 'yeux': 798, 'contribue': 799, 'santé': 800, 'causent': 801, 'beaux': 802, 'excitent': 803, 'laids': 804, 'résumer': 805, 'jugé': 806, 'disposition': 807, 'cerveau': 808, 'pris': 809, 'perd': 810, 'constituée': 811, 'modifications': 812, 'précises': 813, 'formé': 814, 'belle': 815, 'constitue': 816, 'quant': 817, 'constituant': 818, 'existant': 819, 'acte': 820, 'différente': 821, 'union': 822, 'uni': 823, 'l’avons': 824, 'objet': 825, 'ensuite': 826, 'l’attribut': 827, 'reconsidérer': 828, 'sollicitent': 829, 'acception': 830, 'essayé': 831, 'processus': 832, 'comment': 833, 'connaît': 834, 'grâce': 835, 'perception': 836, 'percevons': 837, 'présentent': 838, 'mutilée': 839, 'imparfait': 840, 'j’ai': 841, 'l’habitude': 842, 'd’appeler': 843, 'perceptions': 844, 'expérience': 845, 'vague': 846, 'regroupe': 847, 'opinion': 848, 'l’unique': 849, 'source': 850, 'intuitive': 851, 'formelle': 852, 'vers': 853, 'genres': 854, 'apparaît': 855, 'douter': 856, 'claires': 857, 'soient': 858, 'vraies': 859, 'perçoit': 860, 'saisit': 861, 'caractère': 862, 'percevoir': 863, 'espèce': 864, 'd’éternité': 865, 'specie': 866, 'aeternitatis': 867, 'doit': 868, 'nouvelle': 869, 'revisiter': 870, 'traditionnellement': 871, 'admise': 872, 'classiquement': 873, 'qu’est': 874, 'angles': 875, 'rappeler': 876, 'qu’en': 877, 'fonction': 878, 'absolue': 879, 'ceci': 880, 'l’infini': 881, 'prétendues': 882, 'd’aimer…': 883, 'purement': 884, 'fictives': 885, 'métaphysiques': 886, 'universaux': 887, 'coutume': 888, 'particuliers': 889, 'réel': 890, 'particulière': 891, 'accompagne': 892, 'pierrité': 893, 'paul': 894, 'n’entend': 895, 'duquel': 896, 'traitera': 897, 'suivant': 898, 'd’affirmer': 899, 'nier': 900, 'images': 901, 'peintures': 902, 'portent': 903, 'refuse': 904, 'jeter': 905, 'vide': 906, 'persuasion': 907, 'refus': 908, 'manifeste': 909, 'lumière': 910, 'l’a': 911, 'affirmer': 912, 'qu’enveloppe': 913, 'adhérer': 914, 'refuser': 915, 's’impose': 916, 'suscite': 917, 'opposition': 918, 'n’adhèrent': 919, 'sincèrement': 920, 'fausses': 921, 'nie': 922, 'doutent': 923, 'privation': 924, 'doute': 925, 'provoquer': 926, 'balaie': 927, 'objections': 928, 'fini': 929, 'qu’alors': 930, 'pourra': 931, 'choisir': 932, 'force': 933, 'd’assentiment': 934, 'l’âne': 935, 'buridan': 936, 'mourir': 937, 'placé': 938, 'distance': 939, 'foin': 940, 'd’eau': 941, 'envisager': 942, 'conséquences': 943, 'pratiques': 944, 'livres': 945, 'rendre': 946, 'tranquille': 947, 'qu’': 948, 'enseigne': 949, 'commandement': 950, 'participons': 951, 'félicité': 952, 'considérer': 953, 'plupart': 954, 'écrit': 955, 'semblent': 956, 'traiter': 957, 'naturelles': 958, 'suivent': 959, 'hors': 960, 'dirait': 961, 'conçoivent': 962, 'perturbe': 963, 'profonde': 964, 'puisse': 965, 'attribuer': 966, 'vice': 967, 'partout': 968, 'apparaissent': 969, 'considèrerai': 970, 'lignes': 971, 'plans': 972, 'ouvrent': 973, 'retiendrons': 974, 'augmentent': 975, 'diminuent': 976, 'défend': 977, 'donnée': 978, 'dénominations': 979, 'intrinsèques': 980, 'simplement': 981, 'probablement': 982, 'formulation': 983, 'formée': 984, 'forme': 985, 'corollaire': 986, 'remarquable': 987, 'déduire': 988, 'atteindrait': 989, 'dernières': 990, 'pure': 991, 'action': 992, 'rappelle': 993, 'repos': 994, 'antérieur': 995, 'l’enchaînement': 996, 'conçoive': 997, 'pair': 998, 'communément': 999, 'meut': 1000, 'mouvoir': 1001, 'somnambules': 1002, 'nul': 1003, 'l’expérience': 1004, 'appris': 1005, 'présent': 1006, 'seules': 1007, 'sommeil': 1008, 'inconciliable': 1009, 'bébé': 1010, 'aspirer': 1011, 'librement': 1012, 'lait': 1013, 'l’enfant': 1014, 'colère': 1015, 'vengeance': 1016, 'peureux': 1017, 'fuite': 1018, 'ivre': 1019, 'décret': 1020, 'redevenu': 1021, 'sobre': 1022, 'voudrait': 1023, 'tu': 1024, 'eu': 1025, 'ignorants': 1026, 'déterminées': 1027, 'conatus': 1028, 'persévérer': 1029, 's’oppose': 1030, 'venir': 1031, 'existence': 1032, 'tendance': 1033, 'fondamentale': 1034, 'indistinctement': 1035, 'précision': 1036, 'terminologique': 1037, 'efforçons': 1038, 'aspirons': 1039, 'changements': 1040, 'moindre': 1041, 'passe': 1042, 'primaires': 1043, 'l’allégresse': 1044, 'douleur': 1045, 'rapportés': 1046, 'd’affects': 1047, 'composition': 1048, 'primitifs': 1049, 'l’espérance': 1050, 'désespoir': 1051, 'l’émulation': 1052, 'certain': 1053, 'désire': 1054, 'aimons': 1055, 'aimerons': 1056, 'constance': 1057, 'conclure': 1058, 'générale': 1059, 'répète': 1060, 'quelconque': 1061, 'entendu': 1062, 'large': 1063, 'incluant': 1064, 'volontés': 1065, 'forces': 1066, 'l’impuissance': 1067, 'phénomène': 1068, 'qu’ont': 1069, 'examiner': 1070, 'l’origine': 1071, 'formation': 1072, 'réaliser': 1073, 'd’inachevé': 1074, 'su': 1075, 'œuvre': 1076, 'construire': 1077, 'dira': 1078, 'sitôt': 1079, 'verra': 1080, 'parvenue': 1081, 'auteur': 1082, 'avait': 1083, 'décidé': 1084, 'ignore': 1085, 'saura': 1086, 'forgent': 1087, 'tours': 1088, 'maisons': 1089, 'appela': 1090, 'voyait': 1091, 'convenir': 1092, 'universelle': 1093, 'tiennent': 1094, 'convient': 1095, 'défaut': 1096, 'l’appendice': 1097, 'n’agit': 1098, 'relation': 1099, 'finale': 1100, 'puisqu’elle': 1101, 'vise': 1102, 'd’imperfection': 1103, 'introduites': 1104, 'comparons': 1105, 'définissant': 1106, 'moraux': 1107, 'd’approcher': 1108, 's’éloigner': 1109, 'proposons': 1110, 'recouvre': 1111, 'signification': 1112, 'd’utilité': 1113, 'bénéfique': 1114, 'appelons': 1115, 'sert': 1116, 'nuit': 1117, 'conservation': 1118, 'rapproche': 1119, 'celles': 1120, 'définies': 1121, 'précédent': 1122, 'passage': 1123, 'notons': 1124, 'assimilation': 1125, '…': 1126, 'supprimé': 1127, 'plusieurs': 1128, 'd’ordre': 1129, 'préciser': 1130, 's’empare': 1131, 'égales': 1132, 'intense': 1133, 'contingente': 1134, 'annonce': 1135, 'maintenant': 1136, 'montrer': 1137, 'prescrit': 1138, 'conviennent': 1139, 'règles': 1140, 'augmente': 1141, 'd’': 1142, 'propres': 1143, 'l’effort': 1144, 'gouverne': 1145, 'n’aspire': 1146, 'qu’au': 1147, 'général': 1148, 'remet': 1149, 'lequel': 1150, 'vertueusement': 1151, 'désintéressée': 1152, 'l’égoïsme': 1153, 'l’altruisme': 1154, 'autrui': 1155, 'foncièrement': 1156, 'vivaient': 1157, 'conduite': 1158, 'agirait': 1159, 'souverain': 1160, 'ferait': 1161, 'surpassent': 1162, 'trouvent': 1163, 'entraînés': 1164, 'diversement': 1165, 'renoncent': 1166, 's’assurent': 1167, 'mutuellement': 1168, 'nuire': 1169, 'entrant': 1170, 'puisqu’en': 1171, 'résistera': 1172, 'voler': 1173, 'dommage': 1174, 'punition': 1175, 'rappelons': 1176, 'consacré': 1177, 'l’exposé': 1178, 'raisons': 1179, 'assujetti': 1180, 'moyens': 1181, 'lesquels': 1182, 'conquérir': 1183, 'luttant': 1184, 'd’utiliser': 1185, 'tournant': 1186, 'neutralisent': 1187, 'auxquelles': 1188, 'déterminés': 1189, 'créer': 1190, 'procèdent': 1191, 'détermineront': 1192, 'adéquatement': 1193, 'excessif': 1194, 'créant': 1195, 'adaptés': 1196, 'utiles': 1197, 'raisonnables': 1198, 'superstitieux': 1199, 'cherchent': 1200, 'dépassé': 1201, 'accorde': 1202, 'sagesse': 1203, 'méditation': 1204, 's’agit': 1205, 'supporter': 1206, 'âme': 1207, 'arrive': 1208, 'tristes': 1209, 'n’avons': 1210, 'extrêmement': 1211, 'infiniment': 1212, 'surpassée': 1213, 'rapprocher': 1214, 'résigner': 1215, 'négative': 1216, '–tristesse': 1217, 'envie…': 1218, 'v': 1219, 'voie': 1220, 'mène': 1221, 'pensaient': 1222, 'absolu': 1223, 'cartésienne': 1224, 'glande': 1225, 'pinéale': 1226, 'esprits': 1227, 'animaux': 1228, 'cartésien': 1229, 'ailleurs': 1230, 'chercher': 1231, 'lié': 1232, 'libérés': 1233, 'éloignons': 1234, 'émotion': 1235, 'joignons': 1236, 'flottements': 1237, 'seront': 1238, 'détruits': 1239, 'viennent': 1240, 'déçu': 1241, 'déteste': 1242, 'négatives': 1243, 'affectent': 1244, 'claire': 1245, 'distincte': 1246, 'prendre': 1247, 'sinon': 1248, 'simpliste': 1249, 'supposons': 1250, 'me': 1251, 'meure': 1252, 'inaccessible': 1253, 'intensément': 1254, 'prenne': 1255, 'mon': 1256, 'inconsciemment': 1257, 'connu': 1258, 'conséquent': 1259, 'avant': 1260, 's’appliquer': 1261, 'connaître': 1262, 'inadéquate': 1263, 'n’en': 1264, 'pâtirons': 1265, 'serons': 1266, 'acteur': 1267, 'inversement': 1268, 'exempt': 1269, 'proprement': 1270, 'n’aime': 1271, 'hait': 1272, 'atteint': 1273, 'mode': 1274, 'antérieurement': 1275, 'l’éternité': 1276, 'éternel': 1277, 'complète': 1278, 'attribue': 1279, 'semblant': 1280, 'contredire': 1281, 'précède': 1282, 'détruit': 1283, 'marque': 1284, 'périt': 1285, 'l’imagination': 1286, 'récompense': 1287, 'contrarions': 1288, 'rapporte': 1289, 'conclut': 1290, 'distinguant': 1291, 'appert': 1292, 'combien': 1293, 'lubrique': 1294, 'l’agitent': 1295, 'possède': 1296, 'satisfaction': 1297, 'vit': 1298, 'presque': 1299, 'inconscient': 1300, 'aussitôt': 1301}\n",
            "Nombre total de mots dans le corpus: 1302\n"
          ]
        }
      ],
      "source": [
        "# Initialiser le tokenizer\n",
        "tokenizer = Tokenizer(\n",
        "    num_words=None,             # Le nombre maximum de mots à garder. None signifie garder tous les mots.\n",
        "     filters='!\"#$%&()*+,-./:;<=>?@[\\\\]^_`{|}~\\t\\n0123456789',  # Les caractères à filtrer ou supprimer. et # Exclure les chiffres\n",
        "    lower=True,                 # Convertir le texte en minuscules.\n",
        "    split=' ',                  # Séparateur pour la tokenisation.\n",
        "    char_level=False,           # Si True, chaque caractère est traité comme un token.\n",
        "    oov_token=None,             # Le token à utiliser pour les mots hors vocabulaire.\n",
        "    analyzer=None,              # 'word' ou 'char', détermine l'unité de tokenisation.\n",
        ")\n",
        "corpus = data['Texte'].values.tolist() # [:3]\n",
        "\n",
        "# Créer une instance de Tokenizer\n",
        "Tokenizer()\n",
        "\n",
        "# Adapter le tokenizer sur les données\n",
        "tokenizer.fit_on_texts(corpus)\n",
        "\n",
        "# Nombre total de mots dans le corpus\n",
        "total_words = len(tokenizer.word_index) + 1\n",
        "\n",
        "# Afficher le dictionnaire des mots indexés par le tokenizer\n",
        "print(\"Dictionnaire de mots indexés par le tokenizer:\", tokenizer.word_index)\n",
        "\n",
        "# Afficher le nombre total de mots dans le corpus\n",
        "print(\"Nombre total de mots dans le corpus:\", total_words)"
      ]
    },
    {
      "cell_type": "code",
      "execution_count": 15,
      "metadata": {
        "id": "9NU7Z1AVNCbJ"
      },
      "outputs": [
        {
          "name": "stdout",
          "output_type": "stream",
          "text": [
            "Predictors (Prédicteurs) :\n",
            " [[  0   0   0 ...   0   0  32]\n",
            " [  0   0   0 ...   0  32 148]\n",
            " [  0   0   0 ...  32 148  19]\n",
            " ...\n",
            " [  0   0   0 ... 178 314  21]\n",
            " [  0   0   0 ... 314  21  26]\n",
            " [  0   0   0 ...  21  26 168]]\n",
            "\n",
            "Label (Étiquette) :\n",
            " [[0. 0. 0. ... 0. 0. 0.]\n",
            " [0. 0. 0. ... 0. 0. 0.]\n",
            " [0. 0. 0. ... 0. 0. 0.]\n",
            " ...\n",
            " [0. 0. 0. ... 0. 0. 0.]\n",
            " [0. 0. 0. ... 0. 0. 0.]\n",
            " [0. 0. 0. ... 0. 0. 0.]]\n"
          ]
        }
      ],
      "source": [
        "# Créer des séquences d'entrée en utilisant une liste de tokens\n",
        "input_sequences = []\n",
        "\n",
        "# Pour chaque ligne dans le corpus\n",
        "for line in corpus:\n",
        "    # Convertir le texte en une séquence de tokens\n",
        "    token_list = tokenizer.texts_to_sequences([line])[0]\n",
        "    \n",
        "    # Créer des n-grammes à partir de la séquence de tokens\n",
        "    for i in range(1, len(token_list)):\n",
        "        n_gram_sequence = token_list[:i+1]\n",
        "        input_sequences.append(n_gram_sequence)\n",
        "\n",
        "# Longueur maximale de séquence\n",
        "max_sequence_len = max([len(x) for x in input_sequences])\n",
        "\n",
        "# Remplir les séquences pour qu'elles aient toutes la même longueur\n",
        "input_sequences = np.array(pad_sequences(input_sequences, maxlen=max_sequence_len, padding='pre'))\n",
        "\n",
        "# Créer les prédicteurs (input) et l'étiquette (label)\n",
        "predictors, label = input_sequences[:, :-1], input_sequences[:, -1]\n",
        "\n",
        "# Convertir les étiquettes en catégories binaires\n",
        "label = ku.to_categorical(label, num_classes=total_words)\n",
        "\n",
        "# Afficher les valeurs de predictors et label\n",
        "print(\"Predictors (Prédicteurs) :\\n\", predictors)\n",
        "print(\"\\nLabel (Étiquette) :\\n\", label)\n"
      ]
    },
    {
      "cell_type": "code",
      "execution_count": 27,
      "metadata": {},
      "outputs": [],
      "source": [
        "def create_lstm_model(total_words, max_sequence_len):\n",
        "    model = Sequential(name=\"Model_LSTM_Spinoza\")\n",
        "\n",
        "    # input_dim : Size of the vocabulary\n",
        "    # output_dim : Length of the vector for each word\n",
        "    # input_length : Maximum length of a sequence\n",
        "    \n",
        "    # Couche d'Embedding\n",
        "    embedding_layer = Embedding(input_dim=total_words, output_dim=100, input_length=max_sequence_len-1)\n",
        "    \n",
        "    # Ajout des couches au modèle\n",
        "    model.add(embedding_layer)\n",
        "    model.add(Bidirectional(LSTM(150)))\n",
        "    model.add(Dense(total_words, activation='softmax'))\n",
        "    \n",
        "    # Utilisation de l'optimiseur legacy pour Macs M1/M2\n",
        "    optimizer = tf.keras.optimizers.legacy.Adam(learning_rate=0.001)\n",
        "    model.compile(loss='categorical_crossentropy', optimizer=optimizer, metrics=['accuracy'])\n",
        "    \n",
        "    # Affichage du résumé du modèle\n",
        "    model.summary()\n",
        "    \n",
        "    return model"
      ]
    },
    {
      "cell_type": "code",
      "execution_count": 69,
      "metadata": {},
      "outputs": [
        {
          "name": "stdout",
          "output_type": "stream",
          "text": [
            "Model: \"Model_LSTM_Spinoza\"\n",
            "_________________________________________________________________\n",
            " Layer (type)                Output Shape              Param #   \n",
            "=================================================================\n",
            " embedding_7 (Embedding)     (None, 106, 100)          130200    \n",
            "                                                                 \n",
            " bidirectional_7 (Bidirecti  (None, 300)               301200    \n",
            " onal)                                                           \n",
            "                                                                 \n",
            " dense_7 (Dense)             (None, 1302)              391902    \n",
            "                                                                 \n",
            "=================================================================\n",
            "Total params: 823302 (3.14 MB)\n",
            "Trainable params: 823302 (3.14 MB)\n",
            "Non-trainable params: 0 (0.00 Byte)\n",
            "_________________________________________________________________\n"
          ]
        }
      ],
      "source": [
        "model = create_lstm_model(total_words, max_sequence_len)"
      ]
    },
    {
      "cell_type": "code",
      "execution_count": 70,
      "metadata": {},
      "outputs": [
        {
          "name": "stdout",
          "output_type": "stream",
          "text": [
            "Epoch 1/40\n"
          ]
        },
        {
          "name": "stdout",
          "output_type": "stream",
          "text": [
            "102/102 [==============================] - 25s 229ms/step - loss: 6.3096 - accuracy: 0.0486\n",
            "Epoch 2/40\n",
            "102/102 [==============================] - 24s 233ms/step - loss: 5.9245 - accuracy: 0.0576\n",
            "Epoch 3/40\n",
            "102/102 [==============================] - 23s 228ms/step - loss: 5.8145 - accuracy: 0.0639\n",
            "Epoch 4/40\n",
            "102/102 [==============================] - 24s 234ms/step - loss: 5.6174 - accuracy: 0.0819\n",
            "Epoch 5/40\n",
            "102/102 [==============================] - 24s 233ms/step - loss: 5.3166 - accuracy: 0.0963\n",
            "Epoch 6/40\n",
            "102/102 [==============================] - 24s 236ms/step - loss: 5.0098 - accuracy: 0.1143\n",
            "Epoch 7/40\n",
            "102/102 [==============================] - 24s 232ms/step - loss: 4.7041 - accuracy: 0.1442\n",
            "Epoch 8/40\n",
            "102/102 [==============================] - 24s 233ms/step - loss: 4.4150 - accuracy: 0.1690\n",
            "Epoch 9/40\n",
            "102/102 [==============================] - 23s 227ms/step - loss: 4.1424 - accuracy: 0.1938\n",
            "Epoch 10/40\n",
            "102/102 [==============================] - 23s 228ms/step - loss: 3.8898 - accuracy: 0.2174\n",
            "Epoch 11/40\n",
            "102/102 [==============================] - 24s 231ms/step - loss: 3.6505 - accuracy: 0.2385\n",
            "Epoch 12/40\n",
            "102/102 [==============================] - 24s 234ms/step - loss: 3.4231 - accuracy: 0.2669\n",
            "Epoch 13/40\n",
            "102/102 [==============================] - 23s 228ms/step - loss: 3.2000 - accuracy: 0.2975\n",
            "Epoch 14/40\n",
            "102/102 [==============================] - 23s 229ms/step - loss: 2.9902 - accuracy: 0.3382\n",
            "Epoch 15/40\n",
            "102/102 [==============================] - 24s 233ms/step - loss: 2.8044 - accuracy: 0.3792\n",
            "Epoch 16/40\n",
            "102/102 [==============================] - 24s 233ms/step - loss: 2.5991 - accuracy: 0.4289\n",
            "Epoch 17/40\n",
            "102/102 [==============================] - 24s 231ms/step - loss: 2.4171 - accuracy: 0.4697\n",
            "Epoch 18/40\n",
            "102/102 [==============================] - 24s 233ms/step - loss: 2.2504 - accuracy: 0.5115\n",
            "Epoch 19/40\n",
            "102/102 [==============================] - 25s 242ms/step - loss: 2.0889 - accuracy: 0.5532\n",
            "Epoch 20/40\n",
            "102/102 [==============================] - 24s 232ms/step - loss: 1.9349 - accuracy: 0.5914\n",
            "Epoch 21/40\n",
            "102/102 [==============================] - 23s 229ms/step - loss: 1.7933 - accuracy: 0.6234\n",
            "Epoch 22/40\n",
            "102/102 [==============================] - 23s 228ms/step - loss: 1.6624 - accuracy: 0.6564\n",
            "Epoch 23/40\n",
            "102/102 [==============================] - 23s 226ms/step - loss: 1.5400 - accuracy: 0.6878\n",
            "Epoch 24/40\n",
            "102/102 [==============================] - 23s 225ms/step - loss: 1.4229 - accuracy: 0.7120\n",
            "Epoch 25/40\n",
            "102/102 [==============================] - 23s 228ms/step - loss: 1.3153 - accuracy: 0.7461\n",
            "Epoch 26/40\n",
            "102/102 [==============================] - 23s 227ms/step - loss: 1.2174 - accuracy: 0.7692\n",
            "Epoch 27/40\n",
            "102/102 [==============================] - 23s 222ms/step - loss: 1.1252 - accuracy: 0.7952\n",
            "Epoch 28/40\n",
            "102/102 [==============================] - 24s 230ms/step - loss: 1.0377 - accuracy: 0.8158\n",
            "Epoch 29/40\n",
            "102/102 [==============================] - 23s 223ms/step - loss: 0.9555 - accuracy: 0.8427\n",
            "Epoch 30/40\n",
            "102/102 [==============================] - 22s 220ms/step - loss: 0.8815 - accuracy: 0.8561\n",
            "Epoch 31/40\n",
            "102/102 [==============================] - 22s 220ms/step - loss: 0.8125 - accuracy: 0.8748\n",
            "Epoch 32/40\n",
            "102/102 [==============================] - 23s 223ms/step - loss: 0.7474 - accuracy: 0.8892\n",
            "Epoch 33/40\n",
            "102/102 [==============================] - 23s 221ms/step - loss: 0.6888 - accuracy: 0.9032\n",
            "Epoch 34/40\n",
            "102/102 [==============================] - 23s 226ms/step - loss: 0.6316 - accuracy: 0.9111\n",
            "Epoch 35/40\n",
            "102/102 [==============================] - 24s 233ms/step - loss: 0.5855 - accuracy: 0.9221\n",
            "Epoch 36/40\n",
            "102/102 [==============================] - 23s 225ms/step - loss: 0.5385 - accuracy: 0.9294\n",
            "Epoch 37/40\n",
            "102/102 [==============================] - 23s 225ms/step - loss: 0.4945 - accuracy: 0.9378\n",
            "Epoch 38/40\n",
            "102/102 [==============================] - 23s 225ms/step - loss: 0.4552 - accuracy: 0.9432\n",
            "Epoch 39/40\n",
            "102/102 [==============================] - 23s 225ms/step - loss: 0.4195 - accuracy: 0.9504\n",
            "Epoch 40/40\n",
            "102/102 [==============================] - 23s 226ms/step - loss: 0.3855 - accuracy: 0.9538\n"
          ]
        }
      ],
      "source": [
        "#history = model.fit(predictors, label, batch_size=100, epochs=20, verbose=1)\n",
        "history = model.fit(predictors, label, batch_size=60, epochs=40, verbose=1)"
      ]
    },
    {
      "cell_type": "code",
      "execution_count": 45,
      "metadata": {
        "colab": {
          "base_uri": "https://localhost:8080/",
          "height": 1000
        },
        "id": "2zbuxmRlODU5",
        "outputId": "df19c59e-eee3-4e59-84b5-fb069533c353"
      },
      "outputs": [],
      "source": [
        "def plot_training_history(history):\n",
        "\n",
        "    # Historique de l'entraînement\n",
        "    acc = history.history['accuracy']\n",
        "    loss = history.history['loss']\n",
        "    epochs = range(1, len(acc) + 1)\n",
        "\n",
        "    # Créer une figure avec deux sous-graphiques\n",
        "    plt.figure(figsize=(12, 6))\n",
        "\n",
        "    # Sous-graphique pour l'accuracy\n",
        "    plt.subplot(1, 2, 2)\n",
        "    plt.plot(epochs, acc, 'b', label='Training accuracy')\n",
        "    plt.title('Training accuracy')\n",
        "    plt.xlabel('Epochs')\n",
        "    plt.ylabel('Accuracy')\n",
        "    plt.legend()\n",
        "\n",
        "    # Sous-graphique pour la perte (loss)\n",
        "    plt.subplot(1, 2, 1)\n",
        "    plt.plot(epochs, loss, 'r', label='Training Loss')\n",
        "    plt.title('Training loss')\n",
        "    plt.xlabel('Epochs')\n",
        "    plt.ylabel('Loss')\n",
        "    plt.legend()\n",
        "\n",
        "    # Afficher la figure\n",
        "    plt.tight_layout()\n",
        "    plt.show()\n"
      ]
    },
    {
      "cell_type": "code",
      "execution_count": 71,
      "metadata": {},
      "outputs": [
        {
          "data": {
            "image/png": "[encoded data removed]",
            "text/plain": [
              "<Figure size 1200x600 with 2 Axes>"
            ]
          },
          "metadata": {},
          "output_type": "display_data"
        }
      ],
      "source": [
        "plot_training_history(history)"
      ]
    },
    {
      "cell_type": "code",
      "execution_count": 39,
      "metadata": {
        "colab": {
          "base_uri": "https://localhost:8080/",
          "height": 54
        },
        "id": "basV3fTYS4As",
        "outputId": "a154b4de-a6bb-4cd6-dc56-2dfc3c8b1d1c"
      },
      "outputs": [],
      "source": [
        "def generate_text(seed_text, next_words, tokenizer, max_sequence_len, model):\n",
        "    generated_text = seed_text\n",
        "\n",
        "    for _ in range(next_words):\n",
        "        # Convertir le texte semé en une liste de jetons\n",
        "        token_list = tokenizer.texts_to_sequences([seed_text])[0]\n",
        "        # Ajouter un rembourrage si nécessaire pour atteindre la longueur maximale de la séquence\n",
        "        token_list = pad_sequences([token_list], maxlen=max_sequence_len-1, padding='pre')\n",
        "        # Prédire les probabilités des mots suivants\n",
        "        predicted_probs = model.predict(token_list, verbose=0)\n",
        "        \n",
        "        # Trouver l'indice de la classe prédite avec la plus grande probabilité\n",
        "        predicted_index = np.argmax(predicted_probs, axis=-1)[0]\n",
        "        \n",
        "        # Trouver le mot correspondant à l'indice prédit\n",
        "        output_word = \"\"\n",
        "        for word, index in tokenizer.word_index.items():\n",
        "            if index == predicted_index:\n",
        "                output_word = word\n",
        "                break\n",
        "        \n",
        "        # Ajouter le mot prédit à la séquence générée\n",
        "        generated_text += \" \" + output_word\n",
        "        # Mettre à jour le texte semé pour la prochaine itération\n",
        "        seed_text = generated_text\n",
        "    \n",
        "    return generated_text\n"
      ]
    },
    {
      "cell_type": "code",
      "execution_count": 72,
      "metadata": {},
      "outputs": [
        {
          "name": "stdout",
          "output_type": "stream",
          "text": [
            "seed text : la peur du fait que les hommes se croient libres pour que la nature qu’ils se donne pour visée d’appliquer la méthode géométrique à la philosophie est l’effort vertu à la puissance...\n"
          ]
        }
      ],
      "source": [
        "# Utilisation de la fonction pour générer du texte\n",
        "seed_text = \"la peur\"\n",
        "next_words = 30\n",
        "generated_text = generate_text(seed_text, next_words, tokenizer, max_sequence_len, model)\n",
        "print(\"seed text : \" + str(generated_text) + '...')"
      ]
    },
    {
      "cell_type": "code",
      "execution_count": 74,
      "metadata": {},
      "outputs": [
        {
          "name": "stdout",
          "output_type": "stream",
          "text": [
            "seed text : le désir est un effet car la...\n"
          ]
        }
      ],
      "source": [
        "seed_text = \"le désir\"\n",
        "next_words = 5\n",
        "generated_text = generate_text(seed_text, next_words, tokenizer, max_sequence_len, model)\n",
        "print(\"seed text : \" + str(generated_text) + '...')"
      ]
    },
    {
      "cell_type": "code",
      "execution_count": 75,
      "metadata": {},
      "outputs": [
        {
          "name": "stdout",
          "output_type": "stream",
          "text": [
            "seed text : le dieu est également une partie de l’intellect infini de dieu ce qui permet cette belle affirmation dieu constitue la nature de...\n"
          ]
        }
      ],
      "source": [
        "seed_text = \"le dieu\"\n",
        "next_words = 20\n",
        "generated_text = generate_text(seed_text, next_words, tokenizer, max_sequence_len, model)\n",
        "print(\"seed text : \" + str(generated_text) + '...')"
      ]
    },
    {
      "cell_type": "code",
      "execution_count": null,
      "metadata": {},
      "outputs": [],
      "source": []
    },
    {
      "cell_type": "code",
      "execution_count": 83,
      "metadata": {},
      "outputs": [
        {
          "name": "stdout",
          "output_type": "stream",
          "text": [
            "Model: \"Model_LSTM_Spinoza\"\n",
            "_________________________________________________________________\n",
            " Layer (type)                Output Shape              Param #   \n",
            "=================================================================\n",
            " embedding_12 (Embedding)    (None, 106, 100)          130200    \n",
            "                                                                 \n",
            " bidirectional_12 (Bidirect  (None, 300)               301200    \n",
            " ional)                                                          \n",
            "                                                                 \n",
            " dense_12 (Dense)            (None, 1302)              391902    \n",
            "                                                                 \n",
            "=================================================================\n",
            "Total params: 823302 (3.14 MB)\n",
            "Trainable params: 823302 (3.14 MB)\n",
            "Non-trainable params: 0 (0.00 Byte)\n",
            "_________________________________________________________________\n"
          ]
        }
      ],
      "source": [
        "def create_lstm_model_more(total_words, max_sequence_len):\n",
        "    model = Sequential(name=\"Model_LSTM_Spinoza\")\n",
        "    \n",
        "    # Couche d'Embedding\n",
        "    embedding_layer = Embedding(input_dim=total_words, output_dim=100, input_length=max_sequence_len)\n",
        "    \n",
        "    # Ajout des couches au modèle\n",
        "    model.add(embedding_layer)\n",
        "    model.add(Bidirectional(LSTM(150, return_sequences=True)))\n",
        "    model.add(Bidirectional(LSTM(100, return_sequences=True)))\n",
        "    model.add(Bidirectional(LSTM(50)))\n",
        "    model.add(Dense(100, activation='relu',kernel_regularizer=regularizers.l2(0.01)))\n",
        "    model.add(Dense(total_words, activation='softmax'))\n",
        "    \n",
        "    # Utilisation de l'optimiseur legacy pour Macs M1/M2\n",
        "    optimizer = tf.keras.optimizers.legacy.Adam(learning_rate=0.001)\n",
        "    model.compile(loss='categorical_crossentropy', optimizer=optimizer, metrics=['accuracy'])\n",
        "    \n",
        "    # Définition de EarlyStopping\n",
        "    #earlystop = EarlyStopping(monitor='val_loss', min_delta=0, patience=5, verbose=0, mode='auto')\n",
        "    \n",
        "    # Affichage du résumé du modèle\n",
        "    model.summary()\n",
        "    \n",
        "    return model\n",
        "\n",
        "\n",
        "model_more = create_lstm_model(total_words, max_sequence_len)"
      ]
    },
    {
      "cell_type": "code",
      "execution_count": 84,
      "metadata": {},
      "outputs": [
        {
          "name": "stdout",
          "output_type": "stream",
          "text": [
            "Epoch 1/30\n"
          ]
        },
        {
          "name": "stdout",
          "output_type": "stream",
          "text": [
            "41/41 [==============================] - 17s 363ms/step - loss: 6.4206 - accuracy: 0.0529\n",
            "Epoch 2/30\n",
            "41/41 [==============================] - 14s 343ms/step - loss: 5.9495 - accuracy: 0.0570\n",
            "Epoch 3/30\n",
            "41/41 [==============================] - 14s 333ms/step - loss: 5.9040 - accuracy: 0.0570\n",
            "Epoch 4/30\n",
            "41/41 [==============================] - 14s 336ms/step - loss: 5.8566 - accuracy: 0.0581\n",
            "Epoch 5/30\n",
            "41/41 [==============================] - 14s 346ms/step - loss: 5.7691 - accuracy: 0.0684\n",
            "Epoch 6/30\n",
            "41/41 [==============================] - 14s 333ms/step - loss: 5.6294 - accuracy: 0.0812\n",
            "Epoch 7/30\n",
            "41/41 [==============================] - 14s 347ms/step - loss: 5.4627 - accuracy: 0.0917\n",
            "Epoch 8/30\n",
            "41/41 [==============================] - 14s 340ms/step - loss: 5.2876 - accuracy: 0.0992\n",
            "Epoch 9/30\n",
            "41/41 [==============================] - 15s 366ms/step - loss: 5.1072 - accuracy: 0.1121\n",
            "Epoch 10/30\n",
            "41/41 [==============================] - 14s 337ms/step - loss: 4.9344 - accuracy: 0.1305\n",
            "Epoch 11/30\n",
            "41/41 [==============================] - 14s 338ms/step - loss: 4.7685 - accuracy: 0.1436\n",
            "Epoch 12/30\n",
            "41/41 [==============================] - 14s 348ms/step - loss: 4.6116 - accuracy: 0.1554\n",
            "Epoch 13/30\n",
            "41/41 [==============================] - 14s 337ms/step - loss: 4.4663 - accuracy: 0.1670\n",
            "Epoch 14/30\n",
            "41/41 [==============================] - 14s 347ms/step - loss: 4.3257 - accuracy: 0.1814\n",
            "Epoch 15/30\n",
            "41/41 [==============================] - 14s 338ms/step - loss: 4.1942 - accuracy: 0.1947\n",
            "Epoch 16/30\n",
            "41/41 [==============================] - 14s 351ms/step - loss: 4.0596 - accuracy: 0.2073\n",
            "Epoch 17/30\n",
            "41/41 [==============================] - 14s 337ms/step - loss: 3.9303 - accuracy: 0.2159\n",
            "Epoch 18/30\n",
            "41/41 [==============================] - 14s 349ms/step - loss: 3.8057 - accuracy: 0.2325\n",
            "Epoch 19/30\n",
            "41/41 [==============================] - 14s 339ms/step - loss: 3.6819 - accuracy: 0.2436\n",
            "Epoch 20/30\n",
            "41/41 [==============================] - 14s 349ms/step - loss: 3.5678 - accuracy: 0.2543\n",
            "Epoch 21/30\n",
            "41/41 [==============================] - 14s 341ms/step - loss: 3.4519 - accuracy: 0.2698\n",
            "Epoch 22/30\n",
            "41/41 [==============================] - 14s 337ms/step - loss: 3.3340 - accuracy: 0.2867\n",
            "Epoch 23/30\n",
            "41/41 [==============================] - 14s 349ms/step - loss: 3.2191 - accuracy: 0.3004\n",
            "Epoch 24/30\n",
            "41/41 [==============================] - 14s 339ms/step - loss: 3.1118 - accuracy: 0.3150\n",
            "Epoch 25/30\n",
            "41/41 [==============================] - 14s 353ms/step - loss: 3.0080 - accuracy: 0.3312\n",
            "Epoch 26/30\n",
            "41/41 [==============================] - 14s 339ms/step - loss: 2.8974 - accuracy: 0.3561\n",
            "Epoch 27/30\n",
            "41/41 [==============================] - 14s 351ms/step - loss: 2.7967 - accuracy: 0.3792\n",
            "Epoch 28/30\n",
            "41/41 [==============================] - 15s 366ms/step - loss: 2.6938 - accuracy: 0.3959\n",
            "Epoch 29/30\n",
            "41/41 [==============================] - 14s 349ms/step - loss: 2.5971 - accuracy: 0.4157\n",
            "Epoch 30/30\n",
            "41/41 [==============================] - 17s 408ms/step - loss: 2.5036 - accuracy: 0.4361\n"
          ]
        },
        {
          "data": {
            "image/png": "[encoded data removed]",
            "text/plain": [
              "<Figure size 1200x600 with 2 Axes>"
            ]
          },
          "metadata": {},
          "output_type": "display_data"
        }
      ],
      "source": [
        "history = model_more.fit(predictors, label, batch_size=150, epochs=30, verbose=1)\n",
        "plot_training_history(history)"
      ]
    },
    {
      "cell_type": "code",
      "execution_count": null,
      "metadata": {},
      "outputs": [],
      "source": []
    },
    {
      "cell_type": "code",
      "execution_count": null,
      "metadata": {},
      "outputs": [],
      "source": []
    },
    {
      "cell_type": "code",
      "execution_count": null,
      "metadata": {},
      "outputs": [],
      "source": []
    },
    {
      "cell_type": "code",
      "execution_count": null,
      "metadata": {},
      "outputs": [],
      "source": []
    },
    {
      "cell_type": "code",
      "execution_count": null,
      "metadata": {},
      "outputs": [],
      "source": []
    }
  ],
  "metadata": {
    "accelerator": "GPU",
    "colab": {
      "authorship_tag": "ABX9TyNvWFp7Pb2EA6CXfmdX3Tcc",
      "collapsed_sections": [],
      "include_colab_link": true,
      "name": "Generate_Baudelaire_poem_TF.ipynb",
      "provenance": []
    },
    "kernelspec": {
      "display_name": "Python 3",
      "name": "python3"
    },
    "language_info": {
      "codemirror_mode": {
        "name": "ipython",
        "version": 3
      },
      "file_extension": ".py",
      "mimetype": "text/x-python",
      "name": "python",
      "nbconvert_exporter": "python",
      "pygments_lexer": "ipython3",
      "version": "3.11.6"
    }
  },
  "nbformat": 4,
  "nbformat_minor": 0
}
