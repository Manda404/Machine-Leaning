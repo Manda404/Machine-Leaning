{
 "cells": [
  {
   "cell_type": "markdown",
   "id": "ff3e2f9c",
   "metadata": {},
   "source": [
    "<h1 align=\"center\" style=\"color:#003366;\"> Speech Emotion Recognition</h1>\n",
    "<h2 align=\"center\" style=\"color:#00529b;\"> Politecnico di Torino </h2>\n",
    "<h3 align=\"center\" style=\"color:#007acc;\"> Project Data Science Lab - Winter Call, A.Y. 2022/2023 </h3>\n",
    "\n",
    "---\n",
    "\n",
    "## Project Objective\n",
    "Speech Emotion Recognition is a task in speech processing and computational paralinguistics aiming to categorize emotions expressed in spoken language. The goal is to determine the speaker's emotional state (happiness, anger, sadness, or frustration) based on speech patterns like prosody, pitch, and rhythm.\n",
    "\n"
   ]
  },
  {
   "cell_type": "markdown",
   "id": "0b388581",
   "metadata": {},
   "source": [
    "## Integrating Essential Libraries for Project Development"
   ]
  },
  {
   "cell_type": "code",
   "execution_count": 68,
   "id": "e2f47c29",
   "metadata": {},
   "outputs": [],
   "source": [
    "# File system manangement\n",
    "import os\n",
    "import sys\n",
    "import time\n",
    "import librosa\n",
    "import numpy as np\n",
    "import pandas as pd\n",
    "import seaborn as sns\n",
    "from time import time\n",
    "from pathlib import Path\n",
    "import plotly.graph_objects as go\n",
    "import matplotlib.pyplot as plt\n",
    "from librosa.effects import trim\n",
    "\n",
    "# sklearn Algoritm of Machine Learning # Classifier Libraries\n",
    "from xgboost import XGBClassifier\n",
    "from sklearn.neighbors import KNeighborsClassifier\n",
    "from sklearn.ensemble import RandomForestClassifier\n",
    "from sklearn.ensemble import ExtraTreesClassifier\n",
    "from sklearn.ensemble import RandomForestClassifier, AdaBoostClassifier\n",
    "##\n",
    "from sklearn.compose import ColumnTransformer\n",
    "from sklearn.model_selection import train_test_split\n",
    "from sklearn.model_selection import RandomizedSearchCV,GridSearchCV\n",
    "from sklearn.metrics import confusion_matrix, classification_report\n",
    "from sklearn.preprocessing import StandardScaler,MinMaxScaler, OneHotEncoder, LabelEncoder\n",
    "\n",
    "# Grid Search\n",
    "from sklearn.pipeline import Pipeline\n",
    "from imblearn.over_sampling import SMOTE\n",
    "from imblearn.pipeline import Pipeline as imbpipeline\n",
    "from sklearn.model_selection import ShuffleSplit,cross_val_score,train_test_split\n",
    "from sklearn.model_selection import StratifiedKFold,StratifiedShuffleSplit, KFold ,RepeatedKFold, RepeatedStratifiedKFold\n",
    "from sklearn.metrics import confusion_matrix, classification_report, accuracy_score\n",
    "\n",
    "# Suppress warnings \n",
    "import warnings\n",
    "warnings.filterwarnings('ignore')\n",
    "import warnings # supress warnings"
   ]
  },
  {
   "cell_type": "code",
   "execution_count": 69,
   "id": "4cc72c83",
   "metadata": {},
   "outputs": [
    {
     "name": "stdout",
     "output_type": "stream",
     "text": [
      "Shape of the original dataset: \n",
      "development.shape : (9854, 10)\n",
      "show original dataset: \n",
      "Development: \n"
     ]
    },
    {
     "data": {
      "text/html": [
       "<div>\n",
       "<style scoped>\n",
       "    .dataframe tbody tr th:only-of-type {\n",
       "        vertical-align: middle;\n",
       "    }\n",
       "\n",
       "    .dataframe tbody tr th {\n",
       "        vertical-align: top;\n",
       "    }\n",
       "\n",
       "    .dataframe thead th {\n",
       "        text-align: right;\n",
       "    }\n",
       "</style>\n",
       "<table border=\"1\" class=\"dataframe\">\n",
       "  <thead>\n",
       "    <tr style=\"text-align: right;\">\n",
       "      <th></th>\n",
       "      <th>Id</th>\n",
       "      <th>path</th>\n",
       "      <th>speakerId</th>\n",
       "      <th>action</th>\n",
       "      <th>object</th>\n",
       "      <th>Self-reported fluency level</th>\n",
       "      <th>First Language spoken</th>\n",
       "      <th>Current language used for work/school</th>\n",
       "      <th>gender</th>\n",
       "      <th>ageRange</th>\n",
       "    </tr>\n",
       "  </thead>\n",
       "  <tbody>\n",
       "    <tr>\n",
       "      <th>9852</th>\n",
       "      <td>9852</td>\n",
       "      <td>dsl_data/audio/speakers/vnljypgejkINbBAY/5ef42...</td>\n",
       "      <td>vnljypgejkINbBAY</td>\n",
       "      <td>deactivate</td>\n",
       "      <td>lights</td>\n",
       "      <td>native</td>\n",
       "      <td>English (United States)</td>\n",
       "      <td>English (United States)</td>\n",
       "      <td>male</td>\n",
       "      <td>22-40</td>\n",
       "    </tr>\n",
       "    <tr>\n",
       "      <th>9853</th>\n",
       "      <td>9853</td>\n",
       "      <td>dsl_data/audio/speakers/vnljypgejkINbBAY/61b7a...</td>\n",
       "      <td>vnljypgejkINbBAY</td>\n",
       "      <td>increase</td>\n",
       "      <td>volume</td>\n",
       "      <td>native</td>\n",
       "      <td>English (United States)</td>\n",
       "      <td>English (United States)</td>\n",
       "      <td>male</td>\n",
       "      <td>22-40</td>\n",
       "    </tr>\n",
       "  </tbody>\n",
       "</table>\n",
       "</div>"
      ],
      "text/plain": [
       "        Id                                               path  \\\n",
       "9852  9852  dsl_data/audio/speakers/vnljypgejkINbBAY/5ef42...   \n",
       "9853  9853  dsl_data/audio/speakers/vnljypgejkINbBAY/61b7a...   \n",
       "\n",
       "             speakerId      action  object Self-reported fluency level   \\\n",
       "9852  vnljypgejkINbBAY  deactivate  lights                       native   \n",
       "9853  vnljypgejkINbBAY    increase  volume                       native   \n",
       "\n",
       "        First Language spoken Current language used for work/school gender  \\\n",
       "9852  English (United States)               English (United States)   male   \n",
       "9853  English (United States)               English (United States)   male   \n",
       "\n",
       "     ageRange  \n",
       "9852    22-40  \n",
       "9853    22-40  "
      ]
     },
     "metadata": {},
     "output_type": "display_data"
    }
   ],
   "source": [
    "# load all data from file that we will use for your homework\n",
    "Path = '/Users/surelmanda/Downloads/AirGUARD/Project-NPL/development.csv'\n",
    "dev_tsv = pd.read_csv(Path,sep=',')\n",
    "\n",
    "print(\"Shape of the original dataset: \")\n",
    "print('development.shape :' ,dev_tsv.shape)\n",
    "\n",
    "\n",
    "print(\"show original dataset: \")\n",
    "print('Development: ')\n",
    "display(dev_tsv.tail(2))"
   ]
  },
  {
   "cell_type": "code",
   "execution_count": 70,
   "id": "d2d774cf",
   "metadata": {},
   "outputs": [
    {
     "data": {
      "text/html": [
       "<div>\n",
       "<style scoped>\n",
       "    .dataframe tbody tr th:only-of-type {\n",
       "        vertical-align: middle;\n",
       "    }\n",
       "\n",
       "    .dataframe tbody tr th {\n",
       "        vertical-align: top;\n",
       "    }\n",
       "\n",
       "    .dataframe thead th {\n",
       "        text-align: right;\n",
       "    }\n",
       "</style>\n",
       "<table border=\"1\" class=\"dataframe\">\n",
       "  <thead>\n",
       "    <tr style=\"text-align: right;\">\n",
       "      <th></th>\n",
       "      <th>Id</th>\n",
       "      <th>path</th>\n",
       "      <th>speakerId</th>\n",
       "      <th>Self-reported fluency level</th>\n",
       "      <th>First Language spoken</th>\n",
       "      <th>Current language used for work/school</th>\n",
       "      <th>gender</th>\n",
       "      <th>ageRange</th>\n",
       "      <th>Target</th>\n",
       "    </tr>\n",
       "  </thead>\n",
       "  <tbody>\n",
       "    <tr>\n",
       "      <th>9852</th>\n",
       "      <td>9852</td>\n",
       "      <td>dsl_data/audio/speakers/vnljypgejkINbBAY/5ef42...</td>\n",
       "      <td>vnljypgejkINbBAY</td>\n",
       "      <td>native</td>\n",
       "      <td>English (United States)</td>\n",
       "      <td>English (United States)</td>\n",
       "      <td>male</td>\n",
       "      <td>22-40</td>\n",
       "      <td>deactivatelights</td>\n",
       "    </tr>\n",
       "    <tr>\n",
       "      <th>9853</th>\n",
       "      <td>9853</td>\n",
       "      <td>dsl_data/audio/speakers/vnljypgejkINbBAY/61b7a...</td>\n",
       "      <td>vnljypgejkINbBAY</td>\n",
       "      <td>native</td>\n",
       "      <td>English (United States)</td>\n",
       "      <td>English (United States)</td>\n",
       "      <td>male</td>\n",
       "      <td>22-40</td>\n",
       "      <td>increasevolume</td>\n",
       "    </tr>\n",
       "  </tbody>\n",
       "</table>\n",
       "</div>"
      ],
      "text/plain": [
       "        Id                                               path  \\\n",
       "9852  9852  dsl_data/audio/speakers/vnljypgejkINbBAY/5ef42...   \n",
       "9853  9853  dsl_data/audio/speakers/vnljypgejkINbBAY/61b7a...   \n",
       "\n",
       "             speakerId Self-reported fluency level     First Language spoken  \\\n",
       "9852  vnljypgejkINbBAY                       native  English (United States)   \n",
       "9853  vnljypgejkINbBAY                       native  English (United States)   \n",
       "\n",
       "     Current language used for work/school gender ageRange            Target  \n",
       "9852               English (United States)   male    22-40  deactivatelights  \n",
       "9853               English (United States)   male    22-40    increasevolume  "
      ]
     },
     "metadata": {},
     "output_type": "display_data"
    }
   ],
   "source": [
    "# Construct the target column by concatenate action and object columns :\n",
    "dataspeaker = dev_tsv.copy()\n",
    "dataspeaker['Target']=dataspeaker.action+dataspeaker.object\n",
    "dataspeaker.drop(['action','object'], axis=1, inplace=True)\n",
    "display(dataspeaker.tail(2))"
   ]
  },
  {
   "cell_type": "markdown",
   "id": "433dea6a",
   "metadata": {},
   "source": [
    "# Load audio for each speakerId using path column"
   ]
  },
  {
   "cell_type": "code",
   "execution_count": 71,
   "id": "f7f1015e",
   "metadata": {},
   "outputs": [],
   "source": [
    "# Read audio data from a list of audio file paths\n",
    "# and create a DataFrame with audio features and sample rates.\n",
    "\n",
    "from scipy.io import wavfile\n",
    "import os\n",
    "\n",
    "def load_data_from_audio(list_paths_audio):\n",
    "    # Specify the base path where the audio files are located\n",
    "    base_path = '/Users/surelmanda/Downloads/AirGUARD/Project-NPL/'\n",
    "    \n",
    "    # Lists to store extracted audio data and corresponding sample rates\n",
    "    X_audio, SR_audio = [], []\n",
    "    \n",
    "    # Iterate through each file path in the provided list\n",
    "    for file in list_paths_audio:\n",
    "        # Read the audio file using scipy's wavfile.read\n",
    "        # It returns sample rate (sr) and audio data (data)\n",
    "        sr, data = wavfile.read(os.path.join(base_path, file))\n",
    "        \n",
    "        # Append the audio data as a float32 numpy array to X_audio\n",
    "        X_audio.append(data.astype(np.float32))\n",
    "        \n",
    "        # Append the sample rate to SR_audio\n",
    "        SR_audio.append(sr)\n",
    "    \n",
    "    # Create a DataFrame from the collected audio features and sample rates\n",
    "    audio_dataframe = pd.DataFrame({'Audio_features': X_audio, 'Sample_Rate': SR_audio})\n",
    "    \n",
    "    # Return the resulting DataFrame\n",
    "    return audio_dataframe\n"
   ]
  },
  {
   "cell_type": "code",
   "execution_count": 72,
   "id": "2cd7161c",
   "metadata": {},
   "outputs": [
    {
     "data": {
      "text/html": [
       "<div>\n",
       "<style scoped>\n",
       "    .dataframe tbody tr th:only-of-type {\n",
       "        vertical-align: middle;\n",
       "    }\n",
       "\n",
       "    .dataframe tbody tr th {\n",
       "        vertical-align: top;\n",
       "    }\n",
       "\n",
       "    .dataframe thead th {\n",
       "        text-align: right;\n",
       "    }\n",
       "</style>\n",
       "<table border=\"1\" class=\"dataframe\">\n",
       "  <thead>\n",
       "    <tr style=\"text-align: right;\">\n",
       "      <th></th>\n",
       "      <th>speakerId</th>\n",
       "      <th>Self-reported fluency level</th>\n",
       "      <th>First Language spoken</th>\n",
       "      <th>Current language used for work/school</th>\n",
       "      <th>gender</th>\n",
       "      <th>ageRange</th>\n",
       "      <th>Target</th>\n",
       "      <th>Audio_features</th>\n",
       "      <th>Sample_Rate</th>\n",
       "    </tr>\n",
       "  </thead>\n",
       "  <tbody>\n",
       "    <tr>\n",
       "      <th>0</th>\n",
       "      <td>2BqVo8kVB2Skwgyb</td>\n",
       "      <td>advanced</td>\n",
       "      <td>English (United States)</td>\n",
       "      <td>English (United States)</td>\n",
       "      <td>female</td>\n",
       "      <td>22-40</td>\n",
       "      <td>change languagenone</td>\n",
       "      <td>[0.0, 0.0, 0.0, 0.0, 0.0, 0.0, 0.0, 0.0, 0.0, ...</td>\n",
       "      <td>16000</td>\n",
       "    </tr>\n",
       "    <tr>\n",
       "      <th>1</th>\n",
       "      <td>2BqVo8kVB2Skwgyb</td>\n",
       "      <td>advanced</td>\n",
       "      <td>English (United States)</td>\n",
       "      <td>English (United States)</td>\n",
       "      <td>female</td>\n",
       "      <td>22-40</td>\n",
       "      <td>activatemusic</td>\n",
       "      <td>[0.0, 0.0, 0.0, 0.0, 0.0, 0.0, 0.0, 0.0, 0.0, ...</td>\n",
       "      <td>16000</td>\n",
       "    </tr>\n",
       "    <tr>\n",
       "      <th>2</th>\n",
       "      <td>2BqVo8kVB2Skwgyb</td>\n",
       "      <td>advanced</td>\n",
       "      <td>English (United States)</td>\n",
       "      <td>English (United States)</td>\n",
       "      <td>female</td>\n",
       "      <td>22-40</td>\n",
       "      <td>deactivatelights</td>\n",
       "      <td>[0.0, 0.0, 0.0, 0.0, 0.0, 0.0, 0.0, 0.0, 0.0, ...</td>\n",
       "      <td>16000</td>\n",
       "    </tr>\n",
       "  </tbody>\n",
       "</table>\n",
       "</div>"
      ],
      "text/plain": [
       "          speakerId Self-reported fluency level     First Language spoken  \\\n",
       "0  2BqVo8kVB2Skwgyb                     advanced  English (United States)   \n",
       "1  2BqVo8kVB2Skwgyb                     advanced  English (United States)   \n",
       "2  2BqVo8kVB2Skwgyb                     advanced  English (United States)   \n",
       "\n",
       "  Current language used for work/school  gender ageRange               Target  \\\n",
       "0               English (United States)  female    22-40  change languagenone   \n",
       "1               English (United States)  female    22-40        activatemusic   \n",
       "2               English (United States)  female    22-40     deactivatelights   \n",
       "\n",
       "                                      Audio_features  Sample_Rate  \n",
       "0  [0.0, 0.0, 0.0, 0.0, 0.0, 0.0, 0.0, 0.0, 0.0, ...        16000  \n",
       "1  [0.0, 0.0, 0.0, 0.0, 0.0, 0.0, 0.0, 0.0, 0.0, ...        16000  \n",
       "2  [0.0, 0.0, 0.0, 0.0, 0.0, 0.0, 0.0, 0.0, 0.0, ...        16000  "
      ]
     },
     "metadata": {},
     "output_type": "display_data"
    }
   ],
   "source": [
    "#For each path from dataframe we will Extract Feature and sample rate using the function load_data_from_audio():\n",
    "data_with_audio = load_data_from_audio(dev_tsv.path.tolist())\n",
    "\n",
    "data = pd.concat([dataspeaker,data_with_audio],axis=1,sort=True)\n",
    "\n",
    "data.drop(['path','Id'], axis=1, inplace=True)\n",
    "\n",
    "display(data.head(3))\n"
   ]
  },
  {
   "cell_type": "markdown",
   "id": "e68b5867",
   "metadata": {},
   "source": [
    "## Processing Handle Audio Feature"
   ]
  },
  {
   "cell_type": "code",
   "execution_count": 73,
   "id": "84640555",
   "metadata": {},
   "outputs": [
    {
     "name": "stdout",
     "output_type": "stream",
     "text": [
      "Sampling rate = 16000 [samples/s]\n",
      "Is the sampling rate consistent for all development recordings?  False\n"
     ]
    }
   ],
   "source": [
    "# Before applying the preprocessing, it's crucial to address some considerations:\n",
    "# - Were the audios recorded under consistent conditions?\n",
    "# - Do the audios share the same duration?\n",
    "\n",
    "# To answer these questions, conduct simple checks and utilize visualization techniques\n",
    "# for data inspection.\n",
    "\n",
    "# Extract sample rates from the training data\n",
    "dev_SR = data['Sample_Rate'].tolist()\n",
    "\n",
    "# Select the sample rate of the first recording for comparison\n",
    "SR = dev_SR[0]\n",
    "\n",
    "# Display the sample rate information\n",
    "print(f\"Sampling rate = {SR} [samples/s]\")\n",
    "\n",
    "# Check if the sampling rate is consistent across all development recordings\n",
    "consistent_sampling_rate = all([sr == SR for sr in dev_SR])\n",
    "print(\"Is the sampling rate consistent for all development recordings? \", consistent_sampling_rate)\n",
    "\n"
   ]
  },
  {
   "cell_type": "markdown",
   "id": "1cc6cffa",
   "metadata": {},
   "source": [
    "The conclusion we can draw from the provided code is that the sampling rate is not consistent for all development recordings. The printed message \"Is the sampling rate consistent for all development recordings? False\" indicates that there is at least one recording in the 'DataTrain' DataFrame with a sampling rate different from the first recording.\n",
    "\n",
    "In practical terms, having inconsistent sampling rates across audio recordings can pose challenges during analysis or machine learning tasks. It's often beneficial to have uniformity in sampling rates to ensure compatibility and simplify processing steps. Further investigation or preprocessing may be required to address this inconsistency, such as resampling the audio recordings to a common sampling rate."
   ]
  },
  {
   "cell_type": "markdown",
   "id": "7e6cb8db",
   "metadata": {},
   "source": [
    "Analyse the propostion of each type of sample rate in the full dataset"
   ]
  },
  {
   "cell_type": "code",
   "execution_count": 74,
   "id": "33865a7f",
   "metadata": {},
   "outputs": [
    {
     "name": "stdout",
     "output_type": "stream",
     "text": [
      "Explore Sample_Rate for data:\n"
     ]
    },
    {
     "data": {
      "text/html": [
       "<div>\n",
       "<style scoped>\n",
       "    .dataframe tbody tr th:only-of-type {\n",
       "        vertical-align: middle;\n",
       "    }\n",
       "\n",
       "    .dataframe tbody tr th {\n",
       "        vertical-align: top;\n",
       "    }\n",
       "\n",
       "    .dataframe thead th {\n",
       "        text-align: right;\n",
       "    }\n",
       "</style>\n",
       "<table border=\"1\" class=\"dataframe\">\n",
       "  <thead>\n",
       "    <tr style=\"text-align: right;\">\n",
       "      <th></th>\n",
       "      <th>Sample Rate</th>\n",
       "      <th>count</th>\n",
       "    </tr>\n",
       "  </thead>\n",
       "  <tbody>\n",
       "    <tr>\n",
       "      <th>0</th>\n",
       "      <td>16000</td>\n",
       "      <td>9554</td>\n",
       "    </tr>\n",
       "    <tr>\n",
       "      <th>1</th>\n",
       "      <td>22050</td>\n",
       "      <td>300</td>\n",
       "    </tr>\n",
       "  </tbody>\n",
       "</table>\n",
       "</div>"
      ],
      "text/plain": [
       "   Sample Rate  count\n",
       "0        16000   9554\n",
       "1        22050    300"
      ]
     },
     "metadata": {},
     "output_type": "display_data"
    },
    {
     "data": {
      "application/vnd.plotly.v1+json": {
       "config": {
        "plotlyServerURL": "https://plot.ly"
       },
       "data": [
        {
         "type": "bar",
         "x": [
          16000,
          22050
         ],
         "y": [
          9554,
          300
         ]
        }
       ],
       "layout": {
        "template": {
         "data": {
          "bar": [
           {
            "error_x": {
             "color": "#2a3f5f"
            },
            "error_y": {
             "color": "#2a3f5f"
            },
            "marker": {
             "line": {
              "color": "#E5ECF6",
              "width": 0.5
             },
             "pattern": {
              "fillmode": "overlay",
              "size": 10,
              "solidity": 0.2
             }
            },
            "type": "bar"
           }
          ],
          "barpolar": [
           {
            "marker": {
             "line": {
              "color": "#E5ECF6",
              "width": 0.5
             },
             "pattern": {
              "fillmode": "overlay",
              "size": 10,
              "solidity": 0.2
             }
            },
            "type": "barpolar"
           }
          ],
          "carpet": [
           {
            "aaxis": {
             "endlinecolor": "#2a3f5f",
             "gridcolor": "white",
             "linecolor": "white",
             "minorgridcolor": "white",
             "startlinecolor": "#2a3f5f"
            },
            "baxis": {
             "endlinecolor": "#2a3f5f",
             "gridcolor": "white",
             "linecolor": "white",
             "minorgridcolor": "white",
             "startlinecolor": "#2a3f5f"
            },
            "type": "carpet"
           }
          ],
          "choropleth": [
           {
            "colorbar": {
             "outlinewidth": 0,
             "ticks": ""
            },
            "type": "choropleth"
           }
          ],
          "contour": [
           {
            "colorbar": {
             "outlinewidth": 0,
             "ticks": ""
            },
            "colorscale": [
             [
              0,
              "#0d0887"
             ],
             [
              0.1111111111111111,
              "#46039f"
             ],
             [
              0.2222222222222222,
              "#7201a8"
             ],
             [
              0.3333333333333333,
              "#9c179e"
             ],
             [
              0.4444444444444444,
              "#bd3786"
             ],
             [
              0.5555555555555556,
              "#d8576b"
             ],
             [
              0.6666666666666666,
              "#ed7953"
             ],
             [
              0.7777777777777778,
              "#fb9f3a"
             ],
             [
              0.8888888888888888,
              "#fdca26"
             ],
             [
              1,
              "#f0f921"
             ]
            ],
            "type": "contour"
           }
          ],
          "contourcarpet": [
           {
            "colorbar": {
             "outlinewidth": 0,
             "ticks": ""
            },
            "type": "contourcarpet"
           }
          ],
          "heatmap": [
           {
            "colorbar": {
             "outlinewidth": 0,
             "ticks": ""
            },
            "colorscale": [
             [
              0,
              "#0d0887"
             ],
             [
              0.1111111111111111,
              "#46039f"
             ],
             [
              0.2222222222222222,
              "#7201a8"
             ],
             [
              0.3333333333333333,
              "#9c179e"
             ],
             [
              0.4444444444444444,
              "#bd3786"
             ],
             [
              0.5555555555555556,
              "#d8576b"
             ],
             [
              0.6666666666666666,
              "#ed7953"
             ],
             [
              0.7777777777777778,
              "#fb9f3a"
             ],
             [
              0.8888888888888888,
              "#fdca26"
             ],
             [
              1,
              "#f0f921"
             ]
            ],
            "type": "heatmap"
           }
          ],
          "heatmapgl": [
           {
            "colorbar": {
             "outlinewidth": 0,
             "ticks": ""
            },
            "colorscale": [
             [
              0,
              "#0d0887"
             ],
             [
              0.1111111111111111,
              "#46039f"
             ],
             [
              0.2222222222222222,
              "#7201a8"
             ],
             [
              0.3333333333333333,
              "#9c179e"
             ],
             [
              0.4444444444444444,
              "#bd3786"
             ],
             [
              0.5555555555555556,
              "#d8576b"
             ],
             [
              0.6666666666666666,
              "#ed7953"
             ],
             [
              0.7777777777777778,
              "#fb9f3a"
             ],
             [
              0.8888888888888888,
              "#fdca26"
             ],
             [
              1,
              "#f0f921"
             ]
            ],
            "type": "heatmapgl"
           }
          ],
          "histogram": [
           {
            "marker": {
             "pattern": {
              "fillmode": "overlay",
              "size": 10,
              "solidity": 0.2
             }
            },
            "type": "histogram"
           }
          ],
          "histogram2d": [
           {
            "colorbar": {
             "outlinewidth": 0,
             "ticks": ""
            },
            "colorscale": [
             [
              0,
              "#0d0887"
             ],
             [
              0.1111111111111111,
              "#46039f"
             ],
             [
              0.2222222222222222,
              "#7201a8"
             ],
             [
              0.3333333333333333,
              "#9c179e"
             ],
             [
              0.4444444444444444,
              "#bd3786"
             ],
             [
              0.5555555555555556,
              "#d8576b"
             ],
             [
              0.6666666666666666,
              "#ed7953"
             ],
             [
              0.7777777777777778,
              "#fb9f3a"
             ],
             [
              0.8888888888888888,
              "#fdca26"
             ],
             [
              1,
              "#f0f921"
             ]
            ],
            "type": "histogram2d"
           }
          ],
          "histogram2dcontour": [
           {
            "colorbar": {
             "outlinewidth": 0,
             "ticks": ""
            },
            "colorscale": [
             [
              0,
              "#0d0887"
             ],
             [
              0.1111111111111111,
              "#46039f"
             ],
             [
              0.2222222222222222,
              "#7201a8"
             ],
             [
              0.3333333333333333,
              "#9c179e"
             ],
             [
              0.4444444444444444,
              "#bd3786"
             ],
             [
              0.5555555555555556,
              "#d8576b"
             ],
             [
              0.6666666666666666,
              "#ed7953"
             ],
             [
              0.7777777777777778,
              "#fb9f3a"
             ],
             [
              0.8888888888888888,
              "#fdca26"
             ],
             [
              1,
              "#f0f921"
             ]
            ],
            "type": "histogram2dcontour"
           }
          ],
          "mesh3d": [
           {
            "colorbar": {
             "outlinewidth": 0,
             "ticks": ""
            },
            "type": "mesh3d"
           }
          ],
          "parcoords": [
           {
            "line": {
             "colorbar": {
              "outlinewidth": 0,
              "ticks": ""
             }
            },
            "type": "parcoords"
           }
          ],
          "pie": [
           {
            "automargin": true,
            "type": "pie"
           }
          ],
          "scatter": [
           {
            "fillpattern": {
             "fillmode": "overlay",
             "size": 10,
             "solidity": 0.2
            },
            "type": "scatter"
           }
          ],
          "scatter3d": [
           {
            "line": {
             "colorbar": {
              "outlinewidth": 0,
              "ticks": ""
             }
            },
            "marker": {
             "colorbar": {
              "outlinewidth": 0,
              "ticks": ""
             }
            },
            "type": "scatter3d"
           }
          ],
          "scattercarpet": [
           {
            "marker": {
             "colorbar": {
              "outlinewidth": 0,
              "ticks": ""
             }
            },
            "type": "scattercarpet"
           }
          ],
          "scattergeo": [
           {
            "marker": {
             "colorbar": {
              "outlinewidth": 0,
              "ticks": ""
             }
            },
            "type": "scattergeo"
           }
          ],
          "scattergl": [
           {
            "marker": {
             "colorbar": {
              "outlinewidth": 0,
              "ticks": ""
             }
            },
            "type": "scattergl"
           }
          ],
          "scattermapbox": [
           {
            "marker": {
             "colorbar": {
              "outlinewidth": 0,
              "ticks": ""
             }
            },
            "type": "scattermapbox"
           }
          ],
          "scatterpolar": [
           {
            "marker": {
             "colorbar": {
              "outlinewidth": 0,
              "ticks": ""
             }
            },
            "type": "scatterpolar"
           }
          ],
          "scatterpolargl": [
           {
            "marker": {
             "colorbar": {
              "outlinewidth": 0,
              "ticks": ""
             }
            },
            "type": "scatterpolargl"
           }
          ],
          "scatterternary": [
           {
            "marker": {
             "colorbar": {
              "outlinewidth": 0,
              "ticks": ""
             }
            },
            "type": "scatterternary"
           }
          ],
          "surface": [
           {
            "colorbar": {
             "outlinewidth": 0,
             "ticks": ""
            },
            "colorscale": [
             [
              0,
              "#0d0887"
             ],
             [
              0.1111111111111111,
              "#46039f"
             ],
             [
              0.2222222222222222,
              "#7201a8"
             ],
             [
              0.3333333333333333,
              "#9c179e"
             ],
             [
              0.4444444444444444,
              "#bd3786"
             ],
             [
              0.5555555555555556,
              "#d8576b"
             ],
             [
              0.6666666666666666,
              "#ed7953"
             ],
             [
              0.7777777777777778,
              "#fb9f3a"
             ],
             [
              0.8888888888888888,
              "#fdca26"
             ],
             [
              1,
              "#f0f921"
             ]
            ],
            "type": "surface"
           }
          ],
          "table": [
           {
            "cells": {
             "fill": {
              "color": "#EBF0F8"
             },
             "line": {
              "color": "white"
             }
            },
            "header": {
             "fill": {
              "color": "#C8D4E3"
             },
             "line": {
              "color": "white"
             }
            },
            "type": "table"
           }
          ]
         },
         "layout": {
          "annotationdefaults": {
           "arrowcolor": "#2a3f5f",
           "arrowhead": 0,
           "arrowwidth": 1
          },
          "autotypenumbers": "strict",
          "coloraxis": {
           "colorbar": {
            "outlinewidth": 0,
            "ticks": ""
           }
          },
          "colorscale": {
           "diverging": [
            [
             0,
             "#8e0152"
            ],
            [
             0.1,
             "#c51b7d"
            ],
            [
             0.2,
             "#de77ae"
            ],
            [
             0.3,
             "#f1b6da"
            ],
            [
             0.4,
             "#fde0ef"
            ],
            [
             0.5,
             "#f7f7f7"
            ],
            [
             0.6,
             "#e6f5d0"
            ],
            [
             0.7,
             "#b8e186"
            ],
            [
             0.8,
             "#7fbc41"
            ],
            [
             0.9,
             "#4d9221"
            ],
            [
             1,
             "#276419"
            ]
           ],
           "sequential": [
            [
             0,
             "#0d0887"
            ],
            [
             0.1111111111111111,
             "#46039f"
            ],
            [
             0.2222222222222222,
             "#7201a8"
            ],
            [
             0.3333333333333333,
             "#9c179e"
            ],
            [
             0.4444444444444444,
             "#bd3786"
            ],
            [
             0.5555555555555556,
             "#d8576b"
            ],
            [
             0.6666666666666666,
             "#ed7953"
            ],
            [
             0.7777777777777778,
             "#fb9f3a"
            ],
            [
             0.8888888888888888,
             "#fdca26"
            ],
            [
             1,
             "#f0f921"
            ]
           ],
           "sequentialminus": [
            [
             0,
             "#0d0887"
            ],
            [
             0.1111111111111111,
             "#46039f"
            ],
            [
             0.2222222222222222,
             "#7201a8"
            ],
            [
             0.3333333333333333,
             "#9c179e"
            ],
            [
             0.4444444444444444,
             "#bd3786"
            ],
            [
             0.5555555555555556,
             "#d8576b"
            ],
            [
             0.6666666666666666,
             "#ed7953"
            ],
            [
             0.7777777777777778,
             "#fb9f3a"
            ],
            [
             0.8888888888888888,
             "#fdca26"
            ],
            [
             1,
             "#f0f921"
            ]
           ]
          },
          "colorway": [
           "#636efa",
           "#EF553B",
           "#00cc96",
           "#ab63fa",
           "#FFA15A",
           "#19d3f3",
           "#FF6692",
           "#B6E880",
           "#FF97FF",
           "#FECB52"
          ],
          "font": {
           "color": "#2a3f5f"
          },
          "geo": {
           "bgcolor": "white",
           "lakecolor": "white",
           "landcolor": "#E5ECF6",
           "showlakes": true,
           "showland": true,
           "subunitcolor": "white"
          },
          "hoverlabel": {
           "align": "left"
          },
          "hovermode": "closest",
          "mapbox": {
           "style": "light"
          },
          "paper_bgcolor": "white",
          "plot_bgcolor": "#E5ECF6",
          "polar": {
           "angularaxis": {
            "gridcolor": "white",
            "linecolor": "white",
            "ticks": ""
           },
           "bgcolor": "#E5ECF6",
           "radialaxis": {
            "gridcolor": "white",
            "linecolor": "white",
            "ticks": ""
           }
          },
          "scene": {
           "xaxis": {
            "backgroundcolor": "#E5ECF6",
            "gridcolor": "white",
            "gridwidth": 2,
            "linecolor": "white",
            "showbackground": true,
            "ticks": "",
            "zerolinecolor": "white"
           },
           "yaxis": {
            "backgroundcolor": "#E5ECF6",
            "gridcolor": "white",
            "gridwidth": 2,
            "linecolor": "white",
            "showbackground": true,
            "ticks": "",
            "zerolinecolor": "white"
           },
           "zaxis": {
            "backgroundcolor": "#E5ECF6",
            "gridcolor": "white",
            "gridwidth": 2,
            "linecolor": "white",
            "showbackground": true,
            "ticks": "",
            "zerolinecolor": "white"
           }
          },
          "shapedefaults": {
           "line": {
            "color": "#2a3f5f"
           }
          },
          "ternary": {
           "aaxis": {
            "gridcolor": "white",
            "linecolor": "white",
            "ticks": ""
           },
           "baxis": {
            "gridcolor": "white",
            "linecolor": "white",
            "ticks": ""
           },
           "bgcolor": "#E5ECF6",
           "caxis": {
            "gridcolor": "white",
            "linecolor": "white",
            "ticks": ""
           }
          },
          "title": {
           "x": 0.05
          },
          "xaxis": {
           "automargin": true,
           "gridcolor": "white",
           "linecolor": "white",
           "ticks": "",
           "title": {
            "standoff": 15
           },
           "zerolinecolor": "white",
           "zerolinewidth": 2
          },
          "yaxis": {
           "automargin": true,
           "gridcolor": "white",
           "linecolor": "white",
           "ticks": "",
           "title": {
            "standoff": 15
           },
           "zerolinecolor": "white",
           "zerolinewidth": 2
          }
         }
        },
        "title": {
         "text": "Distribution of Sample Rates in the Data"
        },
        "xaxis": {
         "title": {
          "text": "Sample Rate"
         },
         "type": "category"
        },
        "yaxis": {
         "title": {
          "text": "Count"
         }
        }
       }
      }
     },
     "metadata": {},
     "output_type": "display_data"
    }
   ],
   "source": [
    "# Importing necessary libraries for data visualization\n",
    "import plotly.graph_objects as go\n",
    "\n",
    "# Display the unique sample rates and their counts in the 'Data' DataFrame\n",
    "print(\"Explore Sample_Rate for data:\")\n",
    "unique, counts = np.unique(data['Sample_Rate'], return_counts=True)\n",
    "ds = {'Sample Rate': list(unique), 'count': list(counts)}\n",
    "df_unique = pd.DataFrame(ds)\n",
    "\n",
    "# Display the DataFrame containing unique sample rates and their counts\n",
    "display(df_unique)\n",
    "\n",
    "# Visualize the distribution of sample rates using a bar chart\n",
    "fig = go.Figure(data=[go.Bar(x=df_unique['Sample Rate'], y=df_unique['count'])])\n",
    "fig.update_layout(title='Distribution of Sample Rates in the Data',xaxis_title='Sample Rate',yaxis_title='Count',xaxis_type='category')\n",
    "\n",
    "# Show the plot\n",
    "fig.show()\n"
   ]
  },
  {
   "cell_type": "markdown",
   "id": "7f08087b",
   "metadata": {},
   "source": [
    "Analyse de la column target to undertand the distribution of each class "
   ]
  },
  {
   "cell_type": "code",
   "execution_count": 75,
   "id": "ad637af5",
   "metadata": {},
   "outputs": [
    {
     "data": {
      "image/png": "[encoded data removed]",
      "text/plain": [
       "<Figure size 1600x600 with 1 Axes>"
      ]
     },
     "metadata": {},
     "output_type": "display_data"
    }
   ],
   "source": [
    "import matplotlib.pyplot as plt\n",
    "import seaborn as sns\n",
    "\n",
    "\n",
    "# Count the occurrences of multiple labels\n",
    "multi_label_counts = data['Target'].value_counts()\n",
    "\n",
    "# Plot the distribution of multiple labels\n",
    "plt.figure(figsize=(16, 6))\n",
    "ax = sns.barplot(x=multi_label_counts.index, y=multi_label_counts.values, palette=\"viridis\")\n",
    "plt.title(\"Occurrences of Multiple Labels in 'Target'\")\n",
    "plt.ylabel('Number of Instances')\n",
    "plt.xlabel('Number of Labels')\n",
    "\n",
    "# Add text labels above each bar\n",
    "rects = ax.patches\n",
    "labels = multi_label_counts.values\n",
    "for rect, label in zip(rects, labels):\n",
    "    height = rect.get_height()\n",
    "    ax.text(rect.get_x() + rect.get_width() / 2, height + 10, label, ha='center', va='bottom')\n",
    "\n",
    "# Show the plot\n",
    "plt.show()\n"
   ]
  },
  {
   "cell_type": "markdown",
   "id": "0f330388",
   "metadata": {},
   "source": [
    "These counts provide insights into the distribution of various actions or states represented by the 'Target' column in your dataset. Based on the data, we observe an imbalance in class distribution, which can impact the performance of machine learning models."
   ]
  },
  {
   "cell_type": "code",
   "execution_count": 76,
   "id": "5dd49470",
   "metadata": {},
   "outputs": [],
   "source": [
    "# Filter the data based on a specific sample rate (16000)\n",
    "mask1 = data['Sample_Rate'] == 16000\n",
    "data_sr_16000 = data[mask1].copy()\n",
    "\n",
    "# Filter the data based on another sample rate (22050)\n",
    "mask2 = data['Sample_Rate'] == 22050\n",
    "data_sr_22050 = data[mask2].copy()"
   ]
  },
  {
   "cell_type": "code",
   "execution_count": 77,
   "id": "b6107d96",
   "metadata": {},
   "outputs": [],
   "source": [
    "# Downsample audio with a target sample rate of 16000 in (samples/second) format.\n",
    "# Downsampling involves converting a higher sampling rate to a lower one. \n",
    "# For example, it's like converting audio recorded at 96 kHz down to 44.1 kHz for CD production. \n",
    "# Downsampling is commonly used in scenarios such as Internet audio and other formats with bandwidth limitations.\n",
    "\n",
    "def downsample_audio(list_audio_22050, original_rate=22050, new_rate=16000):\n",
    "    # List to store downsampled audio features\n",
    "    new_audio_features = []\n",
    "\n",
    "    # Iterate through each audio in the input list\n",
    "    for audio in list_audio_22050:\n",
    "\n",
    "        # Resample the audio to the new sampling rate\n",
    "        audio_16k = librosa.resample(audio, orig_sr=original_rate, target_sr=new_rate)\n",
    "        \n",
    "        # Append the downsampled audio features to the list\n",
    "        new_audio_features.append(audio_16k)\n",
    "    \n",
    "    # Return the list of downsampled audio features\n",
    "    return new_audio_features"
   ]
  },
  {
   "cell_type": "code",
   "execution_count": 86,
   "id": "e609bac0",
   "metadata": {
    "scrolled": true
   },
   "outputs": [
    {
     "name": "stdout",
     "output_type": "stream",
     "text": [
      "After applying downsample from original_sr(22050) to final_sr(16000):\n"
     ]
    },
    {
     "data": {
      "text/html": [
       "<div>\n",
       "<style scoped>\n",
       "    .dataframe tbody tr th:only-of-type {\n",
       "        vertical-align: middle;\n",
       "    }\n",
       "\n",
       "    .dataframe tbody tr th {\n",
       "        vertical-align: top;\n",
       "    }\n",
       "\n",
       "    .dataframe thead th {\n",
       "        text-align: right;\n",
       "    }\n",
       "</style>\n",
       "<table border=\"1\" class=\"dataframe\">\n",
       "  <thead>\n",
       "    <tr style=\"text-align: right;\">\n",
       "      <th></th>\n",
       "      <th>speakerId</th>\n",
       "      <th>Self-reported fluency level</th>\n",
       "      <th>First Language spoken</th>\n",
       "      <th>Current language used for work/school</th>\n",
       "      <th>gender</th>\n",
       "      <th>ageRange</th>\n",
       "      <th>Target</th>\n",
       "      <th>Audio_features</th>\n",
       "      <th>Sample_Rate</th>\n",
       "    </tr>\n",
       "  </thead>\n",
       "  <tbody>\n",
       "    <tr>\n",
       "      <th>0</th>\n",
       "      <td>2BqVo8kVB2Skwgyb</td>\n",
       "      <td>advanced</td>\n",
       "      <td>English (United States)</td>\n",
       "      <td>English (United States)</td>\n",
       "      <td>female</td>\n",
       "      <td>22-40</td>\n",
       "      <td>change languagenone</td>\n",
       "      <td>[0.0, 0.0, 0.0, 0.0, 0.0, 0.0, 0.0, 0.0, 0.0, ...</td>\n",
       "      <td>16000</td>\n",
       "    </tr>\n",
       "    <tr>\n",
       "      <th>1</th>\n",
       "      <td>2BqVo8kVB2Skwgyb</td>\n",
       "      <td>advanced</td>\n",
       "      <td>English (United States)</td>\n",
       "      <td>English (United States)</td>\n",
       "      <td>female</td>\n",
       "      <td>22-40</td>\n",
       "      <td>activatemusic</td>\n",
       "      <td>[0.0, 0.0, 0.0, 0.0, 0.0, 0.0, 0.0, 0.0, 0.0, ...</td>\n",
       "      <td>16000</td>\n",
       "    </tr>\n",
       "  </tbody>\n",
       "</table>\n",
       "</div>"
      ],
      "text/plain": [
       "          speakerId Self-reported fluency level     First Language spoken  \\\n",
       "0  2BqVo8kVB2Skwgyb                     advanced  English (United States)   \n",
       "1  2BqVo8kVB2Skwgyb                     advanced  English (United States)   \n",
       "\n",
       "  Current language used for work/school  gender ageRange               Target  \\\n",
       "0               English (United States)  female    22-40  change languagenone   \n",
       "1               English (United States)  female    22-40        activatemusic   \n",
       "\n",
       "                                      Audio_features  Sample_Rate  \n",
       "0  [0.0, 0.0, 0.0, 0.0, 0.0, 0.0, 0.0, 0.0, 0.0, ...        16000  \n",
       "1  [0.0, 0.0, 0.0, 0.0, 0.0, 0.0, 0.0, 0.0, 0.0, ...        16000  "
      ]
     },
     "metadata": {},
     "output_type": "display_data"
    }
   ],
   "source": [
    "data_sr_22050['Audio_features'] = downsample_audio(data_sr_22050['Audio_features'].tolist(), original_rate=22050, new_rate=16000)\n",
    "data_sr_22050['Sample_Rate'] = 16000\n",
    "full_data = pd.concat([data_sr_16000, data_sr_22050], axis=0)\n",
    "\n",
    "print(\"After applying downsample from original_sr(22050) to final_sr(16000):\")\n",
    "display(full_data.head(2))\n"
   ]
  },
  {
   "cell_type": "code",
   "execution_count": null,
   "id": "ec3ce651",
   "metadata": {},
   "outputs": [
    {
     "data": {
      "text/html": [
       "<div>\n",
       "<style scoped>\n",
       "    .dataframe tbody tr th:only-of-type {\n",
       "        vertical-align: middle;\n",
       "    }\n",
       "\n",
       "    .dataframe tbody tr th {\n",
       "        vertical-align: top;\n",
       "    }\n",
       "\n",
       "    .dataframe thead th {\n",
       "        text-align: right;\n",
       "    }\n",
       "</style>\n",
       "<table border=\"1\" class=\"dataframe\">\n",
       "  <thead>\n",
       "    <tr style=\"text-align: right;\">\n",
       "      <th></th>\n",
       "      <th>Audio_features</th>\n",
       "      <th>Target</th>\n",
       "    </tr>\n",
       "  </thead>\n",
       "  <tbody>\n",
       "    <tr>\n",
       "      <th>0</th>\n",
       "      <td>[0.0, 0.0, 0.0, 0.0, 0.0, 0.0, 0.0, 0.0, 0.0, ...</td>\n",
       "      <td>change languagenone</td>\n",
       "    </tr>\n",
       "    <tr>\n",
       "      <th>1</th>\n",
       "      <td>[0.0, 0.0, 0.0, 0.0, 0.0, 0.0, 0.0, 0.0, 0.0, ...</td>\n",
       "      <td>activatemusic</td>\n",
       "    </tr>\n",
       "    <tr>\n",
       "      <th>2</th>\n",
       "      <td>[0.0, 0.0, 0.0, 0.0, 0.0, 0.0, 0.0, 0.0, 0.0, ...</td>\n",
       "      <td>deactivatelights</td>\n",
       "    </tr>\n",
       "  </tbody>\n",
       "</table>\n",
       "</div>"
      ],
      "text/plain": [
       "                                      Audio_features               Target\n",
       "0  [0.0, 0.0, 0.0, 0.0, 0.0, 0.0, 0.0, 0.0, 0.0, ...  change languagenone\n",
       "1  [0.0, 0.0, 0.0, 0.0, 0.0, 0.0, 0.0, 0.0, 0.0, ...        activatemusic\n",
       "2  [0.0, 0.0, 0.0, 0.0, 0.0, 0.0, 0.0, 0.0, 0.0, ...     deactivatelights"
      ]
     },
     "metadata": {},
     "output_type": "display_data"
    }
   ],
   "source": [
    "Select_Audio_features=['Audio_features','Target']\n",
    "Analyse_Audio_features=full_data[Select_Audio_features].copy()\n",
    "display(Analyse_Audio_features.head(3))"
   ]
  },
  {
   "cell_type": "code",
   "execution_count": null,
   "id": "88040be1",
   "metadata": {},
   "outputs": [],
   "source": [
    "#Amplitude normalization\n",
    "from scipy.stats import zscore\n",
    "def normalize_data(X):\n",
    "    return [zscore(x) for x in X]\n",
    "\n",
    "#Length normalization\n",
    "def Get_lengths_audio_features(Array_Features):\n",
    "    lengths = [len(x) for x in Array_Features]\n",
    "    return lengths\n",
    "\n",
    "#Duration normalization\n",
    "def Get_Durations_audio_features(list_Features, rate=16000):\n",
    "    sampel_times = [len(x)/rate for x in list_Features]\n",
    "    return sampel_times\n",
    "\n",
    "#Apply the cut to both dev and eval data with the threshold value previously defined.\n",
    "def Cut_Audio_Features(data,maxLen):\n",
    "    return [x[:maxLen] for x in data]\n",
    "\n",
    "#Padding all the audio samples with zeros allows every signal to have the same length.\n",
    "def Padding_sample_audio(data,maxLen):\n",
    "    return [np.pad(x, (0,maxLen-len(x)), constant_values=0.0) for x in data]\n",
    "\n",
    "# by default anything below 10 db is considered as silence\n",
    "#Audio Processing and Remove Silence\n",
    "def remove_silence(sample, sr= 16000, top_db = 10):\n",
    "    \"\"\"This function removes trailing and leading silence periods of audio signals.\"\"\"\n",
    "    y = np.array(sample, dtype = np.float64)\n",
    "    # Trim the beginning and ending silence\n",
    "    yt, _ = trim(y, top_db= top_db)\n",
    "    return yt\n",
    "\n",
    "def plot_single_column(df, col, cyan_palette=[\"#00FFFF\"]):\n",
    "    # Set to \"dark\" for a black background\n",
    "    sns.set(style=\"dark\", palette=\"deep\")\n",
    "\n",
    "    # Set the figure size for the plot\n",
    "    plt.figure(figsize=(15, 5))\n",
    "\n",
    "    # Histogram\n",
    "    plt.subplot(1, 2, 1)\n",
    "    sns.histplot(df[col], kde=True, bins=30, color=cyan_palette[0])\n",
    "    plt.title(f'Histogram of {col}')\n",
    "    plt.xlabel(col)\n",
    "    plt.ylabel('Count')\n",
    "    plt.gca().set_facecolor('#000133')\n",
    "\n",
    "    # Boxplot\n",
    "    plt.subplot(1, 2, 2)\n",
    "    sns.boxplot(x=df[col], color=cyan_palette[0], linewidth=2.5,\n",
    "                flierprops=dict(markerfacecolor='w', marker='o', markeredgecolor='w', markersize=5),\n",
    "                whiskerprops=dict(color='white', linewidth=2.5),\n",
    "                capprops=dict(color='white', linewidth=2.5),\n",
    "                boxprops=dict(edgecolor='white', linewidth=2.5))\n",
    "    plt.title(f'Boxplot of {col}')\n",
    "    plt.gca().set_facecolor('#000133')\n",
    "\n",
    "    # Adjust layout for better readability and display the plot\n",
    "    plt.tight_layout()\n",
    "    plt.show()"
   ]
  },
  {
   "cell_type": "code",
   "execution_count": null,
   "id": "fb0faba0",
   "metadata": {},
   "outputs": [
    {
     "data": {
      "text/html": [
       "<div>\n",
       "<style scoped>\n",
       "    .dataframe tbody tr th:only-of-type {\n",
       "        vertical-align: middle;\n",
       "    }\n",
       "\n",
       "    .dataframe tbody tr th {\n",
       "        vertical-align: top;\n",
       "    }\n",
       "\n",
       "    .dataframe thead th {\n",
       "        text-align: right;\n",
       "    }\n",
       "</style>\n",
       "<table border=\"1\" class=\"dataframe\">\n",
       "  <thead>\n",
       "    <tr style=\"text-align: right;\">\n",
       "      <th></th>\n",
       "      <th>Audio_features</th>\n",
       "      <th>Target</th>\n",
       "      <th>Audio_features_Norm</th>\n",
       "      <th>DurationsOrg</th>\n",
       "      <th>LengthsOrg</th>\n",
       "      <th>Audio_Silence_Norm</th>\n",
       "    </tr>\n",
       "  </thead>\n",
       "  <tbody>\n",
       "    <tr>\n",
       "      <th>0</th>\n",
       "      <td>[0.0, 0.0, 0.0, 0.0, 0.0, 0.0, 0.0, 0.0, 0.0, ...</td>\n",
       "      <td>change languagenone</td>\n",
       "      <td>[-0.00017127107, -0.00017127107, -0.0001712710...</td>\n",
       "      <td>1.857625</td>\n",
       "      <td>29722</td>\n",
       "      <td>[-0.024304576218128204, 0.12693080306053162, -...</td>\n",
       "    </tr>\n",
       "    <tr>\n",
       "      <th>1</th>\n",
       "      <td>[0.0, 0.0, 0.0, 0.0, 0.0, 0.0, 0.0, 0.0, 0.0, ...</td>\n",
       "      <td>activatemusic</td>\n",
       "      <td>[0.0011595086, 0.0011595086, 0.0011595086, 0.0...</td>\n",
       "      <td>1.393188</td>\n",
       "      <td>22291</td>\n",
       "      <td>[0.001159508596174419, 0.001159508596174419, 0...</td>\n",
       "    </tr>\n",
       "    <tr>\n",
       "      <th>2</th>\n",
       "      <td>[0.0, 0.0, 0.0, 0.0, 0.0, 0.0, 0.0, 0.0, 0.0, ...</td>\n",
       "      <td>deactivatelights</td>\n",
       "      <td>[0.00089734636, 0.00089734636, 0.00089734636, ...</td>\n",
       "      <td>1.950500</td>\n",
       "      <td>31208</td>\n",
       "      <td>[-0.0077956183813512325, -0.007795618381351232...</td>\n",
       "    </tr>\n",
       "    <tr>\n",
       "      <th>3</th>\n",
       "      <td>[0.0, 0.0, 0.0, 0.0, 0.0, 0.0, 0.0, 0.0, 0.0, ...</td>\n",
       "      <td>increasevolume</td>\n",
       "      <td>[-0.0012082009, -0.0012082009, -0.0012082009, ...</td>\n",
       "      <td>1.764687</td>\n",
       "      <td>28235</td>\n",
       "      <td>[-0.010691852308809757, 0.0065511493012309074,...</td>\n",
       "    </tr>\n",
       "  </tbody>\n",
       "</table>\n",
       "</div>"
      ],
      "text/plain": [
       "                                      Audio_features               Target  \\\n",
       "0  [0.0, 0.0, 0.0, 0.0, 0.0, 0.0, 0.0, 0.0, 0.0, ...  change languagenone   \n",
       "1  [0.0, 0.0, 0.0, 0.0, 0.0, 0.0, 0.0, 0.0, 0.0, ...        activatemusic   \n",
       "2  [0.0, 0.0, 0.0, 0.0, 0.0, 0.0, 0.0, 0.0, 0.0, ...     deactivatelights   \n",
       "3  [0.0, 0.0, 0.0, 0.0, 0.0, 0.0, 0.0, 0.0, 0.0, ...       increasevolume   \n",
       "\n",
       "                                 Audio_features_Norm  DurationsOrg  \\\n",
       "0  [-0.00017127107, -0.00017127107, -0.0001712710...      1.857625   \n",
       "1  [0.0011595086, 0.0011595086, 0.0011595086, 0.0...      1.393188   \n",
       "2  [0.00089734636, 0.00089734636, 0.00089734636, ...      1.950500   \n",
       "3  [-0.0012082009, -0.0012082009, -0.0012082009, ...      1.764687   \n",
       "\n",
       "   LengthsOrg                                 Audio_Silence_Norm  \n",
       "0       29722  [-0.024304576218128204, 0.12693080306053162, -...  \n",
       "1       22291  [0.001159508596174419, 0.001159508596174419, 0...  \n",
       "2       31208  [-0.0077956183813512325, -0.007795618381351232...  \n",
       "3       28235  [-0.010691852308809757, 0.0065511493012309074,...  "
      ]
     },
     "metadata": {},
     "output_type": "display_data"
    }
   ],
   "source": [
    "# Apply the cut to both dev and eval data with the threshold value previously defined... \n",
    "# Normalized amplitude:\n",
    "Analyse_Audio_features['Audio_features_Norm']=normalize_data(Analyse_Audio_features.Audio_features)\n",
    "\n",
    "# Length and duration normalization. Audio signals have different length and duration.\n",
    "Analyse_Audio_features[\"DurationsOrg\"]=Get_Durations_audio_features(Analyse_Audio_features.Audio_features_Norm.tolist(),16000)\n",
    "Analyse_Audio_features[\"LengthsOrg\"]=Get_lengths_audio_features(Analyse_Audio_features.Audio_features_Norm.tolist())\n",
    "\n",
    "top_db_value = 20\n",
    "Analyse_Audio_features[\"Audio_Silence_Norm\"] = [remove_silence(x, top_db=top_db_value) for x in Analyse_Audio_features.Audio_features_Norm.values]\n",
    "\n",
    "# show dataset applying some treatment \n",
    "display(Analyse_Audio_features.head(4))"
   ]
  },
  {
   "cell_type": "code",
   "execution_count": null,
   "id": "ef1aee5d",
   "metadata": {},
   "outputs": [
    {
     "data": {
      "image/png": "[encoded data removed]",
      "text/plain": [
       "<Figure size 1500x500 with 2 Axes>"
      ]
     },
     "metadata": {},
     "output_type": "display_data"
    }
   ],
   "source": [
    "# Audio signals have different duration.\n",
    "plot_single_column(Analyse_Audio_features, 'DurationsOrg')"
   ]
  },
  {
   "cell_type": "code",
   "execution_count": null,
   "id": "560e3485",
   "metadata": {},
   "outputs": [
    {
     "data": {
      "image/png": "[encoded data removed]",
      "text/plain": [
       "<Figure size 1500x500 with 2 Axes>"
      ]
     },
     "metadata": {},
     "output_type": "display_data"
    }
   ],
   "source": [
    "# Now, looking at the distribution of the signal lengths you can see that they are very well distributed.\n",
    "plot_single_column(Analyse_Audio_features, 'LengthsOrg')"
   ]
  },
  {
   "cell_type": "code",
   "execution_count": null,
   "id": "90d8dc76",
   "metadata": {},
   "outputs": [
    {
     "name": "stdout",
     "output_type": "stream",
     "text": [
      "The 94% of the data has length lower or equal to 54613.\n"
     ]
    },
    {
     "data": {
      "text/html": [
       "<div>\n",
       "<style scoped>\n",
       "    .dataframe tbody tr th:only-of-type {\n",
       "        vertical-align: middle;\n",
       "    }\n",
       "\n",
       "    .dataframe tbody tr th {\n",
       "        vertical-align: top;\n",
       "    }\n",
       "\n",
       "    .dataframe thead th {\n",
       "        text-align: right;\n",
       "    }\n",
       "</style>\n",
       "<table border=\"1\" class=\"dataframe\">\n",
       "  <thead>\n",
       "    <tr style=\"text-align: right;\">\n",
       "      <th></th>\n",
       "      <th>Audio_features</th>\n",
       "      <th>Target</th>\n",
       "      <th>Audio_features_Norm</th>\n",
       "      <th>DurationsOrg</th>\n",
       "      <th>LengthsOrg</th>\n",
       "      <th>Audio_Silence_Norm</th>\n",
       "      <th>Audio_Silence_Uniform_Norm</th>\n",
       "    </tr>\n",
       "  </thead>\n",
       "  <tbody>\n",
       "    <tr>\n",
       "      <th>0</th>\n",
       "      <td>[0.0, 0.0, 0.0, 0.0, 0.0, 0.0, 0.0, 0.0, 0.0, ...</td>\n",
       "      <td>change languagenone</td>\n",
       "      <td>[-0.00017127107, -0.00017127107, -0.0001712710...</td>\n",
       "      <td>1.857625</td>\n",
       "      <td>29722</td>\n",
       "      <td>[-0.024304576218128204, 0.12693080306053162, -...</td>\n",
       "      <td>[-0.024304576218128204, 0.12693080306053162, -...</td>\n",
       "    </tr>\n",
       "    <tr>\n",
       "      <th>1</th>\n",
       "      <td>[0.0, 0.0, 0.0, 0.0, 0.0, 0.0, 0.0, 0.0, 0.0, ...</td>\n",
       "      <td>activatemusic</td>\n",
       "      <td>[0.0011595086, 0.0011595086, 0.0011595086, 0.0...</td>\n",
       "      <td>1.393188</td>\n",
       "      <td>22291</td>\n",
       "      <td>[0.001159508596174419, 0.001159508596174419, 0...</td>\n",
       "      <td>[0.001159508596174419, 0.001159508596174419, 0...</td>\n",
       "    </tr>\n",
       "  </tbody>\n",
       "</table>\n",
       "</div>"
      ],
      "text/plain": [
       "                                      Audio_features               Target  \\\n",
       "0  [0.0, 0.0, 0.0, 0.0, 0.0, 0.0, 0.0, 0.0, 0.0, ...  change languagenone   \n",
       "1  [0.0, 0.0, 0.0, 0.0, 0.0, 0.0, 0.0, 0.0, 0.0, ...        activatemusic   \n",
       "\n",
       "                                 Audio_features_Norm  DurationsOrg  \\\n",
       "0  [-0.00017127107, -0.00017127107, -0.0001712710...      1.857625   \n",
       "1  [0.0011595086, 0.0011595086, 0.0011595086, 0.0...      1.393188   \n",
       "\n",
       "   LengthsOrg                                 Audio_Silence_Norm  \\\n",
       "0       29722  [-0.024304576218128204, 0.12693080306053162, -...   \n",
       "1       22291  [0.001159508596174419, 0.001159508596174419, 0...   \n",
       "\n",
       "                          Audio_Silence_Uniform_Norm  \n",
       "0  [-0.024304576218128204, 0.12693080306053162, -...  \n",
       "1  [0.001159508596174419, 0.001159508596174419, 0...  "
      ]
     },
     "metadata": {},
     "output_type": "display_data"
    }
   ],
   "source": [
    "# Define the percentile value\n",
    "perc = 94\n",
    "\n",
    "# Calculate the length below which 95% of the data falls\n",
    "length_95_perc = int(np.ceil(np.percentile(Analyse_Audio_features.LengthsOrg, perc)))\n",
    "\n",
    "# Print the result\n",
    "print(f\"The {perc}% of the data has length lower or equal to {length_95_perc}.\")\n",
    "\n",
    "# Cut audio features based on the calculated length\n",
    "Cut_Audio = Cut_Audio_Features(Analyse_Audio_features.Audio_Silence_Norm, length_95_perc)\n",
    "\n",
    "# Pad the cut audio samples to the calculated length\n",
    "Pad_Audio = Padding_sample_audio(Cut_Audio, length_95_perc)\n",
    "\n",
    "# Add a new column 'Audio_features_Norm' to the dataframe with the padded audio samples\n",
    "Analyse_Audio_features['Audio_Silence_Uniform_Norm'] = Pad_Audio\n",
    "\n",
    "# Display the first 2 rows of the dataframe with the added column\n",
    "display(Analyse_Audio_features.head(2))\n"
   ]
  },
  {
   "cell_type": "code",
   "execution_count": null,
   "id": "4bb36147",
   "metadata": {},
   "outputs": [
    {
     "name": "stdout",
     "output_type": "stream",
     "text": [
      "Nombre d'éléments distincts dans la liste : 1\n"
     ]
    }
   ],
   "source": [
    "# We get the Lengths is a list : \n",
    "Lengths = Get_lengths_audio_features(Analyse_Audio_features.Audio_Silence_Uniform_Norm.tolist())\n",
    "\n",
    "# Utilisez la fonction set pour obtenir les éléments uniques, puis calculez la longueur\n",
    "nombre_elements_distincts = len(set(Lengths))\n",
    "\n",
    "# Affichez le résultat\n",
    "print(f\"Nombre d'éléments distincts dans la liste : {nombre_elements_distincts}\")"
   ]
  },
  {
   "cell_type": "code",
   "execution_count": null,
   "id": "9ebdb581",
   "metadata": {},
   "outputs": [
    {
     "data": {
      "image/png": "[encoded data removed]",
      "text/plain": [
       "<Figure size 1100x300 with 1 Axes>"
      ]
     },
     "metadata": {},
     "output_type": "display_data"
    }
   ],
   "source": [
    "def plot_audio_samples(X, n_samples_to_visualize=50,SR = 16000):\n",
    "    fig, ax = plt.subplots(1, 1, figsize=(11, 3))\n",
    "    lengths = []\n",
    "\n",
    "    for idx in range(0, len(X[:n_samples_to_visualize]), 10):\n",
    "        ax.plot(X[idx], alpha=0.5)\n",
    "        lengths.append(len(X[idx]))\n",
    "\n",
    "    # To show time on the x axes\n",
    "    ax.set_xticks(np.arange(0, max(lengths), 25000))\n",
    "    ax.set_xticklabels([sample/SR for sample in np.arange(0, max(lengths), 25000)])\n",
    "\n",
    "    ax.set_ylabel(\"Amplitude\")\n",
    "    ax.set_xlabel(\"Time [s]\")\n",
    "    ax.set_title(\"Multiple audio samples\")\n",
    "\n",
    "    return ax\n",
    "\n",
    "# Remplacez n_samples_to_visualize par le nombre d'échantillons que vous souhaitez visualiser\n",
    "n_samples_to_visualize = 100\n",
    "list_of_audio = Analyse_Audio_features.Audio_features_Norm.values\n",
    "ax = plot_audio_samples(list_of_audio, n_samples_to_visualize)\n",
    "plt.show()\n"
   ]
  },
  {
   "cell_type": "code",
   "execution_count": null,
   "id": "e20fc73c",
   "metadata": {},
   "outputs": [
    {
     "data": {
      "image/png": "[encoded data removed]",
      "text/plain": [
       "<Figure size 1100x300 with 1 Axes>"
      ]
     },
     "metadata": {},
     "output_type": "display_data"
    }
   ],
   "source": [
    "cleaned_sample = Analyse_Audio_features.Audio_Silence_Uniform_Norm.values\n",
    "# Analysez ou écoutez les échantillons pour évaluer l'effet du seuil\n",
    "ax = plot_audio_samples(cleaned_sample, n_samples_to_visualize)\n",
    "plt.show()"
   ]
  },
  {
   "cell_type": "code",
   "execution_count": null,
   "id": "f0ce6a09",
   "metadata": {},
   "outputs": [],
   "source": [
    "Analyse_Audio_features[\"Audio_Silence_Uniform_Norm\"] = cleaned_sample\n",
    "# display(Analyse_Audio_features.loc[:,['Target','Audio_Silence_Uniform_Norm']].head(4))"
   ]
  },
  {
   "cell_type": "code",
   "execution_count": null,
   "id": "e55e4a53",
   "metadata": {},
   "outputs": [
    {
     "data": {
      "image/png": "[encoded data removed]",
      "text/plain": [
       "<Figure size 1100x300 with 1 Axes>"
      ]
     },
     "metadata": {},
     "output_type": "display_data"
    }
   ],
   "source": [
    "def cut_signals(signals, start_time, end_time, sr):\n",
    "    \"\"\"\n",
    "    Cuts signals between start_time and end_time.\n",
    "\n",
    "    Parameters:\n",
    "    - signals: List of audio signals.\n",
    "    - start_time: Start time for cutting.\n",
    "    - end_time: End time for cutting.\n",
    "    - sr: Sampling rate.\n",
    "\n",
    "    Returns:\n",
    "    List of cut signals.\n",
    "    \"\"\"\n",
    "    cut_signals_list = []\n",
    "    # Convertir les temps en indices d'échantillons\n",
    "    start_index = int(start_time * sr)\n",
    "    end_index = int(end_time * sr)\n",
    "\n",
    "    for signal in signals:\n",
    "\n",
    "        # Couper le signal\n",
    "        cut_signal = signal[start_index:end_index]\n",
    "\n",
    "        cut_signals_list.append(cut_signal)\n",
    "\n",
    "    return cut_signals_list\n",
    "\n",
    "\n",
    "# liste de signaux audio dans la variable 'cleaned_sample'\n",
    "# Vous pouvez ajuster start_time et end_time selon vos besoins\n",
    "start_time = 0.05\n",
    "end_time = 2.1\n",
    "sr = 16000\n",
    "# Utiliser la fonction pour couper tous les signaux dans la liste\n",
    "liste_signaux_coupes = cut_signals(cleaned_sample, start_time, end_time, sr)\n",
    "ax = plot_audio_samples(liste_signaux_coupes, n_samples_to_visualize)\n",
    "plt.show()\n",
    "\n",
    "Analyse_Audio_features[\"signaux_coupes\"] = liste_signaux_coupes"
   ]
  },
  {
   "cell_type": "code",
   "execution_count": null,
   "id": "fabf4bf8",
   "metadata": {},
   "outputs": [],
   "source": [
    "def plot_grouped_audio_samples(df, n_elements_to_display=100):\n",
    "    \"\"\"\n",
    "    Plot normalized audio samples grouped by 'Target' column.\n",
    "\n",
    "    Parameters:\n",
    "    - df: DataFrame containing audio samples.\n",
    "    - n_elements_to_display: Number of elements to display for each group.\n",
    "    \"\"\"\n",
    "    # Group by the 'Target' column\n",
    "    grouped_dataframe = df.groupby(\"Target\")\n",
    "\n",
    "    # Choose a seaborn color palette\n",
    "    color_palette = sns.color_palette(\"husl\", n_colors=n_elements_to_display)\n",
    "\n",
    "    for name_of_the_group, group in grouped_dataframe:\n",
    "        print(f\"........ {name_of_the_group} .....\\n\")\n",
    "\n",
    "        # Plot normalized audio samples\n",
    "        plt.figure(figsize=(10, 4))\n",
    "        Sub_dev_X_norm = group.Audio_Silence_Uniform_Norm.values[:n_elements_to_display]\n",
    "\n",
    "        for i, signal in enumerate(Sub_dev_X_norm):\n",
    "            # Use a different color for each signal\n",
    "            plt.plot(signal, color=color_palette[i], label=f'Sample {i+1}')\n",
    "\n",
    "        plt.ylabel(\"Amplitude normalization\")\n",
    "        plt.xlabel(\"Time [s]\")\n",
    "        plt.title(f\"Multiple audio samples - Target: {name_of_the_group} ({n_elements_to_display} samples)\")\n",
    "        plt.show()\n",
    "\n",
    "n_elements_to_display = 100\n",
    "#plot_grouped_audio_samples(Analyse_Audio_features, n_elements_to_display)\n"
   ]
  },
  {
   "cell_type": "code",
   "execution_count": null,
   "id": "6c0f053b",
   "metadata": {},
   "outputs": [],
   "source": [
    "#https://towardsdatascience.com/understanding-audio-data-fourier-transform-fft-spectrogram-and-speech-recognition-a4072d228520\n",
    "#https://ngbala6.medium.com/audio-processing-and-remove-silence-using-python-a7fe1552007a"
   ]
  },
  {
   "cell_type": "code",
   "execution_count": null,
   "id": "143e0549",
   "metadata": {},
   "outputs": [],
   "source": [
    "def initialize_multi_label_classifiers():\n",
    "    \"\"\"\n",
    "    Initializes a list of classifiers for multi-label classification.\n",
    "\n",
    "    Returns:\n",
    "    List of initialized classifiers.\n",
    "    \"\"\"\n",
    "    classifiers = [\n",
    "        ExtraTreesClassifier(),      # Classifier 1: Extra Trees\n",
    "        RandomForestClassifier(),    # Classifier 2: Random Forest\n",
    "        KNeighborsClassifier(),       # Classifier 3: K-Nearest Neighbors\n",
    "        #AdaBoostClassifier(random_state = 3),\n",
    "        #XGBClassifier()\n",
    "\n",
    "        # Add more classifiers if needed\n",
    "    ]\n",
    "    return classifiers\n",
    "\n",
    "# [LogisticRegression(),RandomForestClassifier(),LinearSVC(), ExtraTreesClassifier(n_estimators=100, random_state=0),\n",
    "# RidgeClassifier(),GradientBoostingClassifier(),\n",
    "# SVC(kernel='linear')]"
   ]
  },
  {
   "cell_type": "code",
   "execution_count": null,
   "id": "31873726",
   "metadata": {},
   "outputs": [],
   "source": [
    "def print_dataset_info(X_train, X_test, y_train, y_test):\n",
    "    \"\"\"\n",
    "    Print information about the dimensions and classes of the input datasets.\n",
    "\n",
    "    Parameters:\n",
    "    - X_train, X_test: Feature matrices for training and testing.\n",
    "    - y_train, y_test: Target vectors for training and testing.\n",
    "    \"\"\"\n",
    "    # Print the dimensions of X_train, X_test, y_train, y_test\n",
    "\n",
    "    print(\"\")\n",
    "    print(f\"Dimensions of X_train: {X_train.shape}\")\n",
    "    print(f\"Dimensions of X_test: {X_test.shape}\")\n",
    "    print(f\"Dimensions of y_train: {y_train.shape}\")\n",
    "    print(f\"Dimensions of y_test: {y_test.shape}\")\n",
    "\n",
    "    print(\"\")\n",
    "\n",
    "    # Print the number of unique classes in y_train and y_test\n",
    "    num_classes_train = len(np.unique(y_train))\n",
    "    num_classes_test = len(np.unique(y_test))\n",
    "    print(f\"Number of unique classes in y_train: {num_classes_train}\")\n",
    "    print(f\"Number of unique classes in y_test: {num_classes_test}\")\n",
    "\n",
    "    print(\"\")\n",
    "\n",
    "    # Print the number of instances per class in y_train and y_test\n",
    "    for class_label in np.unique(y_train):\n",
    "        instances_train = np.sum(y_train == class_label)\n",
    "        instances_test = np.sum(y_test == class_label)\n",
    "        print(f\"Class {class_label}: Train instances - {instances_train}, Test instances - {instances_test}\")\n"
   ]
  },
  {
   "cell_type": "code",
   "execution_count": null,
   "id": "3f0b5bb9",
   "metadata": {},
   "outputs": [],
   "source": [
    "def Train_Classification_Model(Xtrain,Ytrain,ts):\n",
    "    \n",
    "    # Train Test split:\n",
    "    X_train, X_test, y_train, y_test = train_test_split(Xtrain,Ytrain,test_size=ts,stratify=Ytrain,shuffle=True,random_state=34)\n",
    "\n",
    "    print_dataset_info(X_train, X_test, y_train, y_test)\n",
    "    \n",
    "    # Multi-Label Classification model:\n",
    "    Classifications = initialize_multi_label_classifiers()\n",
    "    # Train Model:\n",
    "    for model in Classifications:\n",
    "        # train model \n",
    "        start = time()\n",
    "        model.fit(X_train, y_train)\n",
    "        train_time = time() - start\n",
    "        print(\"\\n>>>> Classifiers :\",model)   \n",
    "        print(\"\\tTraining time: %0.3fs\" % train_time)\n",
    "        \n",
    "        # Predict values for Test dataset\n",
    "        start = time()\n",
    "        y_pred = model.predict(X_test)\n",
    "        predict_time = time() -start\n",
    "        print(\"\\tPrediction time: %0.3fs\" % predict_time)\n",
    "\n",
    "        # Print the evaluation metrics for the dataset.\n",
    "        #print(classification_report(y_test, y_pred))\n",
    "        Accuracy = round(accuracy_score(y_test, y_pred),3)\n",
    "        \n",
    "        # Print the evaluation f1_macro metrics for the dataset.\n",
    "        print(f\"accuracy_score (When the model see new data): \",Accuracy* 100, \"% accuracy score\")\n",
    "        \n",
    "        # Compute and plot the Confusion matrix\n",
    "        cf_matrix = confusion_matrix(y_test, y_pred)\n",
    "        plt.close()\n",
    "        \n",
    "        #\n",
    "        #confusion_matrix_matplotlib(y_test, y_pred)\n",
    "        #print(\"\\n\\n>>>>>>>>>>>>>>>>>>>>>>>>>>>>>>> \")"
   ]
  },
  {
   "cell_type": "markdown",
   "id": "a479a2e3",
   "metadata": {},
   "source": [
    "# Feature Extraction from Audio\n",
    "- Extraction of features is a very important part in analyzing and finding relations between different things. As we already know that the data provided of audio cannot be understood by the models directly so we need to convert them into an understandable format for which feature extraction is used.\n",
    "\n",
    "\n",
    "The audio signal is a three-dimensional signal in which three axes represent time, amplitude and frequency.\n",
    "\n",
    "![image.png](https://miro.medium.com/max/633/1*7sKM9aECRmuoqTadCYVw9A.jpeg)"
   ]
  },
  {
   "cell_type": "code",
   "execution_count": null,
   "id": "82bfaf45",
   "metadata": {},
   "outputs": [],
   "source": [
    "def spectrogram(samples, sample_rate, stride_ms = 10.0, \n",
    "                          window_ms = 20.0, max_freq = None, eps = 1e-14):\n",
    "\n",
    "    stride_size = int(0.001 * sample_rate * stride_ms)\n",
    "    window_size = int(0.001 * sample_rate * window_ms)\n",
    "\n",
    "    # Extract strided windows\n",
    "    truncate_size = (len(samples) - window_size) % stride_size\n",
    "    samples = samples[:len(samples) - truncate_size]\n",
    "    nshape = (window_size, (len(samples) - window_size) // stride_size + 1)\n",
    "    nstrides = (samples.strides[0], samples.strides[0] * stride_size)\n",
    "    windows = np.lib.stride_tricks.as_strided(samples, \n",
    "                                          shape = nshape, strides = nstrides)\n",
    "    \n",
    "    assert np.all(windows[:, 1] == samples[stride_size:(stride_size + window_size)])\n",
    "\n",
    "    # Window weighting, squared Fast Fourier Transform (fft), scaling\n",
    "    weighting = np.hanning(window_size)[:, None]\n",
    "    \n",
    "    fft = np.fft.rfft(windows * weighting, axis=0)\n",
    "    fft = np.absolute(fft)\n",
    "    fft = fft**2\n",
    "    \n",
    "    scale = np.sum(weighting**2) * sample_rate\n",
    "    fft[1:-1, :] *= (2.0 / scale)\n",
    "    fft[(0, -1), :] /= scale\n",
    "    \n",
    "    # Prepare fft frequency list\n",
    "    freqs = float(sample_rate) / window_size * np.arange(fft.shape[0])\n",
    "    \n",
    "    # Compute spectrogram feature\n",
    "    ind = np.where(freqs <= max_freq)[0][-1] + 1\n",
    "    specgram = np.log(fft[:ind, :] + eps)\n",
    "    return specgram\n",
    "\n",
    "def Feature_extraction(ds, freq, col='Audio_Silence_Uniform_Norm', stride_ms=10.0, window_ms=20.0, eps=1e-14):\n",
    "    \"\"\"\n",
    "    Extract features using spectrogram for a given dataset.\n",
    "\n",
    "    Parameters:\n",
    "    - ds: Dataset containing audio samples.\n",
    "    - freq: Maximum frequency.\n",
    "    - col: Column name in the dataset containing audio samples.\n",
    "    - stride_ms: Stride in milliseconds for the spectrogram.\n",
    "    - window_ms: Window size in milliseconds for the spectrogram.\n",
    "    - eps: Small value added to the spectrogram to avoid taking the log of zero.\n",
    "\n",
    "    Returns:\n",
    "    - Features: List of extracted features.\n",
    "    \"\"\"\n",
    "    Features = []\n",
    "    for audio in ds[col].values:\n",
    "        sperc = spectrogram(audio, 16000, stride_ms=stride_ms, window_ms=window_ms, max_freq=freq, eps=eps)\n",
    "        # Get the mean of the array column-wise\n",
    "        mean = np.mean(sperc, dtype=np.float32, axis=0)\n",
    "        Features.append(mean)\n",
    "    return Features\n"
   ]
  },
  {
   "cell_type": "code",
   "execution_count": null,
   "id": "eae24ea5",
   "metadata": {},
   "outputs": [
    {
     "data": {
      "text/html": [
       "<div>\n",
       "<style scoped>\n",
       "    .dataframe tbody tr th:only-of-type {\n",
       "        vertical-align: middle;\n",
       "    }\n",
       "\n",
       "    .dataframe tbody tr th {\n",
       "        vertical-align: top;\n",
       "    }\n",
       "\n",
       "    .dataframe thead th {\n",
       "        text-align: right;\n",
       "    }\n",
       "</style>\n",
       "<table border=\"1\" class=\"dataframe\">\n",
       "  <thead>\n",
       "    <tr style=\"text-align: right;\">\n",
       "      <th></th>\n",
       "      <th>Audio_features</th>\n",
       "      <th>Target</th>\n",
       "      <th>Audio_features_Norm</th>\n",
       "      <th>DurationsOrg</th>\n",
       "      <th>LengthsOrg</th>\n",
       "      <th>Audio_Silence_Norm</th>\n",
       "      <th>Audio_Silence_Uniform_Norm</th>\n",
       "      <th>signaux_coupes</th>\n",
       "    </tr>\n",
       "  </thead>\n",
       "  <tbody>\n",
       "    <tr>\n",
       "      <th>0</th>\n",
       "      <td>[0.0, 0.0, 0.0, 0.0, 0.0, 0.0, 0.0, 0.0, 0.0, ...</td>\n",
       "      <td>change languagenone</td>\n",
       "      <td>[-0.00017127107, -0.00017127107, -0.0001712710...</td>\n",
       "      <td>1.857625</td>\n",
       "      <td>29722</td>\n",
       "      <td>[-0.024304576218128204, 0.12693080306053162, -...</td>\n",
       "      <td>[-0.024304576218128204, 0.12693080306053162, -...</td>\n",
       "      <td>[0.8702366352081299, -0.8657525181770325, 0.77...</td>\n",
       "    </tr>\n",
       "    <tr>\n",
       "      <th>1</th>\n",
       "      <td>[0.0, 0.0, 0.0, 0.0, 0.0, 0.0, 0.0, 0.0, 0.0, ...</td>\n",
       "      <td>activatemusic</td>\n",
       "      <td>[0.0011595086, 0.0011595086, 0.0011595086, 0.0...</td>\n",
       "      <td>1.393188</td>\n",
       "      <td>22291</td>\n",
       "      <td>[0.001159508596174419, 0.001159508596174419, 0...</td>\n",
       "      <td>[0.001159508596174419, 0.001159508596174419, 0...</td>\n",
       "      <td>[1.482089877128601, 1.6214438676834106, 1.7277...</td>\n",
       "    </tr>\n",
       "    <tr>\n",
       "      <th>2</th>\n",
       "      <td>[0.0, 0.0, 0.0, 0.0, 0.0, 0.0, 0.0, 0.0, 0.0, ...</td>\n",
       "      <td>deactivatelights</td>\n",
       "      <td>[0.00089734636, 0.00089734636, 0.00089734636, ...</td>\n",
       "      <td>1.950500</td>\n",
       "      <td>31208</td>\n",
       "      <td>[-0.0077956183813512325, -0.007795618381351232...</td>\n",
       "      <td>[-0.0077956183813512325, -0.007795618381351232...</td>\n",
       "      <td>[0.5355146527290344, 0.40512019395828247, 0.30...</td>\n",
       "    </tr>\n",
       "    <tr>\n",
       "      <th>3</th>\n",
       "      <td>[0.0, 0.0, 0.0, 0.0, 0.0, 0.0, 0.0, 0.0, 0.0, ...</td>\n",
       "      <td>increasevolume</td>\n",
       "      <td>[-0.0012082009, -0.0012082009, -0.0012082009, ...</td>\n",
       "      <td>1.764687</td>\n",
       "      <td>28235</td>\n",
       "      <td>[-0.010691852308809757, 0.0065511493012309074,...</td>\n",
       "      <td>[-0.010691852308809757, 0.0065511493012309074,...</td>\n",
       "      <td>[-0.7159305810928345, -0.5633300542831421, -0....</td>\n",
       "    </tr>\n",
       "    <tr>\n",
       "      <th>4</th>\n",
       "      <td>[0.0, 0.0, 0.0, 0.0, 0.0, 0.0, 0.0, 0.0, 0.0, ...</td>\n",
       "      <td>increasevolume</td>\n",
       "      <td>[0.002089081, 0.002089081, 0.002089081, 0.0020...</td>\n",
       "      <td>2.414875</td>\n",
       "      <td>38638</td>\n",
       "      <td>[0.002089081099256873, 0.002089081099256873, 0...</td>\n",
       "      <td>[0.002089081099256873, 0.002089081099256873, 0...</td>\n",
       "      <td>[-0.06458137184381485, -0.10791715979576111, -...</td>\n",
       "    </tr>\n",
       "  </tbody>\n",
       "</table>\n",
       "</div>"
      ],
      "text/plain": [
       "                                      Audio_features               Target  \\\n",
       "0  [0.0, 0.0, 0.0, 0.0, 0.0, 0.0, 0.0, 0.0, 0.0, ...  change languagenone   \n",
       "1  [0.0, 0.0, 0.0, 0.0, 0.0, 0.0, 0.0, 0.0, 0.0, ...        activatemusic   \n",
       "2  [0.0, 0.0, 0.0, 0.0, 0.0, 0.0, 0.0, 0.0, 0.0, ...     deactivatelights   \n",
       "3  [0.0, 0.0, 0.0, 0.0, 0.0, 0.0, 0.0, 0.0, 0.0, ...       increasevolume   \n",
       "4  [0.0, 0.0, 0.0, 0.0, 0.0, 0.0, 0.0, 0.0, 0.0, ...       increasevolume   \n",
       "\n",
       "                                 Audio_features_Norm  DurationsOrg  \\\n",
       "0  [-0.00017127107, -0.00017127107, -0.0001712710...      1.857625   \n",
       "1  [0.0011595086, 0.0011595086, 0.0011595086, 0.0...      1.393188   \n",
       "2  [0.00089734636, 0.00089734636, 0.00089734636, ...      1.950500   \n",
       "3  [-0.0012082009, -0.0012082009, -0.0012082009, ...      1.764687   \n",
       "4  [0.002089081, 0.002089081, 0.002089081, 0.0020...      2.414875   \n",
       "\n",
       "   LengthsOrg                                 Audio_Silence_Norm  \\\n",
       "0       29722  [-0.024304576218128204, 0.12693080306053162, -...   \n",
       "1       22291  [0.001159508596174419, 0.001159508596174419, 0...   \n",
       "2       31208  [-0.0077956183813512325, -0.007795618381351232...   \n",
       "3       28235  [-0.010691852308809757, 0.0065511493012309074,...   \n",
       "4       38638  [0.002089081099256873, 0.002089081099256873, 0...   \n",
       "\n",
       "                          Audio_Silence_Uniform_Norm  \\\n",
       "0  [-0.024304576218128204, 0.12693080306053162, -...   \n",
       "1  [0.001159508596174419, 0.001159508596174419, 0...   \n",
       "2  [-0.0077956183813512325, -0.007795618381351232...   \n",
       "3  [-0.010691852308809757, 0.0065511493012309074,...   \n",
       "4  [0.002089081099256873, 0.002089081099256873, 0...   \n",
       "\n",
       "                                      signaux_coupes  \n",
       "0  [0.8702366352081299, -0.8657525181770325, 0.77...  \n",
       "1  [1.482089877128601, 1.6214438676834106, 1.7277...  \n",
       "2  [0.5355146527290344, 0.40512019395828247, 0.30...  \n",
       "3  [-0.7159305810928345, -0.5633300542831421, -0....  \n",
       "4  [-0.06458137184381485, -0.10791715979576111, -...  "
      ]
     },
     "execution_count": 30,
     "metadata": {},
     "output_type": "execute_result"
    }
   ],
   "source": [
    "Analyse_Audio_features.head()"
   ]
  },
  {
   "cell_type": "code",
   "execution_count": null,
   "id": "efc43a22",
   "metadata": {},
   "outputs": [],
   "source": [
    "def find_max_length(lengths_features):\n",
    "    \"\"\"\n",
    "    Find the maximum length in a list of feature lengths.\n",
    "\n",
    "    Parameters:\n",
    "    - lengths_features: List of feature lengths.\n",
    "\n",
    "    Returns:\n",
    "    - max_length: Maximum length.\n",
    "    - max_index: Index of the maximum length.\n",
    "    \"\"\"\n",
    "    # Use the function set to get unique elements and calculate the length\n",
    "    unique_lengths = set(lengths_features)\n",
    "    number_of_unique_elements = len(unique_lengths)\n",
    "\n",
    "    # Print the result\n",
    "    print(f\"Number of distinct elements in the list: {number_of_unique_elements}\")\n",
    "\n",
    "    # Find the maximum value and its index\n",
    "    max_index, max_length = max(enumerate(lengths_features), key=lambda x: x[1])\n",
    "\n",
    "    # Print the result\n",
    "    print(f\"Maximum value in the list: {max_length} at index: {max_index}\")\n",
    "\n",
    "    return max_length, max_index"
   ]
  },
  {
   "cell_type": "code",
   "execution_count": null,
   "id": "190a8251",
   "metadata": {},
   "outputs": [],
   "source": [
    "def create_train_and_test_dataset(data_audio, test_size=0.2, random_state=None):\n",
    "    \"\"\"\n",
    "    Creates a train and test dataset by splitting the provided DataFrame.\n",
    "\n",
    "    Parameters:\n",
    "    - df_clean: DataFrame containing your data.\n",
    "    - test_size: Proportion of the dataset to include in the test split.\n",
    "    - random_state: Seed for random number generation, for reproducibility.\n",
    "\n",
    "    Returns:\n",
    "    Tuple of train and test datasets (data_train, data_test).\n",
    "    \"\"\"\n",
    "    # Assuming 'Target' is the column you want to predict\n",
    "    X = data_audio.drop('Target', axis=1)\n",
    "    y = data_audio['Target']\n",
    "\n",
    "    # Splitting the data into train and test sets with stratify and shuffle\n",
    "    X_train, X_test, y_train, y_test = train_test_split(X, y, test_size=test_size, stratify=y, shuffle=True, random_state=random_state)\n",
    "\n",
    "    # Create new DataFrame for train and test datasets (if needed)\n",
    "    data_train = pd.concat([X_train, y_train], axis=1)\n",
    "    data_test = pd.concat([X_test, y_test], axis=1)\n",
    "\n",
    "    print(f\"Dimensions of data_train : {data_train.shape}\")\n",
    "    print(f\"Dimensions of data_test : {data_test.shape}\")\n",
    "\n",
    "\n",
    "    return data_train, data_test"
   ]
  },
  {
   "cell_type": "code",
   "execution_count": null,
   "id": "8b3e73ab",
   "metadata": {},
   "outputs": [
    {
     "name": "stdout",
     "output_type": "stream",
     "text": [
      "Dimensions of data_train : (9164, 2)\n",
      "Dimensions of data_test : (690, 2)\n"
     ]
    }
   ],
   "source": [
    "# Extracting specific columns 'Target' and 'Audio_Silence_Uniform_Norm' from Analyse_Audio_features DataFrame\n",
    "data_audio_extrated = Analyse_Audio_features.loc[:,['Target','Audio_Silence_Uniform_Norm']].copy()\n",
    "\n",
    "# Setting threshold values for evaluation and test datasets\n",
    "threshold_eval, threshold_test = 0.07, 0.11\n",
    "\n",
    "# Creating train and test datasets based on the specified threshold and random state\n",
    "train_df, test_df = create_train_and_test_dataset(data_audio_extrated, threshold_eval, random_state=400)"
   ]
  },
  {
   "cell_type": "markdown",
   "id": "9d8e5d2f",
   "metadata": {},
   "source": [
    "## Select the best base classifier model on the entire train data"
   ]
  },
  {
   "cell_type": "code",
   "execution_count": null,
   "id": "1adae98d",
   "metadata": {},
   "outputs": [
    {
     "name": "stdout",
     "output_type": "stream",
     "text": [
      "Number of distinct elements in the list: 1\n",
      "Maximum value in the list: 340 at index: 0\n",
      "\n",
      "Dimensions of X_train: (8155, 340)\n",
      "Dimensions of X_test: (1009, 340)\n",
      "Dimensions of y_train: (8155,)\n",
      "Dimensions of y_test: (1009,)\n",
      "\n",
      "Number of unique classes in y_train: 7\n",
      "Number of unique classes in y_test: 7\n",
      "\n",
      "Class activatemusic: Train instances - 655, Test instances - 81\n",
      "Class change languagenone: Train instances - 921, Test instances - 114\n",
      "Class deactivatelights: Train instances - 457, Test instances - 56\n",
      "Class decreaseheat: Train instances - 984, Test instances - 122\n",
      "Class decreasevolume: Train instances - 1975, Test instances - 244\n",
      "Class increaseheat: Train instances - 1000, Test instances - 124\n",
      "Class increasevolume: Train instances - 2163, Test instances - 268\n",
      "\n",
      ">>>> Classifiers : ExtraTreesClassifier()\n",
      "\tTraining time: 1.974s\n",
      "\tPrediction time: 0.045s\n",
      "accuracy_score (When the model see new data):  63.2 % accuracy score\n",
      "\n",
      ">>>> Classifiers : RandomForestClassifier()\n",
      "\tTraining time: 5.652s\n",
      "\tPrediction time: 0.031s\n",
      "accuracy_score (When the model see new data):  60.3 % accuracy score\n",
      "\n",
      ">>>> Classifiers : KNeighborsClassifier()\n",
      "\tTraining time: 0.012s\n",
      "\tPrediction time: 0.349s\n",
      "accuracy_score (When the model see new data):  49.4 % accuracy score\n"
     ]
    }
   ],
   "source": [
    "# Setting up parameters for feature extraction\n",
    "# For the first test, training with random freq value of 1530\n",
    "freq, feature = 1250,'Audio_Silence_Uniform_Norm'\n",
    "\n",
    "# Performing feature extraction using Feature_extraction function\n",
    "data_spectrogram = Feature_extraction(train_df, freq, feature)\n",
    "\n",
    "# Finding the maximum length and index of the feature in 'Features'\n",
    "max_length, max_index = find_max_length(Get_lengths_audio_features(data_spectrogram))\n",
    "\n",
    "# Setting the number of columns for the spectrogram data based on the maximum length\n",
    "num_column = max_length\n",
    "\n",
    "# Standardize the features using StandardScaler\n",
    "scaler = StandardScaler()\n",
    "data_spectrogram_standardized = scaler.fit_transform(data_spectrogram)\n",
    "\n",
    "# Convert the standardized arrays back to DataFrames\n",
    "columns = [\"X_%s\" % x for x in range(num_column)]\n",
    "data_spect_standardized_df = pd.DataFrame(data_spectrogram_standardized, columns=columns)\n",
    "\n",
    "X, y = data_spect_standardized_df.values, train_df['Target'].values\n",
    "Train_Classification_Model(X, y, threshold_test)"
   ]
  },
  {
   "cell_type": "code",
   "execution_count": null,
   "id": "c6db043e",
   "metadata": {},
   "outputs": [
    {
     "name": "stdout",
     "output_type": "stream",
     "text": [
      "1200\n",
      "1220\n",
      "1240\n",
      "1260\n",
      "1280\n"
     ]
    }
   ],
   "source": [
    "# Loop over different max_freq values with a step of 30 from 1500 to 2050 \n",
    "for max_freq in range(1200, 1300, 20):\n",
    "    print(max_freq)"
   ]
  },
  {
   "cell_type": "markdown",
   "id": "070f0446",
   "metadata": {},
   "source": [
    "### Optimize Model Performance: Identifying the Optimal Frequency, stride and window for Training\n"
   ]
  },
  {
   "cell_type": "code",
   "execution_count": null,
   "id": "6381d207",
   "metadata": {},
   "outputs": [],
   "source": [
    "from itertools import product\n",
    "import time\n",
    "\n",
    "def try_spectrogram_configurations(samples, feature, sample_rate, stride_ms, window_ms, max_freq=1250, eps=1e-14):\n",
    "    list_of_spec = []\n",
    "    for sample in samples[feature]:\n",
    "        specgram = spectrogram(sample, sample_rate, stride_ms, window_ms, max_freq=max_freq, eps=eps)\n",
    "        # Get the mean of array in column-wise \n",
    "        mean = np.mean(specgram,dtype = np.float32, axis=0)\n",
    "        list_of_spec.append(mean)\n",
    "    return list_of_spec\n",
    "\n",
    "def generate_combinations_multiplication(list1, list2, list3):\n",
    "    \"\"\"\n",
    "    Generate all combinations using the Multiplication Principle.\n",
    "\n",
    "    Parameters:\n",
    "    - list1, list2, list3: Lists of values for each parameter.\n",
    "\n",
    "    Returns:\n",
    "    - List of tuples representing all combinations.\n",
    "    \"\"\"\n",
    "    combinations = list(product(list1, list2, list3))\n",
    "    return combinations\n"
   ]
  },
  {
   "cell_type": "code",
   "execution_count": null,
   "id": "8bb5b936",
   "metadata": {},
   "outputs": [],
   "source": [
    "def try_spectrogram_model(train_df, feature, max_freq, stride, window, frequency):\n",
    "    \"\"\"\n",
    "    Try spectrogram configurations and train an ExtraTreesClassifier.\n",
    "\n",
    "    Parameters:\n",
    "    - train_df: DataFrame with training data.\n",
    "    - feature: Feature to extract from the data.\n",
    "    - max_freq: Maximum frequency for spectrogram.\n",
    "    - stride, window, frequency: Spectrogram configurations.\n",
    "\n",
    "    Returns:\n",
    "    - Accuracy score of the trained model.\n",
    "    \"\"\"\n",
    "    print(f\"Extracting features with configuration: Stride={stride}, Window={window}, Frequency={frequency}\")\n",
    "\n",
    "    X = try_spectrogram_configurations(train_df, feature, max_freq, stride, window, frequency)\n",
    "    y = train_df['Target'].values\n",
    "\n",
    "    model = ExtraTreesClassifier(n_jobs=-1)\n",
    "\n",
    "    # Split data into train and test\n",
    "    X_train, X_test, y_train, y_test = train_test_split(X, y, test_size=threshold_test, shuffle=True, random_state=42, stratify=y)\n",
    "\n",
    "    # Standardize the features using StandardScaler\n",
    "    scaler = StandardScaler()\n",
    "    X_train = scaler.fit_transform(X_train)\n",
    "    X_test = scaler.transform(X_test)\n",
    "\n",
    "    # Train the specified model\n",
    "    model.fit(X_train, y_train)\n",
    "\n",
    "    # Save test score accuracy\n",
    "    accuracy = model.score(X_test, y_test)\n",
    "\n",
    "    print(\"Model trained. Accuracy:\", round(accuracy, 5))\n",
    "    return round(accuracy, 5)\n",
    "\n",
    "def progress_update(start_time, current_index, total_combinations):\n",
    "    \"\"\"\n",
    "    Print progress and estimated time remaining.\n",
    "\n",
    "    Parameters:\n",
    "    - start_time: Start time of the process.\n",
    "    - current_index: Current combination index.\n",
    "    - total_combinations: Total number of combinations.\n",
    "    \"\"\"\n",
    "    elapsed_time = time.time() - start_time\n",
    "    average_time_per_combination = elapsed_time / (current_index + 1)\n",
    "    remaining_combinations = total_combinations - (current_index + 1)\n",
    "    remaining_time = remaining_combinations * average_time_per_combination\n",
    "\n",
    "    print(f\"Progress: {current_index + 1}/{total_combinations}, Elapsed Time: {elapsed_time:.2f}s, Estimated Time Remaining: {remaining_time:.2f}s\")\n"
   ]
  },
  {
   "cell_type": "code",
   "execution_count": null,
   "id": "e9e90383",
   "metadata": {},
   "outputs": [
    {
     "name": "stdout",
     "output_type": "stream",
     "text": [
      "----------Start--------------\n",
      "Progress: 1/45, Elapsed Time: 0.00s, Estimated Time Remaining: 0.00s\n",
      "Extracting features with configuration: Stride=5.0, Window=10.0, Frequency=1200\n"
     ]
    },
    {
     "name": "stdout",
     "output_type": "stream",
     "text": [
      "Model trained. Accuracy: 0.6333\n",
      "------------End--------------\n",
      "----------Start--------------\n",
      "Progress: 2/45, Elapsed Time: 9.15s, Estimated Time Remaining: 196.64s\n",
      "Extracting features with configuration: Stride=5.0, Window=10.0, Frequency=1220\n",
      "Model trained. Accuracy: 0.62042\n",
      "------------End--------------\n",
      "----------Start--------------\n",
      "Progress: 3/45, Elapsed Time: 18.07s, Estimated Time Remaining: 253.04s\n",
      "Extracting features with configuration: Stride=5.0, Window=10.0, Frequency=1240\n",
      "Model trained. Accuracy: 0.61546\n",
      "------------End--------------\n",
      "----------Start--------------\n",
      "Progress: 4/45, Elapsed Time: 26.98s, Estimated Time Remaining: 276.55s\n",
      "Extracting features with configuration: Stride=5.0, Window=10.0, Frequency=1260\n",
      "Model trained. Accuracy: 0.62735\n",
      "------------End--------------\n",
      "----------Start--------------\n",
      "Progress: 5/45, Elapsed Time: 35.88s, Estimated Time Remaining: 287.02s\n",
      "Extracting features with configuration: Stride=5.0, Window=10.0, Frequency=1280\n",
      "Model trained. Accuracy: 0.62438\n",
      "------------End--------------\n",
      "----------Start--------------\n",
      "Progress: 6/45, Elapsed Time: 44.80s, Estimated Time Remaining: 291.20s\n",
      "Extracting features with configuration: Stride=5.0, Window=20.0, Frequency=1200\n",
      "Model trained. Accuracy: 0.61645\n",
      "------------End--------------\n",
      "----------Start--------------\n",
      "Progress: 7/45, Elapsed Time: 60.21s, Estimated Time Remaining: 326.85s\n",
      "Extracting features with configuration: Stride=5.0, Window=20.0, Frequency=1220\n",
      "Model trained. Accuracy: 0.61546\n",
      "------------End--------------\n",
      "----------Start--------------\n",
      "Progress: 8/45, Elapsed Time: 78.27s, Estimated Time Remaining: 362.01s\n",
      "Extracting features with configuration: Stride=5.0, Window=20.0, Frequency=1240\n",
      "Model trained. Accuracy: 0.62438\n",
      "------------End--------------\n",
      "----------Start--------------\n",
      "Progress: 9/45, Elapsed Time: 97.55s, Estimated Time Remaining: 390.21s\n",
      "Extracting features with configuration: Stride=5.0, Window=20.0, Frequency=1260\n",
      "Model trained. Accuracy: 0.62141\n",
      "------------End--------------\n",
      "----------Start--------------\n",
      "Progress: 10/45, Elapsed Time: 116.77s, Estimated Time Remaining: 408.70s\n",
      "Extracting features with configuration: Stride=5.0, Window=20.0, Frequency=1280\n",
      "Model trained. Accuracy: 0.62834\n",
      "------------End--------------\n",
      "----------Start--------------\n",
      "Progress: 11/45, Elapsed Time: 135.57s, Estimated Time Remaining: 419.04s\n",
      "Extracting features with configuration: Stride=5.0, Window=30.0, Frequency=1200\n",
      "Model trained. Accuracy: 0.60852\n",
      "------------End--------------\n",
      "----------Start--------------\n",
      "Progress: 12/45, Elapsed Time: 163.75s, Estimated Time Remaining: 450.31s\n",
      "Extracting features with configuration: Stride=5.0, Window=30.0, Frequency=1220\n",
      "Model trained. Accuracy: 0.59663\n",
      "------------End--------------\n",
      "----------Start--------------\n",
      "Progress: 13/45, Elapsed Time: 192.01s, Estimated Time Remaining: 472.65s\n",
      "Extracting features with configuration: Stride=5.0, Window=30.0, Frequency=1240\n",
      "Model trained. Accuracy: 0.60951\n",
      "------------End--------------\n",
      "----------Start--------------\n",
      "Progress: 14/45, Elapsed Time: 220.41s, Estimated Time Remaining: 488.05s\n",
      "Extracting features with configuration: Stride=5.0, Window=30.0, Frequency=1260\n",
      "Model trained. Accuracy: 0.60852\n",
      "------------End--------------\n",
      "----------Start--------------\n",
      "Progress: 15/45, Elapsed Time: 248.84s, Estimated Time Remaining: 497.67s\n",
      "Extracting features with configuration: Stride=5.0, Window=30.0, Frequency=1280\n",
      "Model trained. Accuracy: 0.60555\n",
      "------------End--------------\n",
      "----------Start--------------\n",
      "Progress: 16/45, Elapsed Time: 277.13s, Estimated Time Remaining: 502.30s\n",
      "Extracting features with configuration: Stride=10.0, Window=10.0, Frequency=1200\n",
      "Model trained. Accuracy: 0.62438\n",
      "------------End--------------\n",
      "----------Start--------------\n",
      "Progress: 17/45, Elapsed Time: 283.49s, Estimated Time Remaining: 466.92s\n",
      "Extracting features with configuration: Stride=10.0, Window=10.0, Frequency=1220\n",
      "Model trained. Accuracy: 0.60654\n",
      "------------End--------------\n",
      "----------Start--------------\n",
      "Progress: 18/45, Elapsed Time: 289.79s, Estimated Time Remaining: 434.68s\n",
      "Extracting features with configuration: Stride=10.0, Window=10.0, Frequency=1240\n",
      "Model trained. Accuracy: 0.59762\n",
      "------------End--------------\n",
      "----------Start--------------\n",
      "Progress: 19/45, Elapsed Time: 296.36s, Estimated Time Remaining: 405.54s\n",
      "Extracting features with configuration: Stride=10.0, Window=10.0, Frequency=1260\n",
      "Model trained. Accuracy: 0.61744\n",
      "------------End--------------\n",
      "----------Start--------------\n",
      "Progress: 20/45, Elapsed Time: 302.82s, Estimated Time Remaining: 378.52s\n",
      "Extracting features with configuration: Stride=10.0, Window=10.0, Frequency=1280\n",
      "Model trained. Accuracy: 0.61051\n",
      "------------End--------------\n",
      "----------Start--------------\n",
      "Progress: 21/45, Elapsed Time: 309.30s, Estimated Time Remaining: 353.49s\n",
      "Extracting features with configuration: Stride=10.0, Window=20.0, Frequency=1200\n",
      "Model trained. Accuracy: 0.61249\n",
      "------------End--------------\n",
      "----------Start--------------\n",
      "Progress: 22/45, Elapsed Time: 320.13s, Estimated Time Remaining: 334.68s\n",
      "Extracting features with configuration: Stride=10.0, Window=20.0, Frequency=1220\n",
      "Model trained. Accuracy: 0.61348\n",
      "------------End--------------\n",
      "----------Start--------------\n",
      "Progress: 23/45, Elapsed Time: 332.41s, Estimated Time Remaining: 317.96s\n",
      "Extracting features with configuration: Stride=10.0, Window=20.0, Frequency=1240\n",
      "Model trained. Accuracy: 0.60852\n",
      "------------End--------------\n",
      "----------Start--------------\n",
      "Progress: 24/45, Elapsed Time: 343.69s, Estimated Time Remaining: 300.72s\n",
      "Extracting features with configuration: Stride=10.0, Window=20.0, Frequency=1260\n",
      "Model trained. Accuracy: 0.59762\n",
      "------------End--------------\n",
      "----------Start--------------\n",
      "Progress: 25/45, Elapsed Time: 354.76s, Estimated Time Remaining: 283.80s\n",
      "Extracting features with configuration: Stride=10.0, Window=20.0, Frequency=1280\n",
      "Model trained. Accuracy: 0.60753\n",
      "------------End--------------\n",
      "----------Start--------------\n",
      "Progress: 26/45, Elapsed Time: 365.81s, Estimated Time Remaining: 267.32s\n",
      "Extracting features with configuration: Stride=10.0, Window=30.0, Frequency=1200\n",
      "Model trained. Accuracy: 0.60159\n",
      "------------End--------------\n",
      "----------Start--------------\n",
      "Progress: 27/45, Elapsed Time: 380.97s, Estimated Time Remaining: 253.98s\n",
      "Extracting features with configuration: Stride=10.0, Window=30.0, Frequency=1220\n",
      "Model trained. Accuracy: 0.57879\n",
      "------------End--------------\n",
      "----------Start--------------\n",
      "Progress: 28/45, Elapsed Time: 396.27s, Estimated Time Remaining: 240.59s\n",
      "Extracting features with configuration: Stride=10.0, Window=30.0, Frequency=1240\n",
      "Model trained. Accuracy: 0.60059\n",
      "------------End--------------\n",
      "----------Start--------------\n",
      "Progress: 29/45, Elapsed Time: 411.56s, Estimated Time Remaining: 227.07s\n",
      "Extracting features with configuration: Stride=10.0, Window=30.0, Frequency=1260\n",
      "Model trained. Accuracy: 0.60159\n",
      "------------End--------------\n",
      "----------Start--------------\n",
      "Progress: 30/45, Elapsed Time: 426.75s, Estimated Time Remaining: 213.37s\n",
      "Extracting features with configuration: Stride=10.0, Window=30.0, Frequency=1280\n",
      "Model trained. Accuracy: 0.60357\n",
      "------------End--------------\n",
      "----------Start--------------\n",
      "Progress: 31/45, Elapsed Time: 441.79s, Estimated Time Remaining: 199.52s\n",
      "Extracting features with configuration: Stride=15.0, Window=10.0, Frequency=1200\n",
      "Model trained. Accuracy: 0.60258\n",
      "------------End--------------\n",
      "----------Start--------------\n",
      "Progress: 32/45, Elapsed Time: 446.31s, Estimated Time Remaining: 181.31s\n",
      "Extracting features with configuration: Stride=15.0, Window=10.0, Frequency=1220\n",
      "Model trained. Accuracy: 0.60357\n",
      "------------End--------------\n",
      "----------Start--------------\n",
      "Progress: 33/45, Elapsed Time: 450.85s, Estimated Time Remaining: 163.95s\n",
      "Extracting features with configuration: Stride=15.0, Window=10.0, Frequency=1240\n",
      "Model trained. Accuracy: 0.61546\n",
      "------------End--------------\n",
      "----------Start--------------\n",
      "Progress: 34/45, Elapsed Time: 455.46s, Estimated Time Remaining: 147.36s\n",
      "Extracting features with configuration: Stride=15.0, Window=10.0, Frequency=1260\n",
      "Model trained. Accuracy: 0.61546\n",
      "------------End--------------\n",
      "----------Start--------------\n",
      "Progress: 35/45, Elapsed Time: 460.22s, Estimated Time Remaining: 131.49s\n",
      "Extracting features with configuration: Stride=15.0, Window=10.0, Frequency=1280\n",
      "Model trained. Accuracy: 0.60456\n",
      "------------End--------------\n",
      "----------Start--------------\n",
      "Progress: 36/45, Elapsed Time: 464.92s, Estimated Time Remaining: 116.23s\n",
      "Extracting features with configuration: Stride=15.0, Window=20.0, Frequency=1200\n",
      "Model trained. Accuracy: 0.60555\n",
      "------------End--------------\n",
      "----------Start--------------\n",
      "Progress: 37/45, Elapsed Time: 472.82s, Estimated Time Remaining: 102.23s\n",
      "Extracting features with configuration: Stride=15.0, Window=20.0, Frequency=1220\n",
      "Model trained. Accuracy: 0.61943\n",
      "------------End--------------\n",
      "----------Start--------------\n",
      "Progress: 38/45, Elapsed Time: 480.64s, Estimated Time Remaining: 88.54s\n",
      "Extracting features with configuration: Stride=15.0, Window=20.0, Frequency=1240\n",
      "Model trained. Accuracy: 0.60753\n",
      "------------End--------------\n",
      "----------Start--------------\n",
      "Progress: 39/45, Elapsed Time: 488.29s, Estimated Time Remaining: 75.12s\n",
      "Extracting features with configuration: Stride=15.0, Window=20.0, Frequency=1260\n",
      "Model trained. Accuracy: 0.60258\n",
      "------------End--------------\n",
      "----------Start--------------\n",
      "Progress: 40/45, Elapsed Time: 496.12s, Estimated Time Remaining: 62.01s\n",
      "Extracting features with configuration: Stride=15.0, Window=20.0, Frequency=1280\n",
      "Model trained. Accuracy: 0.61051\n",
      "------------End--------------\n",
      "----------Start--------------\n",
      "Progress: 41/45, Elapsed Time: 503.70s, Estimated Time Remaining: 49.14s\n",
      "Extracting features with configuration: Stride=15.0, Window=30.0, Frequency=1200\n",
      "Model trained. Accuracy: 0.58176\n",
      "------------End--------------\n",
      "----------Start--------------\n",
      "Progress: 42/45, Elapsed Time: 515.14s, Estimated Time Remaining: 36.80s\n",
      "Extracting features with configuration: Stride=15.0, Window=30.0, Frequency=1220\n",
      "Model trained. Accuracy: 0.58375\n",
      "------------End--------------\n",
      "----------Start--------------\n",
      "Progress: 43/45, Elapsed Time: 530.41s, Estimated Time Remaining: 24.67s\n",
      "Extracting features with configuration: Stride=15.0, Window=30.0, Frequency=1240\n",
      "Model trained. Accuracy: 0.59167\n",
      "------------End--------------\n",
      "----------Start--------------\n",
      "Progress: 44/45, Elapsed Time: 541.90s, Estimated Time Remaining: 12.32s\n",
      "Extracting features with configuration: Stride=15.0, Window=30.0, Frequency=1260\n",
      "Model trained. Accuracy: 0.58672\n",
      "------------End--------------\n",
      "----------Start--------------\n",
      "Progress: 45/45, Elapsed Time: 553.16s, Estimated Time Remaining: 0.00s\n",
      "Extracting features with configuration: Stride=15.0, Window=30.0, Frequency=1280\n",
      "Model trained. Accuracy: 0.6115\n",
      "------------End--------------\n",
      "All combinations processed.\n"
     ]
    }
   ],
   "source": [
    "# the provided lists\n",
    "stride_values_to_try = [5.0, 10.0, 15.0]\n",
    "window_values_to_try = [10.0, 20.0, 30.0]\n",
    "list_of_frequence = [max_freq for max_freq in range(1200, 1300, 20)]\n",
    "\n",
    "combinations = generate_combinations_multiplication(stride_values_to_try, window_values_to_try, list_of_frequence)\n",
    "results = {}\n",
    "\n",
    "start_time = time.time()\n",
    "\n",
    "# Extracting and assigning values to variables dynamically\n",
    "for i, combination in enumerate(combinations):\n",
    "    stride_value, window_value, frequence_value = combination\n",
    "    \n",
    "    print(\"----------Start--------------\")\n",
    "    progress_update(start_time, i, len(combinations))\n",
    "\n",
    "    results[(frequence_value, stride_value, window_value)] = try_spectrogram_model(train_df, feature, 16000, stride_value, window_value, frequence_value)\n",
    "    \n",
    "    print(\"------------End--------------\")\n",
    "\n",
    "print(\"All combinations processed.\")"
   ]
  },
  {
   "cell_type": "code",
   "execution_count": null,
   "id": "1ceb6440",
   "metadata": {},
   "outputs": [],
   "source": [
    "import plotly.graph_objects as go\n",
    "import seaborn as sns  # Import Seaborn for color palette\n",
    "\n",
    "def visualize_top_configurations(results, top_n=10):\n",
    "    \"\"\"\n",
    "    Visualize the top configurations with the highest accuracy.\n",
    "\n",
    "    Parameters:\n",
    "    - results: Dictionary containing configurations and their accuracies.\n",
    "    - top_n: Number of top configurations to visualize.\n",
    "\n",
    "    Returns:\n",
    "    - None (displays the plot).\n",
    "    \"\"\"\n",
    "    # Sort the results by accuracy in descending order\n",
    "    sorted_results = sorted(results.items(), key=lambda x: x[1], reverse=True)\n",
    "\n",
    "    # Take the top configurations\n",
    "    top_results = sorted_results[:top_n]\n",
    "\n",
    "    # Extract configuration values and accuracies\n",
    "    configurations, accuracies = zip(*top_results)\n",
    "    frequence_values, stride_values, window_values = zip(*configurations)\n",
    "\n",
    "    # Define a color palette using Seaborn\n",
    "    palette = sns.color_palette(\"viridis\", n_colors=top_n).as_hex()\n",
    "\n",
    "    # Create a bar chart with custom colors and percentage labels\n",
    "    fig = go.Figure()\n",
    "\n",
    "    for i in range(top_n):\n",
    "        fig.add_trace(go.Bar(\n",
    "            x=[f\"Config {i+1}\"],\n",
    "            y=[accuracies[i]],\n",
    "            text=[f\"{accuracies[i]*100:.2f}%\"],  # Accuracy in percentage format\n",
    "            hoverinfo='text',\n",
    "            marker=dict(color=palette[i]),\n",
    "        ))\n",
    "\n",
    "    fig.update_layout(\n",
    "        title=f'Top {top_n} Configurations with Highest Accuracy',\n",
    "        xaxis=dict(title='Configuration'),\n",
    "        yaxis=dict(title='Accuracy'),\n",
    "    )\n",
    "\n",
    "    fig.show()\n"
   ]
  },
  {
   "cell_type": "code",
   "execution_count": null,
   "id": "cf328179",
   "metadata": {},
   "outputs": [
    {
     "data": {
      "application/vnd.plotly.v1+json": {
       "config": {
        "plotlyServerURL": "https://plot.ly"
       },
       "data": [
        {
         "hoverinfo": "text",
         "marker": {
          "color": "#482173"
         },
         "text": [
          "63.33%"
         ],
         "type": "bar",
         "x": [
          "Config 1"
         ],
         "y": [
          0.6333
         ]
        },
        {
         "hoverinfo": "text",
         "marker": {
          "color": "#433e85"
         },
         "text": [
          "62.83%"
         ],
         "type": "bar",
         "x": [
          "Config 2"
         ],
         "y": [
          0.62834
         ]
        },
        {
         "hoverinfo": "text",
         "marker": {
          "color": "#38588c"
         },
         "text": [
          "62.73%"
         ],
         "type": "bar",
         "x": [
          "Config 3"
         ],
         "y": [
          0.62735
         ]
        },
        {
         "hoverinfo": "text",
         "marker": {
          "color": "#2d708e"
         },
         "text": [
          "62.44%"
         ],
         "type": "bar",
         "x": [
          "Config 4"
         ],
         "y": [
          0.62438
         ]
        },
        {
         "hoverinfo": "text",
         "marker": {
          "color": "#25858e"
         },
         "text": [
          "62.44%"
         ],
         "type": "bar",
         "x": [
          "Config 5"
         ],
         "y": [
          0.62438
         ]
        },
        {
         "hoverinfo": "text",
         "marker": {
          "color": "#1e9b8a"
         },
         "text": [
          "62.44%"
         ],
         "type": "bar",
         "x": [
          "Config 6"
         ],
         "y": [
          0.62438
         ]
        },
        {
         "hoverinfo": "text",
         "marker": {
          "color": "#2ab07f"
         },
         "text": [
          "62.14%"
         ],
         "type": "bar",
         "x": [
          "Config 7"
         ],
         "y": [
          0.62141
         ]
        },
        {
         "hoverinfo": "text",
         "marker": {
          "color": "#52c569"
         },
         "text": [
          "62.04%"
         ],
         "type": "bar",
         "x": [
          "Config 8"
         ],
         "y": [
          0.62042
         ]
        },
        {
         "hoverinfo": "text",
         "marker": {
          "color": "#86d549"
         },
         "text": [
          "61.94%"
         ],
         "type": "bar",
         "x": [
          "Config 9"
         ],
         "y": [
          0.61943
         ]
        },
        {
         "hoverinfo": "text",
         "marker": {
          "color": "#c2df23"
         },
         "text": [
          "61.74%"
         ],
         "type": "bar",
         "x": [
          "Config 10"
         ],
         "y": [
          0.61744
         ]
        }
       ],
       "layout": {
        "template": {
         "data": {
          "bar": [
           {
            "error_x": {
             "color": "#2a3f5f"
            },
            "error_y": {
             "color": "#2a3f5f"
            },
            "marker": {
             "line": {
              "color": "#E5ECF6",
              "width": 0.5
             },
             "pattern": {
              "fillmode": "overlay",
              "size": 10,
              "solidity": 0.2
             }
            },
            "type": "bar"
           }
          ],
          "barpolar": [
           {
            "marker": {
             "line": {
              "color": "#E5ECF6",
              "width": 0.5
             },
             "pattern": {
              "fillmode": "overlay",
              "size": 10,
              "solidity": 0.2
             }
            },
            "type": "barpolar"
           }
          ],
          "carpet": [
           {
            "aaxis": {
             "endlinecolor": "#2a3f5f",
             "gridcolor": "white",
             "linecolor": "white",
             "minorgridcolor": "white",
             "startlinecolor": "#2a3f5f"
            },
            "baxis": {
             "endlinecolor": "#2a3f5f",
             "gridcolor": "white",
             "linecolor": "white",
             "minorgridcolor": "white",
             "startlinecolor": "#2a3f5f"
            },
            "type": "carpet"
           }
          ],
          "choropleth": [
           {
            "colorbar": {
             "outlinewidth": 0,
             "ticks": ""
            },
            "type": "choropleth"
           }
          ],
          "contour": [
           {
            "colorbar": {
             "outlinewidth": 0,
             "ticks": ""
            },
            "colorscale": [
             [
              0,
              "#0d0887"
             ],
             [
              0.1111111111111111,
              "#46039f"
             ],
             [
              0.2222222222222222,
              "#7201a8"
             ],
             [
              0.3333333333333333,
              "#9c179e"
             ],
             [
              0.4444444444444444,
              "#bd3786"
             ],
             [
              0.5555555555555556,
              "#d8576b"
             ],
             [
              0.6666666666666666,
              "#ed7953"
             ],
             [
              0.7777777777777778,
              "#fb9f3a"
             ],
             [
              0.8888888888888888,
              "#fdca26"
             ],
             [
              1,
              "#f0f921"
             ]
            ],
            "type": "contour"
           }
          ],
          "contourcarpet": [
           {
            "colorbar": {
             "outlinewidth": 0,
             "ticks": ""
            },
            "type": "contourcarpet"
           }
          ],
          "heatmap": [
           {
            "colorbar": {
             "outlinewidth": 0,
             "ticks": ""
            },
            "colorscale": [
             [
              0,
              "#0d0887"
             ],
             [
              0.1111111111111111,
              "#46039f"
             ],
             [
              0.2222222222222222,
              "#7201a8"
             ],
             [
              0.3333333333333333,
              "#9c179e"
             ],
             [
              0.4444444444444444,
              "#bd3786"
             ],
             [
              0.5555555555555556,
              "#d8576b"
             ],
             [
              0.6666666666666666,
              "#ed7953"
             ],
             [
              0.7777777777777778,
              "#fb9f3a"
             ],
             [
              0.8888888888888888,
              "#fdca26"
             ],
             [
              1,
              "#f0f921"
             ]
            ],
            "type": "heatmap"
           }
          ],
          "heatmapgl": [
           {
            "colorbar": {
             "outlinewidth": 0,
             "ticks": ""
            },
            "colorscale": [
             [
              0,
              "#0d0887"
             ],
             [
              0.1111111111111111,
              "#46039f"
             ],
             [
              0.2222222222222222,
              "#7201a8"
             ],
             [
              0.3333333333333333,
              "#9c179e"
             ],
             [
              0.4444444444444444,
              "#bd3786"
             ],
             [
              0.5555555555555556,
              "#d8576b"
             ],
             [
              0.6666666666666666,
              "#ed7953"
             ],
             [
              0.7777777777777778,
              "#fb9f3a"
             ],
             [
              0.8888888888888888,
              "#fdca26"
             ],
             [
              1,
              "#f0f921"
             ]
            ],
            "type": "heatmapgl"
           }
          ],
          "histogram": [
           {
            "marker": {
             "pattern": {
              "fillmode": "overlay",
              "size": 10,
              "solidity": 0.2
             }
            },
            "type": "histogram"
           }
          ],
          "histogram2d": [
           {
            "colorbar": {
             "outlinewidth": 0,
             "ticks": ""
            },
            "colorscale": [
             [
              0,
              "#0d0887"
             ],
             [
              0.1111111111111111,
              "#46039f"
             ],
             [
              0.2222222222222222,
              "#7201a8"
             ],
             [
              0.3333333333333333,
              "#9c179e"
             ],
             [
              0.4444444444444444,
              "#bd3786"
             ],
             [
              0.5555555555555556,
              "#d8576b"
             ],
             [
              0.6666666666666666,
              "#ed7953"
             ],
             [
              0.7777777777777778,
              "#fb9f3a"
             ],
             [
              0.8888888888888888,
              "#fdca26"
             ],
             [
              1,
              "#f0f921"
             ]
            ],
            "type": "histogram2d"
           }
          ],
          "histogram2dcontour": [
           {
            "colorbar": {
             "outlinewidth": 0,
             "ticks": ""
            },
            "colorscale": [
             [
              0,
              "#0d0887"
             ],
             [
              0.1111111111111111,
              "#46039f"
             ],
             [
              0.2222222222222222,
              "#7201a8"
             ],
             [
              0.3333333333333333,
              "#9c179e"
             ],
             [
              0.4444444444444444,
              "#bd3786"
             ],
             [
              0.5555555555555556,
              "#d8576b"
             ],
             [
              0.6666666666666666,
              "#ed7953"
             ],
             [
              0.7777777777777778,
              "#fb9f3a"
             ],
             [
              0.8888888888888888,
              "#fdca26"
             ],
             [
              1,
              "#f0f921"
             ]
            ],
            "type": "histogram2dcontour"
           }
          ],
          "mesh3d": [
           {
            "colorbar": {
             "outlinewidth": 0,
             "ticks": ""
            },
            "type": "mesh3d"
           }
          ],
          "parcoords": [
           {
            "line": {
             "colorbar": {
              "outlinewidth": 0,
              "ticks": ""
             }
            },
            "type": "parcoords"
           }
          ],
          "pie": [
           {
            "automargin": true,
            "type": "pie"
           }
          ],
          "scatter": [
           {
            "fillpattern": {
             "fillmode": "overlay",
             "size": 10,
             "solidity": 0.2
            },
            "type": "scatter"
           }
          ],
          "scatter3d": [
           {
            "line": {
             "colorbar": {
              "outlinewidth": 0,
              "ticks": ""
             }
            },
            "marker": {
             "colorbar": {
              "outlinewidth": 0,
              "ticks": ""
             }
            },
            "type": "scatter3d"
           }
          ],
          "scattercarpet": [
           {
            "marker": {
             "colorbar": {
              "outlinewidth": 0,
              "ticks": ""
             }
            },
            "type": "scattercarpet"
           }
          ],
          "scattergeo": [
           {
            "marker": {
             "colorbar": {
              "outlinewidth": 0,
              "ticks": ""
             }
            },
            "type": "scattergeo"
           }
          ],
          "scattergl": [
           {
            "marker": {
             "colorbar": {
              "outlinewidth": 0,
              "ticks": ""
             }
            },
            "type": "scattergl"
           }
          ],
          "scattermapbox": [
           {
            "marker": {
             "colorbar": {
              "outlinewidth": 0,
              "ticks": ""
             }
            },
            "type": "scattermapbox"
           }
          ],
          "scatterpolar": [
           {
            "marker": {
             "colorbar": {
              "outlinewidth": 0,
              "ticks": ""
             }
            },
            "type": "scatterpolar"
           }
          ],
          "scatterpolargl": [
           {
            "marker": {
             "colorbar": {
              "outlinewidth": 0,
              "ticks": ""
             }
            },
            "type": "scatterpolargl"
           }
          ],
          "scatterternary": [
           {
            "marker": {
             "colorbar": {
              "outlinewidth": 0,
              "ticks": ""
             }
            },
            "type": "scatterternary"
           }
          ],
          "surface": [
           {
            "colorbar": {
             "outlinewidth": 0,
             "ticks": ""
            },
            "colorscale": [
             [
              0,
              "#0d0887"
             ],
             [
              0.1111111111111111,
              "#46039f"
             ],
             [
              0.2222222222222222,
              "#7201a8"
             ],
             [
              0.3333333333333333,
              "#9c179e"
             ],
             [
              0.4444444444444444,
              "#bd3786"
             ],
             [
              0.5555555555555556,
              "#d8576b"
             ],
             [
              0.6666666666666666,
              "#ed7953"
             ],
             [
              0.7777777777777778,
              "#fb9f3a"
             ],
             [
              0.8888888888888888,
              "#fdca26"
             ],
             [
              1,
              "#f0f921"
             ]
            ],
            "type": "surface"
           }
          ],
          "table": [
           {
            "cells": {
             "fill": {
              "color": "#EBF0F8"
             },
             "line": {
              "color": "white"
             }
            },
            "header": {
             "fill": {
              "color": "#C8D4E3"
             },
             "line": {
              "color": "white"
             }
            },
            "type": "table"
           }
          ]
         },
         "layout": {
          "annotationdefaults": {
           "arrowcolor": "#2a3f5f",
           "arrowhead": 0,
           "arrowwidth": 1
          },
          "autotypenumbers": "strict",
          "coloraxis": {
           "colorbar": {
            "outlinewidth": 0,
            "ticks": ""
           }
          },
          "colorscale": {
           "diverging": [
            [
             0,
             "#8e0152"
            ],
            [
             0.1,
             "#c51b7d"
            ],
            [
             0.2,
             "#de77ae"
            ],
            [
             0.3,
             "#f1b6da"
            ],
            [
             0.4,
             "#fde0ef"
            ],
            [
             0.5,
             "#f7f7f7"
            ],
            [
             0.6,
             "#e6f5d0"
            ],
            [
             0.7,
             "#b8e186"
            ],
            [
             0.8,
             "#7fbc41"
            ],
            [
             0.9,
             "#4d9221"
            ],
            [
             1,
             "#276419"
            ]
           ],
           "sequential": [
            [
             0,
             "#0d0887"
            ],
            [
             0.1111111111111111,
             "#46039f"
            ],
            [
             0.2222222222222222,
             "#7201a8"
            ],
            [
             0.3333333333333333,
             "#9c179e"
            ],
            [
             0.4444444444444444,
             "#bd3786"
            ],
            [
             0.5555555555555556,
             "#d8576b"
            ],
            [
             0.6666666666666666,
             "#ed7953"
            ],
            [
             0.7777777777777778,
             "#fb9f3a"
            ],
            [
             0.8888888888888888,
             "#fdca26"
            ],
            [
             1,
             "#f0f921"
            ]
           ],
           "sequentialminus": [
            [
             0,
             "#0d0887"
            ],
            [
             0.1111111111111111,
             "#46039f"
            ],
            [
             0.2222222222222222,
             "#7201a8"
            ],
            [
             0.3333333333333333,
             "#9c179e"
            ],
            [
             0.4444444444444444,
             "#bd3786"
            ],
            [
             0.5555555555555556,
             "#d8576b"
            ],
            [
             0.6666666666666666,
             "#ed7953"
            ],
            [
             0.7777777777777778,
             "#fb9f3a"
            ],
            [
             0.8888888888888888,
             "#fdca26"
            ],
            [
             1,
             "#f0f921"
            ]
           ]
          },
          "colorway": [
           "#636efa",
           "#EF553B",
           "#00cc96",
           "#ab63fa",
           "#FFA15A",
           "#19d3f3",
           "#FF6692",
           "#B6E880",
           "#FF97FF",
           "#FECB52"
          ],
          "font": {
           "color": "#2a3f5f"
          },
          "geo": {
           "bgcolor": "white",
           "lakecolor": "white",
           "landcolor": "#E5ECF6",
           "showlakes": true,
           "showland": true,
           "subunitcolor": "white"
          },
          "hoverlabel": {
           "align": "left"
          },
          "hovermode": "closest",
          "mapbox": {
           "style": "light"
          },
          "paper_bgcolor": "white",
          "plot_bgcolor": "#E5ECF6",
          "polar": {
           "angularaxis": {
            "gridcolor": "white",
            "linecolor": "white",
            "ticks": ""
           },
           "bgcolor": "#E5ECF6",
           "radialaxis": {
            "gridcolor": "white",
            "linecolor": "white",
            "ticks": ""
           }
          },
          "scene": {
           "xaxis": {
            "backgroundcolor": "#E5ECF6",
            "gridcolor": "white",
            "gridwidth": 2,
            "linecolor": "white",
            "showbackground": true,
            "ticks": "",
            "zerolinecolor": "white"
           },
           "yaxis": {
            "backgroundcolor": "#E5ECF6",
            "gridcolor": "white",
            "gridwidth": 2,
            "linecolor": "white",
            "showbackground": true,
            "ticks": "",
            "zerolinecolor": "white"
           },
           "zaxis": {
            "backgroundcolor": "#E5ECF6",
            "gridcolor": "white",
            "gridwidth": 2,
            "linecolor": "white",
            "showbackground": true,
            "ticks": "",
            "zerolinecolor": "white"
           }
          },
          "shapedefaults": {
           "line": {
            "color": "#2a3f5f"
           }
          },
          "ternary": {
           "aaxis": {
            "gridcolor": "white",
            "linecolor": "white",
            "ticks": ""
           },
           "baxis": {
            "gridcolor": "white",
            "linecolor": "white",
            "ticks": ""
           },
           "bgcolor": "#E5ECF6",
           "caxis": {
            "gridcolor": "white",
            "linecolor": "white",
            "ticks": ""
           }
          },
          "title": {
           "x": 0.05
          },
          "xaxis": {
           "automargin": true,
           "gridcolor": "white",
           "linecolor": "white",
           "ticks": "",
           "title": {
            "standoff": 15
           },
           "zerolinecolor": "white",
           "zerolinewidth": 2
          },
          "yaxis": {
           "automargin": true,
           "gridcolor": "white",
           "linecolor": "white",
           "ticks": "",
           "title": {
            "standoff": 15
           },
           "zerolinecolor": "white",
           "zerolinewidth": 2
          }
         }
        },
        "title": {
         "text": "Top 10 Configurations with Highest Accuracy"
        },
        "xaxis": {
         "title": {
          "text": "Configuration"
         }
        },
        "yaxis": {
         "title": {
          "text": "Accuracy"
         }
        }
       }
      }
     },
     "metadata": {},
     "output_type": "display_data"
    }
   ],
   "source": [
    "# Assuming 'results' is a dictionary containing configurations and accuracies\n",
    "visualize_top_configurations(results)"
   ]
  },
  {
   "cell_type": "code",
   "execution_count": null,
   "id": "b72bcb3b",
   "metadata": {},
   "outputs": [
    {
     "name": "stdout",
     "output_type": "stream",
     "text": [
      "The best configuration is (1200, 5.0, 10.0) with accuracy 63.33%.\n"
     ]
    }
   ],
   "source": [
    "def find_best_configuration(results):\n",
    "    \"\"\"\n",
    "    Find and return the configuration with the maximum accuracy.\n",
    "\n",
    "    Parameters:\n",
    "    - results: Dictionary containing configurations and their accuracies.\n",
    "\n",
    "    Returns:\n",
    "    - Tuple representing the best configuration and its accuracy.\n",
    "    \"\"\"\n",
    "    best_configuration = max(results, key=results.get)\n",
    "    best_accuracy = results[best_configuration]\n",
    "    return best_configuration, best_accuracy\n",
    "\n",
    "best_config, best_accuracy = find_best_configuration(results)\n",
    "print(f\"The best configuration is {best_config} with accuracy {best_accuracy*100:.2f}%.\")"
   ]
  },
  {
   "cell_type": "markdown",
   "id": "acf50a46",
   "metadata": {},
   "source": [
    "# "
   ]
  },
  {
   "cell_type": "code",
   "execution_count": null,
   "id": "2db79aea",
   "metadata": {},
   "outputs": [],
   "source": [
    "def preprocess_data(data_extract, max_freq=1290, stride_ms_best=5.0, window_ms_best=20.0, eps=1e-14, threshold=0.12, random_state=42):\n",
    "    # Extract features\n",
    "    Audio_Features = Feature_extraction(data_extract, max_freq, 'Audio_Silence_Uniform_Norm', stride_ms_best, window_ms_best, eps=eps)\n",
    "\n",
    "    # Find the maximum length and corresponding index\n",
    "    max_length, max_index = find_max_length(Get_lengths_audio_features(Audio_Features))\n",
    "\n",
    "    # Create a DataFrame for the spectrogram data\n",
    "    data_spectrogram = pd.DataFrame(data=Audio_Features, columns=[\"X_%s\" % x for x in range(max_length)])\n",
    "    data_spectrogram[\"Target\"] = data_extract['Target'].values\n",
    "\n",
    "    # Display information about the current max_freq and mark the end of Feature_extraction function execution\n",
    "    print(f\"Processing for max_freq: {max_freq}... Feature_extraction completed.\")\n",
    "\n",
    "    # Split the data into train and test sets\n",
    "    X, y = data_spectrogram.drop(\"Target\", axis=1).values, data_spectrogram[\"Target\"].values\n",
    "    X_train, X_test, y_train, y_test = train_test_split(X, y, test_size=threshold, stratify=y, shuffle=True, random_state=random_state)\n",
    "\n",
    "    # Print the dimensions of X_train, X_test, y_train, y_test\n",
    "    print(f\"Dimensions of X_train: {X_train.shape}\")\n",
    "    print(f\"Dimensions of X_test: {X_test.shape}\")\n",
    "    print(f\"Dimensions of y_train: {y_train.shape}\")\n",
    "\n",
    "    # Print the number of unique classes in y_train and y_test\n",
    "    num_classes_train = len(np.unique(y_train))\n",
    "    num_classes_test = len(np.unique(y_test))\n",
    "    print(f\"Number of classes in y_train: {num_classes_train}\")\n",
    "    print(f\"Number of classes in y_test: {num_classes_test}\")\n",
    "\n",
    "    # Standardize numerical features using StandardScaler\n",
    "    print(\"Standardize numerical features with StandardScaler\")\n",
    "    scaler = StandardScaler()\n",
    "    X_train = scaler.fit_transform(X_train)\n",
    "    X_test = scaler.transform(X_test)\n",
    "\n",
    "    return X_train, X_test, y_train, y_test\n"
   ]
  },
  {
   "cell_type": "code",
   "execution_count": null,
   "id": "cae1cc2d",
   "metadata": {},
   "outputs": [
    {
     "name": "stdout",
     "output_type": "stream",
     "text": [
      "Number of distinct elements in the list: 1\n",
      "Maximum value in the list: 681 at index: 0\n",
      "Processing for max_freq: 1200... Feature_extraction completed.\n",
      "Dimensions of X_train: (8155, 681)\n",
      "Dimensions of X_test: (1009, 681)\n",
      "Dimensions of y_train: (8155,)\n",
      "Number of classes in y_train: 7\n",
      "Number of classes in y_test: 7\n",
      "Standardize numerical features with StandardScaler\n",
      "Accuracy of the ExtraTreesClassifier: 0.638\n",
      "                     precision    recall  f1-score   support\n",
      "\n",
      "      activatemusic       0.69      0.65      0.67        81\n",
      "change languagenone       0.73      0.68      0.70       114\n",
      "   deactivatelights       0.95      0.36      0.52        56\n",
      "       decreaseheat       0.61      0.47      0.53       122\n",
      "     decreasevolume       0.61      0.70      0.65       244\n",
      "       increaseheat       0.63      0.50      0.56       124\n",
      "     increasevolume       0.61      0.76      0.68       268\n",
      "\n",
      "           accuracy                           0.64      1009\n",
      "          macro avg       0.69      0.59      0.62      1009\n",
      "       weighted avg       0.65      0.64      0.63      1009\n",
      "\n"
     ]
    }
   ],
   "source": [
    "# Best values for spectrogram parameters \n",
    "frequence_best, stride_ms_best, window_ms_best = best_config\n",
    "\n",
    "# You can now customize the function call by setting the desired parameters\n",
    "X_train, X_test, y_train, y_test = preprocess_data(train_df, max_freq=frequence_best, stride_ms_best=stride_ms_best, window_ms_best=window_ms_best, threshold=threshold_test, random_state=99)\n",
    "\n",
    "# Define the ExtraTreesClassifier\n",
    "rfc = ExtraTreesClassifier()\n",
    "\n",
    "# Train the model on the training data\n",
    "rfc.fit(X_train, y_train)\n",
    "\n",
    "# Evaluate the model on the test data\n",
    "accuracy = rfc.score(X_test, y_test)\n",
    "\n",
    "# Print the accuracy\n",
    "print(f\"Accuracy of the ExtraTreesClassifier: {accuracy:.3f}\")\n",
    "\n",
    "# Predict the labels for the test set using the ExtraTreesClassifier  Classifier\n",
    "y_pred = rfc.predict(X_test)\n",
    "\n",
    "# Print the evaluation metrics for the dataset using classification_report\n",
    "print(classification_report(y_test, y_pred))"
   ]
  },
  {
   "cell_type": "markdown",
   "id": "724f3ee9",
   "metadata": {},
   "source": [
    "# Model Training using Cross-Validation:"
   ]
  },
  {
   "cell_type": "code",
   "execution_count": null,
   "id": "03169024",
   "metadata": {},
   "outputs": [
    {
     "name": "stdout",
     "output_type": "stream",
     "text": [
      "Shape of the original dataset: X_original (9164, 681), y_original (9164,)\n",
      "\n",
      "StratifiedKFold Cross-Validation Scores: [0.61669394 0.62913257 0.59462999]\n",
      "Mean Accuracy: 0.6134855024542772\n",
      "\n",
      "StratifiedShuffleSplit Cross-Validation Scores: [0.62636364 0.63909091 0.61818182]\n",
      "Mean Accuracy: 0.6278787878787878\n"
     ]
    }
   ],
   "source": [
    "from sklearn.model_selection import cross_val_score, StratifiedKFold, StratifiedShuffleSplit\n",
    "\n",
    "# Define the ExtraTreesClassifier\n",
    "rfc = ExtraTreesClassifier(random_state=42)\n",
    "\n",
    "# Reconstruct the original dataset\n",
    "X_original = np.concatenate((X_train, X_test), axis=0)\n",
    "y_original = np.concatenate((y_train, y_test), axis=0)\n",
    "\n",
    "# Print the shape of the original dataset\n",
    "print(f'Shape of the original dataset: X_original {X_original.shape}, y_original {y_original.shape}')\n",
    "\n",
    "kfolder = 3\n",
    "# Define the cross-validation strategies\n",
    "skf = StratifiedKFold(n_splits=kfolder, shuffle=True, random_state=42)\n",
    "sss = StratifiedShuffleSplit(n_splits=kfolder, test_size=0.12, random_state=0)\n",
    "\n",
    "# Perform cross-validation with StratifiedKFold\n",
    "skf_scores = cross_val_score(rfc, X_original, y_original, cv=skf, scoring='accuracy')\n",
    "print(f'\\nStratifiedKFold Cross-Validation Scores: {skf_scores}')\n",
    "print(f'Mean Accuracy: {skf_scores.mean()}')\n",
    "\n",
    "# Define the ExtraTreesClassifier\n",
    "rfc = ExtraTreesClassifier(random_state=42)\n",
    "\n",
    "# Perform cross-validation with StratifiedShuffleSplit\n",
    "sss_scores = cross_val_score(rfc, X_original, y_original, cv=sss, scoring='accuracy')\n",
    "print(f'\\nStratifiedShuffleSplit Cross-Validation Scores: {sss_scores}')\n",
    "print(f'Mean Accuracy: {sss_scores.mean()}')"
   ]
  },
  {
   "cell_type": "markdown",
   "id": "652d3fec",
   "metadata": {},
   "source": [
    "### Hyperparameter Tuning with GridSearch and StratifiedShuffleSplit Cross-Validation"
   ]
  },
  {
   "cell_type": "code",
   "execution_count": 79,
   "id": "e92e1e8e",
   "metadata": {},
   "outputs": [],
   "source": [
    "from sklearn.model_selection import GridSearchCV, StratifiedShuffleSplit\n",
    "from sklearn.ensemble import ExtraTreesClassifier\n",
    "from sklearn.metrics import classification_report, accuracy_score\n",
    "import time\n",
    "\n",
    "def perform_grid_search(X_train, y_train, X_test, y_test):\n",
    "    \"\"\"\n",
    "    Perform GridSearchCV for ExtraTreesClassifier and display progress updates.\n",
    "\n",
    "    Parameters:\n",
    "    - X_train, y_train: Training data and labels.\n",
    "    - X_test, y_test: Test data and labels.\n",
    "\n",
    "    Returns:\n",
    "    - None (prints relevant information).\n",
    "    \"\"\"\n",
    "    # Define the hyperparameter grid to search over\n",
    "    params = {\n",
    "        'n_estimators': [250, 350, 550, 600],\n",
    "        'criterion': ['gini', 'entropy'],\n",
    "        'max_depth': [15, 25, 35, None]\n",
    "    }\n",
    "\n",
    "    # Create StratifiedShuffleSplit for cross-validation\n",
    "    sss = StratifiedShuffleSplit(n_splits=5, test_size=0.2, random_state=42)\n",
    "\n",
    "    # Create a GridSearchCV instance for ExtraTreesClassifier\n",
    "    gs = GridSearchCV(ExtraTreesClassifier(n_jobs=-1, random_state=42), params, n_jobs=-1, cv=sss, scoring='accuracy')\n",
    "\n",
    "    # Perform the grid search on the training dataset\n",
    "    start_time = time.time()\n",
    "    gs.fit(X_train, y_train)\n",
    "    elapsed_time = time.time() - start_time\n",
    "\n",
    "    # Display information about the best model found by the grid search\n",
    "\n",
    "    # Best score achieved during the GridSearchCV\n",
    "    print(f'GridSearch CV best score: {gs.best_score_:.4f}')\n",
    "\n",
    "    # Test score of the best model on the test set\n",
    "    test_score = gs.score(X_test, y_test)\n",
    "    print(f'GridSearch CV test score: {test_score:.4f}')\n",
    "\n",
    "    # Parameters that resulted in the best score\n",
    "    print('Parameters that give the best results: ', gs.best_params_)\n",
    "\n",
    "    # Estimator that was chosen as the best by the grid search\n",
    "    print('Estimator that was chosen by the search: ', gs.best_estimator_)\n",
    "\n",
    "    # Predict values for the test dataset using the best model\n",
    "    y_pred = gs.best_estimator_.predict(X_test)\n",
    "\n",
    "    # Print classification report and accuracy for the test dataset\n",
    "    print(classification_report(y_test, y_pred))\n",
    "    accuracy = round(accuracy_score(y_test, y_pred), 3)\n",
    "    print(f\"accuracy_score(When the model sees new data): {accuracy * 100:.2f}% accuracy score\")\n",
    "\n",
    "    # Print progress and time information\n",
    "    print(f\"\\nGridSearchCV completed in {elapsed_time:.2f} seconds.\")\n",
    "\n",
    "    # Convert elapsed time to hours, minutes, and seconds\n",
    "    hours, remainder = divmod(elapsed_time, 3600)\n",
    "    minutes, seconds = divmod(remainder, 60)\n",
    "\n",
    "    # Print elapsed time\n",
    "    print(f\"\\nGridSearchCV completed in {int(hours)} hours, {int(minutes)} minutes, and {seconds:.2f} seconds.\")\n",
    "\n",
    "\n",
    "    # Return best parameters and best estimator\n",
    "    return gs.best_params_, gs.best_estimator_"
   ]
  },
  {
   "cell_type": "code",
   "execution_count": 80,
   "id": "62f7f1f2",
   "metadata": {},
   "outputs": [
    {
     "name": "stderr",
     "output_type": "stream",
     "text": [
      "5485.54s - pydevd: Sending message related to process being replaced timed-out after 5 seconds\n",
      "5485.54s - pydevd: Sending message related to process being replaced timed-out after 5 seconds\n",
      "5485.55s - pydevd: Sending message related to process being replaced timed-out after 5 seconds\n",
      "5485.54s - pydevd: Sending message related to process being replaced timed-out after 5 seconds\n",
      "5485.54s - pydevd: Sending message related to process being replaced timed-out after 5 seconds\n",
      "5485.54s - pydevd: Sending message related to process being replaced timed-out after 5 seconds\n",
      "5485.56s - pydevd: Sending message related to process being replaced timed-out after 5 seconds\n",
      "5485.58s - pydevd: Sending message related to process being replaced timed-out after 5 seconds\n",
      "0.02s - Debugger warning: It seems that frozen modules are being used, which may\n",
      "0.00s - make the debugger miss breakpoints. Please pass -Xfrozen_modules=off\n",
      "0.00s - to python to disable frozen modules.\n",
      "0.00s - Note: Debugging will proceed. Set PYDEVD_DISABLE_FILE_VALIDATION=1 to disable this validation.\n",
      "0.01s - Debugger warning: It seems that frozen modules are being used, which may\n",
      "0.00s - make the debugger miss breakpoints. Please pass -Xfrozen_modules=off\n",
      "0.00s - to python to disable frozen modules.\n",
      "0.00s - Note: Debugging will proceed. Set PYDEVD_DISABLE_FILE_VALIDATION=1 to disable this validation.\n",
      "0.04s - Debugger warning: It seems that frozen modules are being used, which may\n",
      "0.00s - make the debugger miss breakpoints. Please pass -Xfrozen_modules=off\n",
      "0.00s - to python to disable frozen modules.\n",
      "0.00s - Note: Debugging will proceed. Set PYDEVD_DISABLE_FILE_VALIDATION=1 to disable this validation.\n",
      "0.01s - Debugger warning: It seems that frozen modules are being used, which may\n",
      "0.00s - make the debugger miss breakpoints. Please pass -Xfrozen_modules=off\n",
      "0.00s - to python to disable frozen modules.\n",
      "0.00s - Note: Debugging will proceed. Set PYDEVD_DISABLE_FILE_VALIDATION=1 to disable this validation.\n",
      "0.02s - Debugger warning: It seems that frozen modules are being used, which may\n",
      "0.00s - make the debugger miss breakpoints. Please pass -Xfrozen_modules=off\n",
      "0.00s - to python to disable frozen modules.\n",
      "0.00s - Note: Debugging will proceed. Set PYDEVD_DISABLE_FILE_VALIDATION=1 to disable this validation.\n",
      "0.01s - Debugger warning: It seems that frozen modules are being used, which may\n",
      "0.00s - make the debugger miss breakpoints. Please pass -Xfrozen_modules=off\n",
      "0.00s - to python to disable frozen modules.\n",
      "0.00s - Note: Debugging will proceed. Set PYDEVD_DISABLE_FILE_VALIDATION=1 to disable this validation.\n",
      "0.03s - Debugger warning: It seems that frozen modules are being used, which may\n",
      "0.00s - make the debugger miss breakpoints. Please pass -Xfrozen_modules=off\n",
      "0.00s - to python to disable frozen modules.\n",
      "0.00s - Note: Debugging will proceed. Set PYDEVD_DISABLE_FILE_VALIDATION=1 to disable this validation.\n",
      "0.01s - Debugger warning: It seems that frozen modules are being used, which may\n",
      "0.00s - make the debugger miss breakpoints. Please pass -Xfrozen_modules=off\n",
      "0.00s - to python to disable frozen modules.\n",
      "0.00s - Note: Debugging will proceed. Set PYDEVD_DISABLE_FILE_VALIDATION=1 to disable this validation.\n",
      "5600.33s - pydevd: Sending message related to process being replaced timed-out after 5 seconds\n",
      "0.01s - Debugger warning: It seems that frozen modules are being used, which may\n",
      "0.00s - make the debugger miss breakpoints. Please pass -Xfrozen_modules=off\n",
      "0.00s - to python to disable frozen modules.\n",
      "0.00s - Note: Debugging will proceed. Set PYDEVD_DISABLE_FILE_VALIDATION=1 to disable this validation.\n",
      "5608.60s - pydevd: Sending message related to process being replaced timed-out after 5 seconds\n",
      "0.01s - Debugger warning: It seems that frozen modules are being used, which may\n",
      "0.00s - make the debugger miss breakpoints. Please pass -Xfrozen_modules=off\n",
      "0.00s - to python to disable frozen modules.\n",
      "0.00s - Note: Debugging will proceed. Set PYDEVD_DISABLE_FILE_VALIDATION=1 to disable this validation.\n",
      "5610.06s - pydevd: Sending message related to process being replaced timed-out after 5 seconds\n",
      "0.06s - Debugger warning: It seems that frozen modules are being used, which may\n",
      "0.00s - make the debugger miss breakpoints. Please pass -Xfrozen_modules=off\n",
      "0.00s - to python to disable frozen modules.\n",
      "0.00s - Note: Debugging will proceed. Set PYDEVD_DISABLE_FILE_VALIDATION=1 to disable this validation.\n",
      "5612.36s - pydevd: Sending message related to process being replaced timed-out after 5 seconds\n",
      "0.10s - Debugger warning: It seems that frozen modules are being used, which may\n",
      "0.00s - make the debugger miss breakpoints. Please pass -Xfrozen_modules=off\n",
      "0.00s - to python to disable frozen modules.\n",
      "0.00s - Note: Debugging will proceed. Set PYDEVD_DISABLE_FILE_VALIDATION=1 to disable this validation.\n",
      "5624.99s - pydevd: Sending message related to process being replaced timed-out after 5 seconds\n",
      "0.01s - Debugger warning: It seems that frozen modules are being used, which may\n",
      "0.00s - make the debugger miss breakpoints. Please pass -Xfrozen_modules=off\n",
      "0.00s - to python to disable frozen modules.\n",
      "0.00s - Note: Debugging will proceed. Set PYDEVD_DISABLE_FILE_VALIDATION=1 to disable this validation.\n",
      "5626.53s - pydevd: Sending message related to process being replaced timed-out after 5 seconds\n",
      "0.04s - Debugger warning: It seems that frozen modules are being used, which may\n",
      "0.00s - make the debugger miss breakpoints. Please pass -Xfrozen_modules=off\n",
      "0.00s - to python to disable frozen modules.\n",
      "0.00s - Note: Debugging will proceed. Set PYDEVD_DISABLE_FILE_VALIDATION=1 to disable this validation.\n",
      "5695.94s - pydevd: Sending message related to process being replaced timed-out after 5 seconds\n",
      "0.01s - Debugger warning: It seems that frozen modules are being used, which may\n",
      "0.00s - make the debugger miss breakpoints. Please pass -Xfrozen_modules=off\n",
      "0.00s - to python to disable frozen modules.\n",
      "0.00s - Note: Debugging will proceed. Set PYDEVD_DISABLE_FILE_VALIDATION=1 to disable this validation.\n",
      "5931.07s - pydevd: Sending message related to process being replaced timed-out after 5 seconds\n",
      "0.01s - Debugger warning: It seems that frozen modules are being used, which may\n",
      "0.00s - make the debugger miss breakpoints. Please pass -Xfrozen_modules=off\n",
      "0.00s - to python to disable frozen modules.\n",
      "0.00s - Note: Debugging will proceed. Set PYDEVD_DISABLE_FILE_VALIDATION=1 to disable this validation.\n"
     ]
    },
    {
     "name": "stdout",
     "output_type": "stream",
     "text": [
      "GridSearch CV best score: 0.6370\n",
      "GridSearch CV test score: 0.6551\n",
      "Parameters that give the best results:  {'criterion': 'entropy', 'max_depth': None, 'n_estimators': 550}\n",
      "Estimator that was chosen by the search:  ExtraTreesClassifier(criterion='entropy', n_estimators=550, n_jobs=-1,\n",
      "                     random_state=42)\n",
      "                     precision    recall  f1-score   support\n",
      "\n",
      "      activatemusic       0.71      0.67      0.69        81\n",
      "change languagenone       0.71      0.69      0.70       114\n",
      "   deactivatelights       0.92      0.39      0.55        56\n",
      "       decreaseheat       0.64      0.52      0.58       122\n",
      "     decreasevolume       0.63      0.71      0.67       244\n",
      "       increaseheat       0.66      0.52      0.58       124\n",
      "     increasevolume       0.63      0.76      0.69       268\n",
      "\n",
      "           accuracy                           0.66      1009\n",
      "          macro avg       0.70      0.61      0.64      1009\n",
      "       weighted avg       0.67      0.66      0.65      1009\n",
      "\n",
      "accuracy_score(When the model sees new data): 65.50% accuracy score\n",
      "\n",
      "GridSearchCV completed in 511.00 seconds.\n"
     ]
    }
   ],
   "source": [
    "best_params, best_estimator = perform_grid_search(X_train, y_train, X_test, y_test)"
   ]
  },
  {
   "cell_type": "markdown",
   "id": "279ff8cb",
   "metadata": {},
   "source": [
    "## SMOTE Technique (Over-Sampling) with Cross-validation :\n",
    "<b>SMOTE</b> stands for Synthetic Minority Over-sampling Technique.  Unlike Random UnderSampling, SMOTE creates new synthetic points in order to have an equal balance of the classes. This is another alternative for solving the \"class imbalance problems\". <br><br>\n",
    "\n",
    "<b> Understanding SMOTE: </b>\n",
    "<ul>\n",
    "<li> <b> Solving the Class Imbalance: </b> SMOTE creates synthetic points from the minority class in order to reach an equal balance between the minority and majority class. </li>\n",
    "<li><b>Location of the synthetic points: </b>   SMOTE picks the distance between the closest neighbors of the minority class, in between these distances it creates synthetic points. </li>\n",
    "<li> <b>Final Effect:  </b> More information is retained since we didn't have to delete any rows unlike in random undersampling.</li>\n",
    "<li><b> Accuracy || Time Tradeoff: </b> Although it is likely that SMOTE will be more accurate than random under-sampling, it will take more time to train since no rows are eliminated as previously stated.</li>\n",
    "\n",
    "</ul>\n",
    "<b> How to dealing with Overfitting during Cross Validation: </b>\n",
    "\n",
    "### The Right Way:\n",
    "<img src=\"9101820.jpg\" width=\"600\" height=\"500\"> <br>\n",
    "As you see above, SMOTE occurs \"during\" cross validation and not \"prior\" to the cross validation process. Synthetic data are created only for the training set without affecting the validation set.\n",
    "\n"
   ]
  },
  {
   "cell_type": "markdown",
   "id": "d88f503e",
   "metadata": {},
   "source": [
    "## Objective\n",
    "The goal is to evaluate the impact of different numbers of neighbors (k values) in the SMOTE (Synthetic Minority Over-sampling Technique) oversampling technique on the performance of an `ExtraTreesClassifier` for imbalanced classification. The evaluation is done through cross-validation, and the results are visualized on a plot.\n",
    "\n",
    "## Key Steps\n",
    "1. **Data Preparation:**\n",
    "   - Concatenate the original datasets (`X_train`, `X_test`, `y_train`, `y_test`) to create `X_original` and `y_original`.\n",
    "\n",
    "2. **Cross-Validation:**\n",
    "   - Employ Stratified K-Fold cross-validation with 5 folds to ensure balanced class distributions in each fold.\n",
    "\n",
    "3. **SMOTE Oversampling:**\n",
    "   - For each fold in the cross-validation, apply SMOTE on the training set (`X_train_fold`, `y_train_fold`) with a specified `k` value.\n",
    "\n",
    "4. **Model Training and Evaluation:**\n",
    "   - Train an `ExtraTreesClassifier` on the resampled training set for each fold.\n",
    "   - Evaluate the trained model on the original testing set to compute accuracy for each fold.\n",
    "\n",
    "5. **Mean Accuracy Calculation:**\n",
    "   - Calculate the mean accuracy across all folds for a specific `k` value.\n",
    "\n",
    "6. **Results Visualization:**\n",
    "   - Plot the mean accuracy against different `k` values to visualize how the choice of `k` impacts the model's performance.\n",
    "\n",
    "## Key Insight\n",
    "The plot helps identify the optimal `k` value that maximizes the mean accuracy across multiple folds, providing insights into the effectiveness of SMOTE in improving model performance on imbalanced datasets.\n",
    "\n"
   ]
  },
  {
   "cell_type": "code",
   "execution_count": 82,
   "id": "1d9bf6f9",
   "metadata": {},
   "outputs": [
    {
     "data": {
      "image/png": "[encoded data removed]",
      "text/plain": [
       "<Figure size 640x480 with 1 Axes>"
      ]
     },
     "metadata": {},
     "output_type": "display_data"
    }
   ],
   "source": [
    "# Concatenate the original datasets\n",
    "X_original = np.concatenate((X_train, X_test), axis=0)\n",
    "y_original = np.concatenate((y_train, y_test), axis=0)\n",
    "\n",
    "# Define the number of neighbors to evaluate\n",
    "k_values = [2, 4, 6, 8, 10, 12]\n",
    "\n",
    "# Lists to store results\n",
    "k_list = []\n",
    "accuracy_list = []\n",
    "\n",
    "# Create StratifiedKFold for cross-validation\n",
    "skf = StratifiedKFold(n_splits=5, shuffle=True, random_state=42)\n",
    "\n",
    "'''\n",
    "'minority': resample only the minority class;\n",
    "'not minority': resample all classes but the minority class;\n",
    "'not majority': resample all classes but the majority class;\n",
    "'all': resample all classes;\n",
    "'auto': equivalent to 'not majority'.\n",
    "'''\n",
    "\n",
    "# Iterate over each value of k\n",
    "for k in k_values:\n",
    "    # Initialize SMOTE with specified sampling strategy and k value\n",
    "    over = SMOTE(sampling_strategy='minority', k_neighbors=k)\n",
    "\n",
    "    # Initialize ExtraTreesClassifier\n",
    "    model = ExtraTreesClassifier(**best_params)\n",
    "\n",
    "    # Lists to store accuracy for each fold\n",
    "    fold_accuracies = []\n",
    "\n",
    "    # Perform cross-validation\n",
    "    for train_index, test_index in skf.split(X_original, y_original):\n",
    "        # Split the data into training and testing sets for the current fold\n",
    "        X_train_fold, X_test_fold = X_original[train_index], X_original[test_index]\n",
    "        y_train_fold, y_test_fold = y_original[train_index], y_original[test_index]\n",
    "\n",
    "        # Apply SMOTE on the training set for the current fold\n",
    "        X_train_resampled, y_train_resampled = over.fit_resample(X_train_fold, y_train_fold)\n",
    "\n",
    "        # Train the ExtraRandomForest model on the resampled training set\n",
    "        model.fit(X_train_resampled, y_train_resampled)\n",
    "\n",
    "        # Apply the trained model on the original testing set\n",
    "        prediction = model.predict(X_test_fold)\n",
    "\n",
    "        # Compute accuracy for the current fold\n",
    "        accuracy = accuracy_score(y_test_fold, prediction)\n",
    "\n",
    "        # Store accuracy for the current fold\n",
    "        fold_accuracies.append(accuracy)\n",
    "\n",
    "    # Calculate the mean accuracy across all folds for the current k value\n",
    "    mean_accuracy = np.mean(fold_accuracies)\n",
    "\n",
    "    # Store results for plotting\n",
    "    k_list.append(k)\n",
    "    accuracy_list.append(mean_accuracy)\n",
    "\n",
    "# Plot the results\n",
    "plt.plot(k_list, accuracy_list, marker='o')\n",
    "plt.xlabel('k (Number of Neighbors)')\n",
    "plt.ylabel('Mean Accuracy across Folds')\n",
    "plt.title('Cross-validated Accuracy vs. k in SMOTE')\n",
    "plt.show()\n"
   ]
  },
  {
   "cell_type": "markdown",
   "id": "645dfe60",
   "metadata": {},
   "source": [
    "### Optimizing Hyperparameters with GridSearchCV, SMOTE Over-Sampling, and Cross-Validation"
   ]
  },
  {
   "cell_type": "code",
   "execution_count": 83,
   "id": "fe62f6ab",
   "metadata": {},
   "outputs": [],
   "source": [
    "def plot_confusion_matrix(y_true, y_pred, labels=None, title=\"Confusion Matrix\", figsize=(12, 6)):\n",
    "    \"\"\"\n",
    "    Plot the confusion matrix using seaborn heatmap.\n",
    "\n",
    "    Parameters:\n",
    "    - y_true: Actual labels.\n",
    "    - y_pred: Predicted labels.\n",
    "    - labels: List of class labels (optional).\n",
    "    - title: Title of the plot (optional).\n",
    "    - figsize: Size of the plot (optional).\n",
    "\n",
    "    Returns:\n",
    "    - None\n",
    "    \"\"\"\n",
    "    # Calculate the confusion matrix\n",
    "    conf_mat = confusion_matrix(y_true, y_pred)\n",
    "\n",
    "    # If labels are not provided, use unique labels from y_true and y_pred\n",
    "    if labels is None:\n",
    "        labels = np.unique(np.concatenate((y_true, y_pred)))\n",
    "\n",
    "    # Create a figure and axis\n",
    "    fig, ax = plt.subplots(figsize=figsize)\n",
    "\n",
    "    # Plot the confusion matrix as a heatmap\n",
    "    sns.heatmap(conf_mat, annot=True, cmap=\"Blues\", fmt='d', xticklabels=labels, yticklabels=labels, ax=ax)\n",
    "\n",
    "    # Set axis labels and title\n",
    "    plt.ylabel('Actual')\n",
    "    plt.xlabel('Predicted')\n",
    "    plt.title(f\"{title}\\n\", size=16)\n",
    "\n",
    "    # Show the plot\n",
    "    plt.show()\n",
    "\n",
    "# plot_confusion_matrix(y_test, y_pred, title=\"Confusion Matrix - ExtraTreesClassifier()\")\n"
   ]
  },
  {
   "cell_type": "markdown",
   "id": "a1d6dd45",
   "metadata": {},
   "source": [
    "# Predict Values of field the target in Eval dataset"
   ]
  },
  {
   "cell_type": "code",
   "execution_count": 85,
   "id": "11315c79",
   "metadata": {},
   "outputs": [
    {
     "name": "stdout",
     "output_type": "stream",
     "text": [
      "Maximum Accuracy at k = 4 with Accuracy = 0.6505867085003942\n"
     ]
    }
   ],
   "source": [
    "def extract_max_k_and_accuracy(k_list, accuracy_list):\n",
    "    # Find the index of the maximum accuracy\n",
    "    max_accuracy_index = accuracy_list.index(max(accuracy_list))\n",
    "    \n",
    "    # Extract the corresponding values of k and accuracy\n",
    "    max_k = k_list[max_accuracy_index]\n",
    "    max_accuracy = accuracy_list[max_accuracy_index]\n",
    "    \n",
    "    return max_k, max_accuracy\n",
    "\n",
    "# Assume you have k_list and accuracy_list as defined in your code\n",
    "max_k, max_accuracy = extract_max_k_and_accuracy(k_list, accuracy_list)\n",
    "print(\"Maximum Accuracy at k =\", max_k, \"with Accuracy =\", max_accuracy)"
   ]
  },
  {
   "cell_type": "code",
   "execution_count": 226,
   "id": "9266d3e6",
   "metadata": {},
   "outputs": [
    {
     "name": "stdout",
     "output_type": "stream",
     "text": [
      "Size of X_train_s: (8064, 681)\n",
      "Size of X_test_s: (1100, 681)\n",
      "Size of y_train_s: (8064,)\n",
      "Size of y_test_s: (1100,)\n",
      "Standardize numerical features with StandardScaler\n",
      "\n",
      "Class distribution after SMOTE with k=4:\n",
      "Class activatemusic: 648 instances\n",
      "Class change languagenone: 911 instances\n",
      "Class deactivatelights: 2139 instances\n",
      "Class decreaseheat: 973 instances\n",
      "Class decreasevolume: 1953 instances\n",
      "Class increaseheat: 989 instances\n",
      "Class increasevolume: 2139 instances\n",
      "Accuracy when the model sees new data: 0.6772727272727272\n",
      "\n",
      "\n",
      "                     precision    recall  f1-score   support\n",
      "\n",
      "      activatemusic       0.76      0.70      0.73        88\n",
      "change languagenone       0.73      0.69      0.71       124\n",
      "   deactivatelights       0.65      0.69      0.67        62\n",
      "       decreaseheat       0.75      0.53      0.62       133\n",
      "     decreasevolume       0.66      0.68      0.67       266\n",
      "       increaseheat       0.66      0.56      0.60       135\n",
      "     increasevolume       0.64      0.78      0.70       292\n",
      "\n",
      "           accuracy                           0.68      1100\n",
      "          macro avg       0.69      0.66      0.67      1100\n",
      "       weighted avg       0.68      0.68      0.68      1100\n",
      "\n"
     ]
    },
    {
     "data": {
      "image/png": "[encoded data removed]",
      "text/plain": [
       "<Figure size 1200x600 with 2 Axes>"
      ]
     },
     "metadata": {},
     "output_type": "display_data"
    }
   ],
   "source": [
    "def train_and_evaluate_model_best_conf(X_original, y_original, max_k, random_state=99):\n",
    "    # Splitting the data into train and test sets with stratify and shuffle\n",
    "    X_train_s, X_test_s, y_train_s, y_test_s = train_test_split(X_original, y_original, test_size=0.12, stratify=y_original, shuffle=True, random_state=random_state)\n",
    "    \n",
    "    # Print the size (dimensions) of the training and testing datasets\n",
    "    print(\"Size of X_train_s:\", X_train_s.shape)\n",
    "    print(\"Size of X_test_s:\", X_test_s.shape)\n",
    "    print(\"Size of y_train_s:\", y_train_s.shape)\n",
    "    print(\"Size of y_test_s:\", y_test_s.shape)\n",
    "\n",
    "    # Standardize numerical features using StandardScaler\n",
    "    print(\"Standardize numerical features with StandardScaler\")\n",
    "    scaler = StandardScaler()\n",
    "    X_train_s = scaler.fit_transform(X_train_s)\n",
    "    X_test_s = scaler.transform(X_test_s)\n",
    "\n",
    "    # Initialize SMOTE with specified sampling strategy and k value\n",
    "    over = SMOTE(sampling_strategy='minority', k_neighbors=max_k)\n",
    "\n",
    "    # Apply SMOTE on the training set for the current fold\n",
    "    X_train_resampled, y_train_resampled = over.fit_resample(X_train_s, y_train_s)\n",
    "\n",
    "    unique_resampled, counts_resampled = np.unique(y_train_resampled, return_counts=True)\n",
    "    print(f\"\\nClass distribution after SMOTE with k={max_k}:\")\n",
    "    for label, count in zip(unique_resampled, counts_resampled):\n",
    "        print(f\"Class {label}: {count} instances\")\n",
    "\n",
    "    # Initialize ExtraTreesClassifier with best hyperparameter\n",
    "    model = ExtraTreesClassifier(n_jobs=-1, criterion='gini' ,max_depth= 25 ,n_estimators=350)\n",
    "\n",
    "    # Train the ExtraTreesClassifier model on the resampled training set\n",
    "    model.fit(X_train_resampled, y_train_resampled)\n",
    "\n",
    "    # Apply the trained model on the original testing set\n",
    "    prediction = model.predict(X_test_s)\n",
    "\n",
    "    # Compute accuracy for the current fold\n",
    "    accuracy = accuracy_score(y_test_s, prediction)\n",
    "\n",
    "    print(\"Accuracy when the model sees new data:\", accuracy)\n",
    "\n",
    "    print(\"\\n\")\n",
    "\n",
    "    # Print the evaluation metrics for the dataset using classification_report\n",
    "    print(classification_report(y_test_s, prediction))\n",
    "\n",
    "    plot_confusion_matrix(prediction, y_test_s, title=\"Confusion Matrix - ExtraTreesClassifier()\")\n",
    "\n",
    "    return model, accuracy, scaler\n",
    "\n",
    "trained_model, accuracy, std_scaler = train_and_evaluate_model_best_conf(X_original, y_original, max_k)"
   ]
  }
 ],
 "metadata": {
  "kernelspec": {
   "display_name": "Python 3 (ipykernel)",
   "language": "python",
   "name": "python3"
  },
  "language_info": {
   "codemirror_mode": {
    "name": "ipython",
    "version": 3
   },
   "file_extension": ".py",
   "mimetype": "text/x-python",
   "name": "python",
   "nbconvert_exporter": "python",
   "pygments_lexer": "ipython3",
   "version": "3.11.6"
  }
 },
 "nbformat": 4,
 "nbformat_minor": 5
}
